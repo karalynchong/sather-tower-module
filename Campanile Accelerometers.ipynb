{
 "cells": [
  {
   "cell_type": "markdown",
   "metadata": {},
   "source": [
    "# Campanile Accelerometers\n"
   ]
  },
  {
   "cell_type": "markdown",
   "metadata": {},
   "source": [
    "Welcome! Throughout this notebook you will using data science methods to analyze data collected from 4 accelerometers attached to the Campanile.\n",
    "\n",
    "*Add more context*\n"
   ]
  },
  {
   "cell_type": "markdown",
   "metadata": {},
   "source": [
    "### Learning Objectives\n",
    "1. "
   ]
  },
  {
   "cell_type": "markdown",
   "metadata": {},
   "source": [
    "<br> \n",
    "\n",
    "## Table of Contents\n",
    "1. [Introduction to Jupyter Notebooks](#1)\n",
    "2. [Importing the Data](#2)\n",
    "3. [Normalizing the Data](#3)\n",
    "4. [Analysis: Bell Ringing](#4)"
   ]
  },
  {
   "cell_type": "markdown",
   "metadata": {},
   "source": [
    "<br>\n",
    "\n",
    "## Introduction to Jupyter Notebooks <a class=\"anchor\" id=\"1\"></a>"
   ]
  },
  {
   "cell_type": "markdown",
   "metadata": {},
   "source": [
    "This lab is set up in a Jupyter Notebook. Notebooks can contain anything from live code, to written text, equations or visualizations. The content of notebooks are written into rectangular sections called **cells**. "
   ]
  },
  {
   "cell_type": "markdown",
   "metadata": {},
   "source": [
    "#### Types of Cells\n",
    "There are two types of cells in Jupyter, **code** cells and **markdown** cells. **Code cells**, as you can imagine, contain code in Python, the programming language that we will be using throughout this notebook.  **Markdown cells**, such as this one, contain written text. You can select any cell by clicking on it one. "
   ]
  },
  {
   "cell_type": "markdown",
   "metadata": {},
   "source": [
    "#### Running Cells\n",
    "'Running' a cell is similar to pressing 'Enter' on a calculator once you've typed in an expression; it computes all of the expressions contained within the cell.\n",
    "\n",
    "To run a cell, you can do one of the following:\n",
    "\n",
    "- press **Shift + Enter**\n",
    "- click the **Run** button on the top tool bar\n",
    "\n",
    "Running a markdown cell will embed the text into the notebook and running a code cell will evaluate the code and display its output under the cell. \n",
    "\n",
    "Let's try it! **Run the code cell below.**"
   ]
  },
  {
   "cell_type": "code",
   "execution_count": 5,
   "metadata": {},
   "outputs": [
    {
     "name": "stdout",
     "output_type": "stream",
     "text": [
      "Hello World!\n"
     ]
    }
   ],
   "source": [
    "print(\"Hello World!\")"
   ]
  },
  {
   "cell_type": "markdown",
   "metadata": {},
   "source": [
    "#### Editing and Saving\n",
    "\n",
    "- To **edit** a cell, simply double click on the desired cell and begin typing. The cell that you are currently working in will be highlighted by a green box.\n",
    "- To **save** the notebook, either click *Ctl + S* or navigate to the \"File\" dropdown and select \"Save and Checkpoint\""
   ]
  },
  {
   "cell_type": "markdown",
   "metadata": {},
   "source": [
    "**Remeber to run the code cell below before beginning the lab!** The code below will load various libraries and packages that are needed throughout this notebook."
   ]
  },
  {
   "cell_type": "code",
   "execution_count": 3,
   "metadata": {},
   "outputs": [],
   "source": [
    "#Libraries and Packages\n",
    "import plotly.express as px\n",
    "import plotly.graph_objects as go\n",
    "import pandas as pd\n",
    "import matplotlib.gridspec as gridspec\n",
    "import matplotlib.pyplot as plt\n",
    "import matplotlib.pyplot as plt\n",
    "import seaborn as sns\n",
    "import numpy as np\n",
    "import matplotlib.mlab as mlab\n",
    "\n",
    "from plotly.subplots import make_subplots\n",
    "from IPython.display import display, Image\n",
    "from scipy import signal\n",
    "#from scipy.fft import fftshift"
   ]
  },
  {
   "cell_type": "markdown",
   "metadata": {},
   "source": [
    "<br>\n",
    "\n",
    "## Importing the Data<a class=\"anchor\" id=\"2\"></a>"
   ]
  },
  {
   "cell_type": "markdown",
   "metadata": {},
   "source": [
    "We will begin by first importing the data set into the notebook."
   ]
  },
  {
   "cell_type": "code",
   "execution_count": 5,
   "metadata": {},
   "outputs": [
    {
     "data": {
      "text/html": [
       "<div>\n",
       "<style scoped>\n",
       "    .dataframe tbody tr th:only-of-type {\n",
       "        vertical-align: middle;\n",
       "    }\n",
       "\n",
       "    .dataframe tbody tr th {\n",
       "        vertical-align: top;\n",
       "    }\n",
       "\n",
       "    .dataframe thead th {\n",
       "        text-align: right;\n",
       "    }\n",
       "</style>\n",
       "<table border=\"1\" class=\"dataframe\">\n",
       "  <thead>\n",
       "    <tr style=\"text-align: right;\">\n",
       "      <th></th>\n",
       "      <th>Sample No.</th>\n",
       "      <th>time[sec]</th>\n",
       "      <th>Ax[mG]</th>\n",
       "      <th>Ay[mG]</th>\n",
       "      <th>Az[mG]</th>\n",
       "      <th>ATotal[mG]</th>\n",
       "      <th>Ts[deg.C]</th>\n",
       "    </tr>\n",
       "  </thead>\n",
       "  <tbody>\n",
       "    <tr>\n",
       "      <td>0</td>\n",
       "      <td>1</td>\n",
       "      <td>0.000</td>\n",
       "      <td>1002.844572</td>\n",
       "      <td>12.062907</td>\n",
       "      <td>10.852396</td>\n",
       "      <td>1002.975834</td>\n",
       "      <td>15.4248</td>\n",
       "    </tr>\n",
       "    <tr>\n",
       "      <td>1</td>\n",
       "      <td>2</td>\n",
       "      <td>0.002</td>\n",
       "      <td>1002.829492</td>\n",
       "      <td>12.024105</td>\n",
       "      <td>10.839164</td>\n",
       "      <td>1002.960147</td>\n",
       "      <td>15.4248</td>\n",
       "    </tr>\n",
       "    <tr>\n",
       "      <td>2</td>\n",
       "      <td>3</td>\n",
       "      <td>0.004</td>\n",
       "      <td>1002.837181</td>\n",
       "      <td>12.014031</td>\n",
       "      <td>10.863066</td>\n",
       "      <td>1002.967973</td>\n",
       "      <td>15.4248</td>\n",
       "    </tr>\n",
       "    <tr>\n",
       "      <td>3</td>\n",
       "      <td>4</td>\n",
       "      <td>0.006</td>\n",
       "      <td>1002.841711</td>\n",
       "      <td>12.053967</td>\n",
       "      <td>10.904431</td>\n",
       "      <td>1002.973430</td>\n",
       "      <td>15.4248</td>\n",
       "    </tr>\n",
       "    <tr>\n",
       "      <td>4</td>\n",
       "      <td>5</td>\n",
       "      <td>0.008</td>\n",
       "      <td>1002.827466</td>\n",
       "      <td>12.071192</td>\n",
       "      <td>10.914207</td>\n",
       "      <td>1002.959500</td>\n",
       "      <td>15.4248</td>\n",
       "    </tr>\n",
       "  </tbody>\n",
       "</table>\n",
       "</div>"
      ],
      "text/plain": [
       "   Sample No.  time[sec]       Ax[mG]     Ay[mG]     Az[mG]   ATotal[mG]  \\\n",
       "0           1      0.000  1002.844572  12.062907  10.852396  1002.975834   \n",
       "1           2      0.002  1002.829492  12.024105  10.839164  1002.960147   \n",
       "2           3      0.004  1002.837181  12.014031  10.863066  1002.967973   \n",
       "3           4      0.006  1002.841711  12.053967  10.904431  1002.973430   \n",
       "4           5      0.008  1002.827466  12.071192  10.914207  1002.959500   \n",
       "\n",
       "   Ts[deg.C]  \n",
       "0    15.4248  \n",
       "1    15.4248  \n",
       "2    15.4248  \n",
       "3    15.4248  \n",
       "4    15.4248  "
      ]
     },
     "execution_count": 5,
     "metadata": {},
     "output_type": "execute_result"
    }
   ],
   "source": [
    "ne_df_original = pd.read_csv('sather_tower_files/NorthEast.csv')\n",
    "ne_df_original.head(5)"
   ]
  },
  {
   "cell_type": "code",
   "execution_count": 6,
   "metadata": {},
   "outputs": [],
   "source": [
    "##Talk about what the data is \n",
    "##Where it comes from \n",
    "##How the accelerometer works \n",
    "##Many add pictures of Campanile\n"
   ]
  },
  {
   "cell_type": "markdown",
   "metadata": {},
   "source": [
    "<br>\n",
    "\n",
    "## Normalizing the Data<a class=\"anchor\" id=\"3\"></a>"
   ]
  },
  {
   "cell_type": "code",
   "execution_count": 7,
   "metadata": {},
   "outputs": [],
   "source": [
    "#Highlight practical use of mechE in data science \n",
    "#Go through how we processed and sampled the data. \n",
    "#Talk about Fourier Transform. \n",
    "#Transforming acceleration data into displacement data using digital integration\n"
   ]
  },
  {
   "cell_type": "markdown",
   "metadata": {},
   "source": [
    "<br>\n",
    "\n",
    "## Analysis: Bell Ringing <a class=\"anchor\" id=\"4\"></a>"
   ]
  },
  {
   "cell_type": "code",
   "execution_count": null,
   "metadata": {},
   "outputs": [],
   "source": []
  }
 ],
 "metadata": {
  "kernelspec": {
   "display_name": "Python 3",
   "language": "python",
   "name": "python3"
  },
  "language_info": {
   "codemirror_mode": {
    "name": "ipython",
    "version": 3
   },
   "file_extension": ".py",
   "mimetype": "text/x-python",
   "name": "python",
   "nbconvert_exporter": "python",
   "pygments_lexer": "ipython3",
   "version": "3.7.4"
  }
 },
 "nbformat": 4,
 "nbformat_minor": 2
}
