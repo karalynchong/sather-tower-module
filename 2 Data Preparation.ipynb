{
  "cells": [
    {
      "cell_type": "markdown",
      "source": "# <center> Data Preparation",
      "metadata": {
        "tags": [],
        "cell_id": "00001-b7dafa44-a392-4672-87fd-edfa03529188",
        "deepnote_cell_type": "markdown"
      }
    },
    {
      "cell_type": "markdown",
      "source": "**Welcome to the second notebook in this series!**\n\nIn this notebook, we will go through the basic steps of data preparation. Depending on the type of data you have, the data preparation process may vary from data set to data set. For the purpose of this notebook we will be doing some simple cleaning and normalization. ",
      "metadata": {
        "tags": [],
        "cell_id": "00001-025c53ab-faad-43fe-8ea6-caa4696c0c81",
        "deepnote_cell_type": "markdown"
      }
    },
    {
      "cell_type": "markdown",
      "source": "<br>\n--\n## Introduction to the Data",
      "metadata": {
        "tags": [],
        "cell_id": "00001-ad60751b-c1a7-43ef-ac45-fc16ead29839",
        "deepnote_cell_type": "markdown"
      }
    },
    {
      "cell_type": "markdown",
      "source": "Throughout the next 4 notebooks, we will use data science methods to analyze data collected on the movement of the Campanile over a short period of time. The data we will be working with was collected by attaching one accelerometer to each of the four corners of the Campanile for a total of 30 minutes. \n\n### The Accelerometers\nEach of the accelerometers measures the movement of the building, which will be refered to as acceleration from this point on. The acceleration is measured in 3 directions: **up & down movement (x variable), left & right movement (y/z variable), and forward & backward movement (y/z variable)**. \n\n(Add photos?)\n\n### The Data \nFor every second of measurement, the accelerometer produced about 500 points of data. With 4 accelerometers measuring over 30 minutes, the original dataset includes roughly 1.2 million rows! Processing all this data would take way too much computing power, so for the purpose of this notebook we will be looking at data from a very small time frame, specifically when the bell rings. \n\nEach row of data contains information on the time, in seconds, acceleration of each variable, in milli-G (mG), the total acceleration of the building, also in mG and the temperature, in degrees Celsius. The majority of our work will be dealing with the time and acceleration of each variable. ",
      "metadata": {
        "tags": [],
        "cell_id": "00003-6f536ac9-9bd2-4128-98e5-ea8bc4564efc",
        "deepnote_cell_type": "markdown"
      }
    },
    {
      "cell_type": "markdown",
      "source": "<br>\n--\n## Importing the Data",
      "metadata": {
        "tags": [],
        "cell_id": "00003-4abe5aa2-d02e-4f6d-8f23-7a1e429357b6",
        "deepnote_cell_type": "markdown"
      }
    },
    {
      "cell_type": "markdown",
      "source": "We will begin by first importing the datasets into the notebook. In this notebook, we will be importing data using the pandas package. Pandas allows users to import many different types of files, such as excel files, csv files, json files, etc. All you need to know in order to be able to do this is the file type and the string path that leads to the desired file. \n\nIn the cell below we import our data set by running the code line: **pd.read_csv('sather-tower-files/SouthWest.csv')**\n- **pd.** is calling the pandas package that we imported under the alias pd\n- **read_csv** is the function in the pandas package that will read in the given file. Notice that we are importing a CSV file, but if we wanted to import an excel file instead, we would only need to change the function call to **read_excel** rather than **read_csv**.\n- **'sather-tower-files/SouthWest.csv'** is the parameter to the function call, and represent the path that the file needs to take to arrive at the desired file. \n\n**Run the cell below to import our data set!**",
      "metadata": {
        "tags": [],
        "cell_id": "00004-fc45dd7a-5f05-49b4-9467-706fbe38411c",
        "deepnote_cell_type": "markdown"
      }
    },
    {
      "cell_type": "code",
      "metadata": {
        "tags": [],
        "cell_id": "00005-d7c1212b-d7f3-446f-80d6-13bd3677e5a8",
        "deepnote_to_be_reexecuted": false,
        "source_hash": "f9836854",
        "execution_millis": 1028,
        "execution_start": 1617128630939,
        "deepnote_cell_type": "code"
      },
      "source": "import pandas as pd\nsw_df_original = pd.read_csv('sather-tower-files/SouthWest.csv')\nsw_df_original.head(5)",
      "execution_count": null,
      "outputs": [
        {
          "output_type": "execute_result",
          "execution_count": 1,
          "data": {
            "application/vnd.deepnote.dataframe.v2+json": {
              "row_count": 5,
              "column_count": 7,
              "columns": [
                {
                  "name": "Sample No.",
                  "dtype": "int64",
                  "stats": {
                    "unique_count": 5,
                    "nan_count": 0,
                    "min": 1,
                    "max": 5,
                    "histogram": [
                      {
                        "bin_start": 1,
                        "bin_end": 1.4,
                        "count": 1
                      },
                      {
                        "bin_start": 1.4,
                        "bin_end": 1.8,
                        "count": 0
                      },
                      {
                        "bin_start": 1.8,
                        "bin_end": 2.2,
                        "count": 1
                      },
                      {
                        "bin_start": 2.2,
                        "bin_end": 2.6,
                        "count": 0
                      },
                      {
                        "bin_start": 2.6,
                        "bin_end": 3,
                        "count": 0
                      },
                      {
                        "bin_start": 3,
                        "bin_end": 3.4000000000000004,
                        "count": 1
                      },
                      {
                        "bin_start": 3.4000000000000004,
                        "bin_end": 3.8000000000000003,
                        "count": 0
                      },
                      {
                        "bin_start": 3.8000000000000003,
                        "bin_end": 4.2,
                        "count": 1
                      },
                      {
                        "bin_start": 4.2,
                        "bin_end": 4.6,
                        "count": 0
                      },
                      {
                        "bin_start": 4.6,
                        "bin_end": 5,
                        "count": 1
                      }
                    ]
                  }
                },
                {
                  "name": "time[sec]",
                  "dtype": "float64",
                  "stats": {
                    "unique_count": 5,
                    "nan_count": 0,
                    "min": 0,
                    "max": 0.008,
                    "histogram": [
                      {
                        "bin_start": 0,
                        "bin_end": 0.0008,
                        "count": 1
                      },
                      {
                        "bin_start": 0.0008,
                        "bin_end": 0.0016,
                        "count": 0
                      },
                      {
                        "bin_start": 0.0016,
                        "bin_end": 0.0024000000000000002,
                        "count": 1
                      },
                      {
                        "bin_start": 0.0024000000000000002,
                        "bin_end": 0.0032,
                        "count": 0
                      },
                      {
                        "bin_start": 0.0032,
                        "bin_end": 0.004,
                        "count": 0
                      },
                      {
                        "bin_start": 0.004,
                        "bin_end": 0.0048000000000000004,
                        "count": 1
                      },
                      {
                        "bin_start": 0.0048000000000000004,
                        "bin_end": 0.0056,
                        "count": 0
                      },
                      {
                        "bin_start": 0.0056,
                        "bin_end": 0.0064,
                        "count": 1
                      },
                      {
                        "bin_start": 0.0064,
                        "bin_end": 0.007200000000000001,
                        "count": 0
                      },
                      {
                        "bin_start": 0.007200000000000001,
                        "bin_end": 0.008,
                        "count": 1
                      }
                    ]
                  }
                },
                {
                  "name": "Ax[mG]",
                  "dtype": "float64",
                  "stats": {
                    "unique_count": 5,
                    "nan_count": 0,
                    "min": 1002.240181,
                    "max": 1002.276957,
                    "histogram": [
                      {
                        "bin_start": 1002.240181,
                        "bin_end": 1002.2438586000001,
                        "count": 1
                      },
                      {
                        "bin_start": 1002.2438586000001,
                        "bin_end": 1002.2475362,
                        "count": 1
                      },
                      {
                        "bin_start": 1002.2475362,
                        "bin_end": 1002.2512138,
                        "count": 0
                      },
                      {
                        "bin_start": 1002.2512138,
                        "bin_end": 1002.2548914,
                        "count": 1
                      },
                      {
                        "bin_start": 1002.2548914,
                        "bin_end": 1002.2585690000001,
                        "count": 0
                      },
                      {
                        "bin_start": 1002.2585690000001,
                        "bin_end": 1002.2622466,
                        "count": 1
                      },
                      {
                        "bin_start": 1002.2622466,
                        "bin_end": 1002.2659242,
                        "count": 0
                      },
                      {
                        "bin_start": 1002.2659242,
                        "bin_end": 1002.2696018,
                        "count": 0
                      },
                      {
                        "bin_start": 1002.2696018,
                        "bin_end": 1002.2732794000001,
                        "count": 0
                      },
                      {
                        "bin_start": 1002.2732794000001,
                        "bin_end": 1002.276957,
                        "count": 1
                      }
                    ]
                  }
                },
                {
                  "name": "Ay[mG]",
                  "dtype": "float64",
                  "stats": {
                    "unique_count": 5,
                    "nan_count": 0,
                    "min": -33.087611,
                    "max": -32.989442,
                    "histogram": [
                      {
                        "bin_start": -33.087611,
                        "bin_end": -33.077794100000006,
                        "count": 2
                      },
                      {
                        "bin_start": -33.077794100000006,
                        "bin_end": -33.0679772,
                        "count": 0
                      },
                      {
                        "bin_start": -33.0679772,
                        "bin_end": -33.0581603,
                        "count": 0
                      },
                      {
                        "bin_start": -33.0581603,
                        "bin_end": -33.0483434,
                        "count": 0
                      },
                      {
                        "bin_start": -33.0483434,
                        "bin_end": -33.0385265,
                        "count": 1
                      },
                      {
                        "bin_start": -33.0385265,
                        "bin_end": -33.0287096,
                        "count": 1
                      },
                      {
                        "bin_start": -33.0287096,
                        "bin_end": -33.018892699999995,
                        "count": 0
                      },
                      {
                        "bin_start": -33.018892699999995,
                        "bin_end": -33.0090758,
                        "count": 0
                      },
                      {
                        "bin_start": -33.0090758,
                        "bin_end": -32.9992589,
                        "count": 0
                      },
                      {
                        "bin_start": -32.9992589,
                        "bin_end": -32.989442,
                        "count": 1
                      }
                    ]
                  }
                },
                {
                  "name": "Az[mG]",
                  "dtype": "float64",
                  "stats": {
                    "unique_count": 5,
                    "nan_count": 0,
                    "min": 3.417969,
                    "max": 3.517032,
                    "histogram": [
                      {
                        "bin_start": 3.417969,
                        "bin_end": 3.4278752999999997,
                        "count": 1
                      },
                      {
                        "bin_start": 3.4278752999999997,
                        "bin_end": 3.4377815999999997,
                        "count": 0
                      },
                      {
                        "bin_start": 3.4377815999999997,
                        "bin_end": 3.4476879,
                        "count": 0
                      },
                      {
                        "bin_start": 3.4476879,
                        "bin_end": 3.4575942,
                        "count": 1
                      },
                      {
                        "bin_start": 3.4575942,
                        "bin_end": 3.4675005,
                        "count": 0
                      },
                      {
                        "bin_start": 3.4675005,
                        "bin_end": 3.4774068,
                        "count": 0
                      },
                      {
                        "bin_start": 3.4774068,
                        "bin_end": 3.4873130999999997,
                        "count": 1
                      },
                      {
                        "bin_start": 3.4873130999999997,
                        "bin_end": 3.4972194,
                        "count": 0
                      },
                      {
                        "bin_start": 3.4972194,
                        "bin_end": 3.5071257,
                        "count": 1
                      },
                      {
                        "bin_start": 3.5071257,
                        "bin_end": 3.517032,
                        "count": 1
                      }
                    ]
                  }
                },
                {
                  "name": "ATotal[mG]",
                  "dtype": "float64",
                  "stats": {
                    "unique_count": 5,
                    "nan_count": 0,
                    "min": 1002.79057,
                    "max": 1002.829127,
                    "histogram": [
                      {
                        "bin_start": 1002.79057,
                        "bin_end": 1002.7944257,
                        "count": 1
                      },
                      {
                        "bin_start": 1002.7944257,
                        "bin_end": 1002.7982814,
                        "count": 1
                      },
                      {
                        "bin_start": 1002.7982814,
                        "bin_end": 1002.8021371,
                        "count": 1
                      },
                      {
                        "bin_start": 1002.8021371,
                        "bin_end": 1002.8059928,
                        "count": 0
                      },
                      {
                        "bin_start": 1002.8059928,
                        "bin_end": 1002.8098485,
                        "count": 0
                      },
                      {
                        "bin_start": 1002.8098485,
                        "bin_end": 1002.8137042,
                        "count": 1
                      },
                      {
                        "bin_start": 1002.8137042,
                        "bin_end": 1002.8175599,
                        "count": 0
                      },
                      {
                        "bin_start": 1002.8175599,
                        "bin_end": 1002.8214156,
                        "count": 0
                      },
                      {
                        "bin_start": 1002.8214156,
                        "bin_end": 1002.8252712999999,
                        "count": 0
                      },
                      {
                        "bin_start": 1002.8252712999999,
                        "bin_end": 1002.829127,
                        "count": 1
                      }
                    ]
                  }
                },
                {
                  "name": "Ts[deg.C]",
                  "dtype": "float64",
                  "stats": {
                    "unique_count": 1,
                    "nan_count": 0,
                    "min": 15.92285,
                    "max": 15.92285,
                    "histogram": [
                      {
                        "bin_start": 15.42285,
                        "bin_end": 15.52285,
                        "count": 0
                      },
                      {
                        "bin_start": 15.52285,
                        "bin_end": 15.62285,
                        "count": 0
                      },
                      {
                        "bin_start": 15.62285,
                        "bin_end": 15.722850000000001,
                        "count": 0
                      },
                      {
                        "bin_start": 15.722850000000001,
                        "bin_end": 15.82285,
                        "count": 0
                      },
                      {
                        "bin_start": 15.82285,
                        "bin_end": 15.92285,
                        "count": 0
                      },
                      {
                        "bin_start": 15.92285,
                        "bin_end": 16.022850000000002,
                        "count": 5
                      },
                      {
                        "bin_start": 16.022850000000002,
                        "bin_end": 16.12285,
                        "count": 0
                      },
                      {
                        "bin_start": 16.12285,
                        "bin_end": 16.22285,
                        "count": 0
                      },
                      {
                        "bin_start": 16.22285,
                        "bin_end": 16.32285,
                        "count": 0
                      },
                      {
                        "bin_start": 16.32285,
                        "bin_end": 16.42285,
                        "count": 0
                      }
                    ]
                  }
                },
                {
                  "name": "_deepnote_index_column",
                  "dtype": "int64"
                }
              ],
              "rows_top": [
                {
                  "Sample No.": 1,
                  "time[sec]": 0,
                  "Ax[mG]": 1002.251267,
                  "Ay[mG]": -32.989442,
                  "Az[mG]": 3.453851,
                  "ATotal[mG]": 1002.799998,
                  "Ts[deg.C]": 15.92285,
                  "_deepnote_index_column": 0
                },
                {
                  "Sample No.": 2,
                  "time[sec]": 0.002,
                  "Ax[mG]": 1002.240181,
                  "Ay[mG]": -33.043385,
                  "Az[mG]": 3.417969,
                  "ATotal[mG]": 1002.79057,
                  "Ts[deg.C]": 15.92285,
                  "_deepnote_index_column": 1
                },
                {
                  "Sample No.": 3,
                  "time[sec]": 0.004,
                  "Ax[mG]": 1002.260506,
                  "Ay[mG]": -33.084989,
                  "Az[mG]": 3.477454,
                  "ATotal[mG]": 1002.812461,
                  "Ts[deg.C]": 15.92285,
                  "_deepnote_index_column": 2
                },
                {
                  "Sample No.": 4,
                  "time[sec]": 0.006,
                  "Ax[mG]": 1002.276957,
                  "Ay[mG]": -33.087611,
                  "Az[mG]": 3.517032,
                  "ATotal[mG]": 1002.829127,
                  "Ts[deg.C]": 15.92285,
                  "_deepnote_index_column": 3
                },
                {
                  "Sample No.": 5,
                  "time[sec]": 0.008,
                  "Ax[mG]": 1002.246618,
                  "Ay[mG]": -33.03355,
                  "Az[mG]": 3.501534,
                  "ATotal[mG]": 1002.796968,
                  "Ts[deg.C]": 15.92285,
                  "_deepnote_index_column": 4
                }
              ],
              "rows_bottom": null
            },
            "text/plain": "   Sample No.  time[sec]       Ax[mG]     Ay[mG]    Az[mG]   ATotal[mG]  \\\n0           1      0.000  1002.251267 -32.989442  3.453851  1002.799998   \n1           2      0.002  1002.240181 -33.043385  3.417969  1002.790570   \n2           3      0.004  1002.260506 -33.084989  3.477454  1002.812461   \n3           4      0.006  1002.276957 -33.087611  3.517032  1002.829127   \n4           5      0.008  1002.246618 -33.033550  3.501534  1002.796968   \n\n   Ts[deg.C]  \n0   15.92285  \n1   15.92285  \n2   15.92285  \n3   15.92285  \n4   15.92285  ",
            "text/html": "<div>\n<style scoped>\n    .dataframe tbody tr th:only-of-type {\n        vertical-align: middle;\n    }\n\n    .dataframe tbody tr th {\n        vertical-align: top;\n    }\n\n    .dataframe thead th {\n        text-align: right;\n    }\n</style>\n<table border=\"1\" class=\"dataframe\">\n  <thead>\n    <tr style=\"text-align: right;\">\n      <th></th>\n      <th>Sample No.</th>\n      <th>time[sec]</th>\n      <th>Ax[mG]</th>\n      <th>Ay[mG]</th>\n      <th>Az[mG]</th>\n      <th>ATotal[mG]</th>\n      <th>Ts[deg.C]</th>\n    </tr>\n  </thead>\n  <tbody>\n    <tr>\n      <th>0</th>\n      <td>1</td>\n      <td>0.000</td>\n      <td>1002.251267</td>\n      <td>-32.989442</td>\n      <td>3.453851</td>\n      <td>1002.799998</td>\n      <td>15.92285</td>\n    </tr>\n    <tr>\n      <th>1</th>\n      <td>2</td>\n      <td>0.002</td>\n      <td>1002.240181</td>\n      <td>-33.043385</td>\n      <td>3.417969</td>\n      <td>1002.790570</td>\n      <td>15.92285</td>\n    </tr>\n    <tr>\n      <th>2</th>\n      <td>3</td>\n      <td>0.004</td>\n      <td>1002.260506</td>\n      <td>-33.084989</td>\n      <td>3.477454</td>\n      <td>1002.812461</td>\n      <td>15.92285</td>\n    </tr>\n    <tr>\n      <th>3</th>\n      <td>4</td>\n      <td>0.006</td>\n      <td>1002.276957</td>\n      <td>-33.087611</td>\n      <td>3.517032</td>\n      <td>1002.829127</td>\n      <td>15.92285</td>\n    </tr>\n    <tr>\n      <th>4</th>\n      <td>5</td>\n      <td>0.008</td>\n      <td>1002.246618</td>\n      <td>-33.033550</td>\n      <td>3.501534</td>\n      <td>1002.796968</td>\n      <td>15.92285</td>\n    </tr>\n  </tbody>\n</table>\n</div>"
          },
          "metadata": {}
        }
      ]
    },
    {
      "cell_type": "markdown",
      "source": "### Subsetting the Data",
      "metadata": {
        "tags": [],
        "cell_id": "00007-db46b0d1-5620-4504-9dc2-00a87b413f38",
        "deepnote_cell_type": "markdown"
      }
    },
    {
      "cell_type": "markdown",
      "source": "This data set contains about 100,000 data points! For the purpose of this notebook we will be looking at a very small subset of the data, specifically the data on the last bell ring of the hour. \n\nBelow we create a subset of the dataframe named \"sw_last_bell\", that contains data from 400sec - 407sec. This dataframe has 3501 rows, which will be much easier to work with.  ",
      "metadata": {
        "tags": [],
        "cell_id": "00006-638f5f28-a85e-481a-8690-a2a2ea142818",
        "deepnote_cell_type": "markdown"
      }
    },
    {
      "cell_type": "code",
      "metadata": {
        "tags": [],
        "cell_id": "00008-bbaddcd1-321d-432a-b365-29b44fe45c87",
        "deepnote_to_be_reexecuted": false,
        "source_hash": "7e72d0de",
        "execution_millis": 7,
        "execution_start": 1617128712117,
        "deepnote_cell_type": "code"
      },
      "source": "sw_last_bell = sw_df_original.set_index('Sample No.')\nsw_last_bell = sw_last_bell[(sw_last_bell['time[sec]'] >= 400) & (sw_last_bell['time[sec]'] < 407)]\nsw_last_bell.head()\n##last bell ring happens around 402 - 405 ",
      "execution_count": null,
      "outputs": [
        {
          "output_type": "execute_result",
          "execution_count": 8,
          "data": {
            "application/vnd.deepnote.dataframe.v2+json": {
              "row_count": 5,
              "column_count": 6,
              "columns": [
                {
                  "name": "time[sec]",
                  "dtype": "float64",
                  "stats": {
                    "unique_count": 5,
                    "nan_count": 0,
                    "min": 400,
                    "max": 400.008,
                    "histogram": [
                      {
                        "bin_start": 400,
                        "bin_end": 400.0008,
                        "count": 1
                      },
                      {
                        "bin_start": 400.0008,
                        "bin_end": 400.0016,
                        "count": 0
                      },
                      {
                        "bin_start": 400.0016,
                        "bin_end": 400.00239999999997,
                        "count": 1
                      },
                      {
                        "bin_start": 400.00239999999997,
                        "bin_end": 400.0032,
                        "count": 0
                      },
                      {
                        "bin_start": 400.0032,
                        "bin_end": 400.004,
                        "count": 0
                      },
                      {
                        "bin_start": 400.004,
                        "bin_end": 400.0048,
                        "count": 1
                      },
                      {
                        "bin_start": 400.0048,
                        "bin_end": 400.00559999999996,
                        "count": 0
                      },
                      {
                        "bin_start": 400.00559999999996,
                        "bin_end": 400.0064,
                        "count": 1
                      },
                      {
                        "bin_start": 400.0064,
                        "bin_end": 400.0072,
                        "count": 0
                      },
                      {
                        "bin_start": 400.0072,
                        "bin_end": 400.008,
                        "count": 1
                      }
                    ]
                  }
                },
                {
                  "name": "Ax[mG]",
                  "dtype": "float64",
                  "stats": {
                    "unique_count": 5,
                    "nan_count": 0,
                    "min": 1002.219617,
                    "max": 1002.331257,
                    "histogram": [
                      {
                        "bin_start": 1002.219617,
                        "bin_end": 1002.230781,
                        "count": 1
                      },
                      {
                        "bin_start": 1002.230781,
                        "bin_end": 1002.241945,
                        "count": 0
                      },
                      {
                        "bin_start": 1002.241945,
                        "bin_end": 1002.253109,
                        "count": 0
                      },
                      {
                        "bin_start": 1002.253109,
                        "bin_end": 1002.264273,
                        "count": 0
                      },
                      {
                        "bin_start": 1002.264273,
                        "bin_end": 1002.275437,
                        "count": 0
                      },
                      {
                        "bin_start": 1002.275437,
                        "bin_end": 1002.286601,
                        "count": 2
                      },
                      {
                        "bin_start": 1002.286601,
                        "bin_end": 1002.297765,
                        "count": 0
                      },
                      {
                        "bin_start": 1002.297765,
                        "bin_end": 1002.308929,
                        "count": 0
                      },
                      {
                        "bin_start": 1002.308929,
                        "bin_end": 1002.320093,
                        "count": 0
                      },
                      {
                        "bin_start": 1002.320093,
                        "bin_end": 1002.331257,
                        "count": 2
                      }
                    ]
                  }
                },
                {
                  "name": "Ay[mG]",
                  "dtype": "float64",
                  "stats": {
                    "unique_count": 5,
                    "nan_count": 0,
                    "min": -32.978237,
                    "max": -32.853067,
                    "histogram": [
                      {
                        "bin_start": -32.978237,
                        "bin_end": -32.96572,
                        "count": 1
                      },
                      {
                        "bin_start": -32.96572,
                        "bin_end": -32.953203,
                        "count": 2
                      },
                      {
                        "bin_start": -32.953203,
                        "bin_end": -32.940686,
                        "count": 1
                      },
                      {
                        "bin_start": -32.940686,
                        "bin_end": -32.928169000000004,
                        "count": 0
                      },
                      {
                        "bin_start": -32.928169000000004,
                        "bin_end": -32.915652,
                        "count": 0
                      },
                      {
                        "bin_start": -32.915652,
                        "bin_end": -32.903135,
                        "count": 0
                      },
                      {
                        "bin_start": -32.903135,
                        "bin_end": -32.890618,
                        "count": 0
                      },
                      {
                        "bin_start": -32.890618,
                        "bin_end": -32.878101,
                        "count": 0
                      },
                      {
                        "bin_start": -32.878101,
                        "bin_end": -32.865584000000005,
                        "count": 0
                      },
                      {
                        "bin_start": -32.865584000000005,
                        "bin_end": -32.853067,
                        "count": 1
                      }
                    ]
                  }
                },
                {
                  "name": "Az[mG]",
                  "dtype": "float64",
                  "stats": {
                    "unique_count": 5,
                    "nan_count": 0,
                    "min": 3.273726,
                    "max": 3.428757,
                    "histogram": [
                      {
                        "bin_start": 3.273726,
                        "bin_end": 3.2892291,
                        "count": 2
                      },
                      {
                        "bin_start": 3.2892291,
                        "bin_end": 3.3047322,
                        "count": 0
                      },
                      {
                        "bin_start": 3.3047322,
                        "bin_end": 3.3202353,
                        "count": 0
                      },
                      {
                        "bin_start": 3.3202353,
                        "bin_end": 3.3357384,
                        "count": 0
                      },
                      {
                        "bin_start": 3.3357384,
                        "bin_end": 3.3512415,
                        "count": 1
                      },
                      {
                        "bin_start": 3.3512415,
                        "bin_end": 3.3667446,
                        "count": 1
                      },
                      {
                        "bin_start": 3.3667446,
                        "bin_end": 3.3822477,
                        "count": 0
                      },
                      {
                        "bin_start": 3.3822477,
                        "bin_end": 3.3977508,
                        "count": 0
                      },
                      {
                        "bin_start": 3.3977508,
                        "bin_end": 3.4132539,
                        "count": 0
                      },
                      {
                        "bin_start": 3.4132539,
                        "bin_end": 3.428757,
                        "count": 1
                      }
                    ]
                  }
                },
                {
                  "name": "ATotal[mG]",
                  "dtype": "float64",
                  "stats": {
                    "unique_count": 5,
                    "nan_count": 0,
                    "min": 1002.763802,
                    "max": 1002.878971,
                    "histogram": [
                      {
                        "bin_start": 1002.763802,
                        "bin_end": 1002.7753189,
                        "count": 1
                      },
                      {
                        "bin_start": 1002.7753189,
                        "bin_end": 1002.7868358000001,
                        "count": 0
                      },
                      {
                        "bin_start": 1002.7868358000001,
                        "bin_end": 1002.7983527,
                        "count": 0
                      },
                      {
                        "bin_start": 1002.7983527,
                        "bin_end": 1002.8098696000001,
                        "count": 0
                      },
                      {
                        "bin_start": 1002.8098696000001,
                        "bin_end": 1002.8213865,
                        "count": 0
                      },
                      {
                        "bin_start": 1002.8213865,
                        "bin_end": 1002.8329034,
                        "count": 2
                      },
                      {
                        "bin_start": 1002.8329034,
                        "bin_end": 1002.8444203,
                        "count": 0
                      },
                      {
                        "bin_start": 1002.8444203,
                        "bin_end": 1002.8559372,
                        "count": 0
                      },
                      {
                        "bin_start": 1002.8559372,
                        "bin_end": 1002.8674541,
                        "count": 0
                      },
                      {
                        "bin_start": 1002.8674541,
                        "bin_end": 1002.878971,
                        "count": 2
                      }
                    ]
                  }
                },
                {
                  "name": "Ts[deg.C]",
                  "dtype": "float64",
                  "stats": {
                    "unique_count": 2,
                    "nan_count": 0,
                    "min": 16.48828,
                    "max": 16.48926,
                    "histogram": [
                      {
                        "bin_start": 16.48828,
                        "bin_end": 16.488378,
                        "count": 2
                      },
                      {
                        "bin_start": 16.488378,
                        "bin_end": 16.488476,
                        "count": 0
                      },
                      {
                        "bin_start": 16.488476,
                        "bin_end": 16.488574,
                        "count": 0
                      },
                      {
                        "bin_start": 16.488574,
                        "bin_end": 16.488672,
                        "count": 0
                      },
                      {
                        "bin_start": 16.488672,
                        "bin_end": 16.488770000000002,
                        "count": 0
                      },
                      {
                        "bin_start": 16.488770000000002,
                        "bin_end": 16.488868,
                        "count": 0
                      },
                      {
                        "bin_start": 16.488868,
                        "bin_end": 16.488966,
                        "count": 0
                      },
                      {
                        "bin_start": 16.488966,
                        "bin_end": 16.489064000000003,
                        "count": 0
                      },
                      {
                        "bin_start": 16.489064000000003,
                        "bin_end": 16.489162,
                        "count": 0
                      },
                      {
                        "bin_start": 16.489162,
                        "bin_end": 16.48926,
                        "count": 3
                      }
                    ]
                  }
                },
                {
                  "name": "_deepnote_index_column",
                  "dtype": "int64"
                }
              ],
              "rows_top": [
                {
                  "time[sec]": 400,
                  "Ax[mG]": 1002.276242,
                  "Ay[mG]": -32.953322,
                  "Az[mG]": 3.358364,
                  "ATotal[mG]": 1002.823447,
                  "Ts[deg.C]": 16.48828,
                  "_deepnote_index_column": 200001
                },
                {
                  "time[sec]": 400.002,
                  "Ax[mG]": 1002.325773,
                  "Ay[mG]": -32.963753,
                  "Az[mG]": 3.282607,
                  "ATotal[mG]": 1002.873043,
                  "Ts[deg.C]": 16.48828,
                  "_deepnote_index_column": 200002
                },
                {
                  "time[sec]": 400.004,
                  "Ax[mG]": 1002.331257,
                  "Ay[mG]": -32.978237,
                  "Az[mG]": 3.273726,
                  "ATotal[mG]": 1002.878971,
                  "Ts[deg.C]": 16.48926,
                  "_deepnote_index_column": 200003
                },
                {
                  "time[sec]": 400.006,
                  "Ax[mG]": 1002.279222,
                  "Ay[mG]": -32.952249,
                  "Az[mG]": 3.338516,
                  "ATotal[mG]": 1002.826324,
                  "Ts[deg.C]": 16.48926,
                  "_deepnote_index_column": 200004
                },
                {
                  "time[sec]": 400.008,
                  "Ax[mG]": 1002.219617,
                  "Ay[mG]": -32.853067,
                  "Az[mG]": 3.428757,
                  "ATotal[mG]": 1002.763802,
                  "Ts[deg.C]": 16.48926,
                  "_deepnote_index_column": 200005
                }
              ],
              "rows_bottom": null
            },
            "text/plain": "            time[sec]       Ax[mG]     Ay[mG]    Az[mG]   ATotal[mG]  \\\nSample No.                                                             \n200001        400.000  1002.276242 -32.953322  3.358364  1002.823447   \n200002        400.002  1002.325773 -32.963753  3.282607  1002.873043   \n200003        400.004  1002.331257 -32.978237  3.273726  1002.878971   \n200004        400.006  1002.279222 -32.952249  3.338516  1002.826324   \n200005        400.008  1002.219617 -32.853067  3.428757  1002.763802   \n\n            Ts[deg.C]  \nSample No.             \n200001       16.48828  \n200002       16.48828  \n200003       16.48926  \n200004       16.48926  \n200005       16.48926  ",
            "text/html": "<div>\n<style scoped>\n    .dataframe tbody tr th:only-of-type {\n        vertical-align: middle;\n    }\n\n    .dataframe tbody tr th {\n        vertical-align: top;\n    }\n\n    .dataframe thead th {\n        text-align: right;\n    }\n</style>\n<table border=\"1\" class=\"dataframe\">\n  <thead>\n    <tr style=\"text-align: right;\">\n      <th></th>\n      <th>time[sec]</th>\n      <th>Ax[mG]</th>\n      <th>Ay[mG]</th>\n      <th>Az[mG]</th>\n      <th>ATotal[mG]</th>\n      <th>Ts[deg.C]</th>\n    </tr>\n    <tr>\n      <th>Sample No.</th>\n      <th></th>\n      <th></th>\n      <th></th>\n      <th></th>\n      <th></th>\n      <th></th>\n    </tr>\n  </thead>\n  <tbody>\n    <tr>\n      <th>200001</th>\n      <td>400.000</td>\n      <td>1002.276242</td>\n      <td>-32.953322</td>\n      <td>3.358364</td>\n      <td>1002.823447</td>\n      <td>16.48828</td>\n    </tr>\n    <tr>\n      <th>200002</th>\n      <td>400.002</td>\n      <td>1002.325773</td>\n      <td>-32.963753</td>\n      <td>3.282607</td>\n      <td>1002.873043</td>\n      <td>16.48828</td>\n    </tr>\n    <tr>\n      <th>200003</th>\n      <td>400.004</td>\n      <td>1002.331257</td>\n      <td>-32.978237</td>\n      <td>3.273726</td>\n      <td>1002.878971</td>\n      <td>16.48926</td>\n    </tr>\n    <tr>\n      <th>200004</th>\n      <td>400.006</td>\n      <td>1002.279222</td>\n      <td>-32.952249</td>\n      <td>3.338516</td>\n      <td>1002.826324</td>\n      <td>16.48926</td>\n    </tr>\n    <tr>\n      <th>200005</th>\n      <td>400.008</td>\n      <td>1002.219617</td>\n      <td>-32.853067</td>\n      <td>3.428757</td>\n      <td>1002.763802</td>\n      <td>16.48926</td>\n    </tr>\n  </tbody>\n</table>\n</div>"
          },
          "metadata": {}
        }
      ]
    },
    {
      "cell_type": "markdown",
      "source": "<br>\n--\n## Data Normalization",
      "metadata": {
        "tags": [],
        "cell_id": "00008-4e80df6a-9be3-4987-96f3-94bcb8d297cd",
        "deepnote_cell_type": "markdown"
      }
    },
    {
      "cell_type": "markdown",
      "source": "Before we begin working with the data, there are a few steps to complete to prepare the data for interpretation. Data preparation usually involves reformatting data, correcting data and filling in missing data points. It is an important step in the data interpretation and analysis process becuase it allows for more efficient manipulation of the data later on. ",
      "metadata": {
        "tags": [],
        "cell_id": "00009-7fd2710b-3c9a-47c2-a930-d969a3091ea4",
        "deepnote_cell_type": "markdown"
      }
    },
    {
      "cell_type": "markdown",
      "source": "### Normalizing the Data",
      "metadata": {
        "tags": [],
        "cell_id": "00010-5c7ecbd7-5ce5-4b18-8100-917a6f915346",
        "deepnote_cell_type": "markdown"
      }
    },
    {
      "cell_type": "markdown",
      "source": "The first step is to go through the process of normalizing the data points between variables. The code below normalizes the data by subtracting each of the values in the column Ax[mG], Ay[mG] and Az[mG] by the first entry in their column. We do this because ...",
      "metadata": {
        "tags": [],
        "cell_id": "00011-aef5f0d0-41c4-4fcf-aa66-ecc95cd28b9b",
        "deepnote_cell_type": "markdown"
      }
    },
    {
      "cell_type": "code",
      "metadata": {
        "tags": [],
        "cell_id": "00012-d74f9b16-f18b-4967-bff0-2d9f7fd76f41",
        "deepnote_to_be_reexecuted": false,
        "source_hash": "a9eda703",
        "execution_millis": 17,
        "execution_start": 1617128632047,
        "deepnote_cell_type": "code"
      },
      "source": "sw_last_bell['Ax[mG]'] = sw_last_bell['Ax[mG]']-sw_last_bell['Ax[mG]'].iloc[0]\nsw_last_bell['Ay[mG]'] = sw_last_bell['Ay[mG]']-sw_last_bell['Ay[mG]'].iloc[0]\nsw_last_bell['Az[mG]'] = sw_last_bell['Az[mG]']-sw_last_bell['Az[mG]'].iloc[0]\nsw_last_bell",
      "execution_count": null,
      "outputs": [
        {
          "output_type": "execute_result",
          "execution_count": 3,
          "data": {
            "application/vnd.deepnote.dataframe.v2+json": {
              "row_count": 3500,
              "column_count": 6,
              "columns": [
                {
                  "name": "time[sec]",
                  "dtype": "float64",
                  "stats": {
                    "unique_count": 3500,
                    "nan_count": 0,
                    "min": 400,
                    "max": 406.998,
                    "histogram": [
                      {
                        "bin_start": 400,
                        "bin_end": 400.6998,
                        "count": 350
                      },
                      {
                        "bin_start": 400.6998,
                        "bin_end": 401.3996,
                        "count": 350
                      },
                      {
                        "bin_start": 401.3996,
                        "bin_end": 402.0994,
                        "count": 350
                      },
                      {
                        "bin_start": 402.0994,
                        "bin_end": 402.7992,
                        "count": 350
                      },
                      {
                        "bin_start": 402.7992,
                        "bin_end": 403.499,
                        "count": 350
                      },
                      {
                        "bin_start": 403.499,
                        "bin_end": 404.1988,
                        "count": 350
                      },
                      {
                        "bin_start": 404.1988,
                        "bin_end": 404.8986,
                        "count": 350
                      },
                      {
                        "bin_start": 404.8986,
                        "bin_end": 405.59839999999997,
                        "count": 350
                      },
                      {
                        "bin_start": 405.59839999999997,
                        "bin_end": 406.2982,
                        "count": 350
                      },
                      {
                        "bin_start": 406.2982,
                        "bin_end": 406.998,
                        "count": 350
                      }
                    ]
                  }
                },
                {
                  "name": "Ax[mG]",
                  "dtype": "float64",
                  "stats": {
                    "unique_count": 2393,
                    "nan_count": 0,
                    "min": -0.24426000000005388,
                    "max": 0.0919099999999844,
                    "histogram": [
                      {
                        "bin_start": -0.24426000000005388,
                        "bin_end": -0.21064300000005004,
                        "count": 36
                      },
                      {
                        "bin_start": -0.21064300000005004,
                        "bin_end": -0.17702600000004623,
                        "count": 212
                      },
                      {
                        "bin_start": -0.17702600000004623,
                        "bin_end": -0.14340900000004242,
                        "count": 443
                      },
                      {
                        "bin_start": -0.14340900000004242,
                        "bin_end": -0.10979200000003858,
                        "count": 525
                      },
                      {
                        "bin_start": -0.10979200000003858,
                        "bin_end": -0.07617500000003474,
                        "count": 477
                      },
                      {
                        "bin_start": -0.07617500000003474,
                        "bin_end": -0.04255800000003093,
                        "count": 485
                      },
                      {
                        "bin_start": -0.04255800000003093,
                        "bin_end": -0.008941000000027122,
                        "count": 550
                      },
                      {
                        "bin_start": -0.008941000000027122,
                        "bin_end": 0.024675999999976717,
                        "count": 478
                      },
                      {
                        "bin_start": 0.024675999999976717,
                        "bin_end": 0.058292999999980555,
                        "count": 253
                      },
                      {
                        "bin_start": 0.058292999999980555,
                        "bin_end": 0.0919099999999844,
                        "count": 41
                      }
                    ]
                  }
                },
                {
                  "name": "Ay[mG]",
                  "dtype": "float64",
                  "stats": {
                    "unique_count": 3116,
                    "nan_count": 0,
                    "min": -0.24807400000000257,
                    "max": 0.9382370000000009,
                    "histogram": [
                      {
                        "bin_start": -0.24807400000000257,
                        "bin_end": -0.12944290000000222,
                        "count": 31
                      },
                      {
                        "bin_start": -0.12944290000000222,
                        "bin_end": -0.01081180000000187,
                        "count": 254
                      },
                      {
                        "bin_start": -0.01081180000000187,
                        "bin_end": 0.10781929999999851,
                        "count": 502
                      },
                      {
                        "bin_start": 0.10781929999999851,
                        "bin_end": 0.22645039999999883,
                        "count": 511
                      },
                      {
                        "bin_start": 0.22645039999999883,
                        "bin_end": 0.34508149999999915,
                        "count": 418
                      },
                      {
                        "bin_start": 0.34508149999999915,
                        "bin_end": 0.4637125999999996,
                        "count": 397
                      },
                      {
                        "bin_start": 0.4637125999999996,
                        "bin_end": 0.5823436999999999,
                        "count": 450
                      },
                      {
                        "bin_start": 0.5823436999999999,
                        "bin_end": 0.7009748000000002,
                        "count": 536
                      },
                      {
                        "bin_start": 0.7009748000000002,
                        "bin_end": 0.8196059000000007,
                        "count": 334
                      },
                      {
                        "bin_start": 0.8196059000000007,
                        "bin_end": 0.9382370000000009,
                        "count": 67
                      }
                    ]
                  }
                },
                {
                  "name": "Az[mG]",
                  "dtype": "float64",
                  "stats": {
                    "unique_count": 3129,
                    "nan_count": 0,
                    "min": -0.3374809999999999,
                    "max": 0.7903580000000003,
                    "histogram": [
                      {
                        "bin_start": -0.3374809999999999,
                        "bin_end": -0.2246970999999999,
                        "count": 41
                      },
                      {
                        "bin_start": -0.2246970999999999,
                        "bin_end": -0.11191319999999988,
                        "count": 266
                      },
                      {
                        "bin_start": -0.11191319999999988,
                        "bin_end": 0.000870700000000113,
                        "count": 469
                      },
                      {
                        "bin_start": 0.000870700000000113,
                        "bin_end": 0.11365460000000016,
                        "count": 524
                      },
                      {
                        "bin_start": 0.11365460000000016,
                        "bin_end": 0.2264385000000002,
                        "count": 444
                      },
                      {
                        "bin_start": 0.2264385000000002,
                        "bin_end": 0.33922240000000015,
                        "count": 431
                      },
                      {
                        "bin_start": 0.33922240000000015,
                        "bin_end": 0.4520063000000002,
                        "count": 532
                      },
                      {
                        "bin_start": 0.4520063000000002,
                        "bin_end": 0.5647902000000002,
                        "count": 465
                      },
                      {
                        "bin_start": 0.5647902000000002,
                        "bin_end": 0.6775741000000002,
                        "count": 265
                      },
                      {
                        "bin_start": 0.6775741000000002,
                        "bin_end": 0.7903580000000003,
                        "count": 63
                      }
                    ]
                  }
                },
                {
                  "name": "ATotal[mG]",
                  "dtype": "float64",
                  "stats": {
                    "unique_count": 3483,
                    "nan_count": 0,
                    "min": 1002.552666,
                    "max": 1002.916174,
                    "histogram": [
                      {
                        "bin_start": 1002.552666,
                        "bin_end": 1002.5890168000001,
                        "count": 35
                      },
                      {
                        "bin_start": 1002.5890168000001,
                        "bin_end": 1002.6253676,
                        "count": 215
                      },
                      {
                        "bin_start": 1002.6253676,
                        "bin_end": 1002.6617184,
                        "count": 449
                      },
                      {
                        "bin_start": 1002.6617184,
                        "bin_end": 1002.6980692,
                        "count": 511
                      },
                      {
                        "bin_start": 1002.6980692,
                        "bin_end": 1002.73442,
                        "count": 466
                      },
                      {
                        "bin_start": 1002.73442,
                        "bin_end": 1002.7707708,
                        "count": 452
                      },
                      {
                        "bin_start": 1002.7707708,
                        "bin_end": 1002.8071216,
                        "count": 532
                      },
                      {
                        "bin_start": 1002.8071216,
                        "bin_end": 1002.8434724,
                        "count": 508
                      },
                      {
                        "bin_start": 1002.8434724,
                        "bin_end": 1002.8798231999999,
                        "count": 275
                      },
                      {
                        "bin_start": 1002.8798231999999,
                        "bin_end": 1002.916174,
                        "count": 57
                      }
                    ]
                  }
                },
                {
                  "name": "Ts[deg.C]",
                  "dtype": "float64",
                  "stats": {
                    "unique_count": 4,
                    "nan_count": 0,
                    "min": 16.48828,
                    "max": 16.49121,
                    "histogram": [
                      {
                        "bin_start": 16.48828,
                        "bin_end": 16.488573,
                        "count": 247
                      },
                      {
                        "bin_start": 16.488573,
                        "bin_end": 16.488865999999998,
                        "count": 0
                      },
                      {
                        "bin_start": 16.488865999999998,
                        "bin_end": 16.489159,
                        "count": 0
                      },
                      {
                        "bin_start": 16.489159,
                        "bin_end": 16.489452,
                        "count": 1452
                      },
                      {
                        "bin_start": 16.489452,
                        "bin_end": 16.489745,
                        "count": 0
                      },
                      {
                        "bin_start": 16.489745,
                        "bin_end": 16.490038,
                        "count": 0
                      },
                      {
                        "bin_start": 16.490038,
                        "bin_end": 16.490330999999998,
                        "count": 1711
                      },
                      {
                        "bin_start": 16.490330999999998,
                        "bin_end": 16.490624,
                        "count": 0
                      },
                      {
                        "bin_start": 16.490624,
                        "bin_end": 16.490917,
                        "count": 0
                      },
                      {
                        "bin_start": 16.490917,
                        "bin_end": 16.49121,
                        "count": 90
                      }
                    ]
                  }
                },
                {
                  "name": "_deepnote_index_column",
                  "dtype": "int64"
                }
              ],
              "rows_top": [
                {
                  "time[sec]": 400,
                  "Ax[mG]": 0,
                  "Ay[mG]": 0,
                  "Az[mG]": 0,
                  "ATotal[mG]": 1002.823447,
                  "Ts[deg.C]": 16.48828,
                  "_deepnote_index_column": 200001
                },
                {
                  "time[sec]": 400.002,
                  "Ax[mG]": 0.04953100000000177,
                  "Ay[mG]": -0.01043099999999697,
                  "Az[mG]": -0.07575699999999985,
                  "ATotal[mG]": 1002.873043,
                  "Ts[deg.C]": 16.48828,
                  "_deepnote_index_column": 200002
                },
                {
                  "time[sec]": 400.004,
                  "Ax[mG]": 0.05501500000002579,
                  "Ay[mG]": -0.02491500000000002,
                  "Az[mG]": -0.08463799999999999,
                  "ATotal[mG]": 1002.878971,
                  "Ts[deg.C]": 16.48926,
                  "_deepnote_index_column": 200003
                },
                {
                  "time[sec]": 400.006,
                  "Ax[mG]": 0.0029799999999795546,
                  "Ay[mG]": 0.0010729999999981032,
                  "Az[mG]": -0.019848000000000088,
                  "ATotal[mG]": 1002.826324,
                  "Ts[deg.C]": 16.48926,
                  "_deepnote_index_column": 200004
                },
                {
                  "time[sec]": 400.008,
                  "Ax[mG]": -0.05662500000005366,
                  "Ay[mG]": 0.1002549999999971,
                  "Az[mG]": 0.07039300000000015,
                  "ATotal[mG]": 1002.763802,
                  "Ts[deg.C]": 16.48926,
                  "_deepnote_index_column": 200005
                },
                {
                  "time[sec]": 400.01,
                  "Ax[mG]": -0.0715260000000626,
                  "Ay[mG]": 0.24080299999999966,
                  "Az[mG]": 0.16629700000000014,
                  "ATotal[mG]": 1002.744646,
                  "Ts[deg.C]": 16.48926,
                  "_deepnote_index_column": 200006
                },
                {
                  "time[sec]": 400.012,
                  "Ax[mG]": -0.0525119999999788,
                  "Ay[mG]": 0.36442300000000216,
                  "Az[mG]": 0.278235,
                  "ATotal[mG]": 1002.760024,
                  "Ts[deg.C]": 16.48828,
                  "_deepnote_index_column": 200007
                },
                {
                  "time[sec]": 400.014,
                  "Ax[mG]": -0.05996200000004137,
                  "Ay[mG]": 0.4550219999999996,
                  "Az[mG]": 0.4084110000000001,
                  "ATotal[mG]": 1002.750118,
                  "Ts[deg.C]": 16.48828,
                  "_deepnote_index_column": 200008
                },
                {
                  "time[sec]": 400.016,
                  "Ax[mG]": -0.12004400000000714,
                  "Ay[mG]": 0.5426410000000033,
                  "Az[mG]": 0.5421640000000001,
                  "ATotal[mG]": 1002.687744,
                  "Ts[deg.C]": 16.48828,
                  "_deepnote_index_column": 200009
                },
                {
                  "time[sec]": 400.018,
                  "Ax[mG]": -0.1859070000000429,
                  "Ay[mG]": 0.6366370000000003,
                  "Az[mG]": 0.6357430000000002,
                  "ATotal[mG]": 1002.61925,
                  "Ts[deg.C]": 16.48828,
                  "_deepnote_index_column": 200010
                },
                {
                  "time[sec]": 400.02,
                  "Ax[mG]": -0.1954440000000659,
                  "Ay[mG]": 0.7011299999999991,
                  "Az[mG]": 0.6349680000000002,
                  "ATotal[mG]": 1002.607638,
                  "Ts[deg.C]": 16.48828,
                  "_deepnote_index_column": 200011
                },
                {
                  "time[sec]": 400.022,
                  "Ax[mG]": -0.1522300000000314,
                  "Ay[mG]": 0.6964800000000011,
                  "Az[mG]": 0.540972,
                  "ATotal[mG]": 1002.650609,
                  "Ts[deg.C]": 16.48828,
                  "_deepnote_index_column": 200012
                },
                {
                  "time[sec]": 400.024,
                  "Ax[mG]": -0.11652700000001914,
                  "Ay[mG]": 0.6223320000000001,
                  "Az[mG]": 0.4312990000000001,
                  "ATotal[mG]": 1002.688261,
                  "Ts[deg.C]": 16.48828,
                  "_deepnote_index_column": 200013
                },
                {
                  "time[sec]": 400.026,
                  "Ax[mG]": -0.11998400000004494,
                  "Ay[mG]": 0.5107519999999965,
                  "Az[mG]": 0.3744360000000002,
                  "ATotal[mG]": 1002.688196,
                  "Ts[deg.C]": 16.48828,
                  "_deepnote_index_column": 200014
                },
                {
                  "time[sec]": 400.028,
                  "Ax[mG]": -0.13065400000004956,
                  "Ay[mG]": 0.4000660000000025,
                  "Az[mG]": 0.3435610000000002,
                  "ATotal[mG]": 1002.681006,
                  "Ts[deg.C]": 16.48828,
                  "_deepnote_index_column": 200015
                },
                {
                  "time[sec]": 400.03,
                  "Ax[mG]": -0.10222199999998338,
                  "Ay[mG]": 0.3127459999999971,
                  "Az[mG]": 0.2672669999999999,
                  "ATotal[mG]": 1002.711982,
                  "Ts[deg.C]": 16.48828,
                  "_deepnote_index_column": 200016
                },
                {
                  "time[sec]": 400.032,
                  "Ax[mG]": -0.03808800000001611,
                  "Ay[mG]": 0.2441999999999993,
                  "Az[mG]": 0.14674699999999996,
                  "ATotal[mG]": 1002.777887,
                  "Ts[deg.C]": 16.48828,
                  "_deepnote_index_column": 200017
                },
                {
                  "time[sec]": 400.034,
                  "Ax[mG]": 0.00709299999994073,
                  "Ay[mG]": 0.16999299999999806,
                  "Az[mG]": 0.06270400000000009,
                  "ATotal[mG]": 1002.825176,
                  "Ts[deg.C]": 16.48828,
                  "_deepnote_index_column": 200018
                },
                {
                  "time[sec]": 400.036,
                  "Ax[mG]": -0.005900999999994383,
                  "Ay[mG]": 0.08678400000000153,
                  "Az[mG]": 0.05519400000000019,
                  "ATotal[mG]": 1002.814887,
                  "Ts[deg.C]": 16.48828,
                  "_deepnote_index_column": 200019
                },
                {
                  "time[sec]": 400.038,
                  "Ax[mG]": -0.04702800000006846,
                  "Ay[mG]": 0.031114000000002306,
                  "Az[mG]": 0.06014100000000022,
                  "ATotal[mG]": 1002.775625,
                  "Ts[deg.C]": 16.48828,
                  "_deepnote_index_column": 200020
                },
                {
                  "time[sec]": 400.04,
                  "Ax[mG]": -0.053226999999992586,
                  "Ay[mG]": 0.039755999999997016,
                  "Az[mG]": 0.010431000000000079,
                  "ATotal[mG]": 1002.768978,
                  "Ts[deg.C]": 16.48828,
                  "_deepnote_index_column": 200021
                },
                {
                  "time[sec]": 400.042,
                  "Ax[mG]": -0.014901000000008935,
                  "Ay[mG]": 0.0975129999999993,
                  "Az[mG]": -0.04196199999999983,
                  "ATotal[mG]": 1002.805214,
                  "Ts[deg.C]": 16.48828,
                  "_deepnote_index_column": 200022
                },
                {
                  "time[sec]": 400.044,
                  "Ax[mG]": 0.009953999999993357,
                  "Ay[mG]": 0.16075399999999718,
                  "Az[mG]": 0.015973999999999933,
                  "ATotal[mG]": 1002.828179,
                  "Ts[deg.C]": 16.48828,
                  "_deepnote_index_column": 200023
                },
                {
                  "time[sec]": 400.046,
                  "Ax[mG]": -0.024497999999994136,
                  "Ay[mG]": 0.21952399999999983,
                  "Az[mG]": 0.19168900000000022,
                  "ATotal[mG]": 1002.792433,
                  "Ts[deg.C]": 16.48828,
                  "_deepnote_index_column": 200024
                },
                {
                  "time[sec]": 400.048,
                  "Ax[mG]": -0.0912550000000465,
                  "Ay[mG]": 0.3044610000000034,
                  "Az[mG]": 0.3654360000000003,
                  "ATotal[mG]": 1002.723573,
                  "Ts[deg.C]": 16.48828,
                  "_deepnote_index_column": 200025
                },
                {
                  "time[sec]": 400.05,
                  "Ax[mG]": -0.1283889999999701,
                  "Ay[mG]": 0.42659100000000194,
                  "Az[mG]": 0.4441740000000003,
                  "ATotal[mG]": 1002.682785,
                  "Ts[deg.C]": 16.48828,
                  "_deepnote_index_column": 200026
                },
                {
                  "time[sec]": 400.052,
                  "Ax[mG]": -0.11813700000004701,
                  "Ay[mG]": 0.5448459999999997,
                  "Az[mG]": 0.45514100000000024,
                  "ATotal[mG]": 1002.689244,
                  "Ts[deg.C]": 16.48828,
                  "_deepnote_index_column": 200027
                },
                {
                  "time[sec]": 400.054,
                  "Ax[mG]": -0.1057980000000498,
                  "Ay[mG]": 0.6143450000000001,
                  "Az[mG]": 0.4776720000000001,
                  "ATotal[mG]": 1002.699418,
                  "Ts[deg.C]": 16.48828,
                  "_deepnote_index_column": 200028
                },
                {
                  "time[sec]": 400.056,
                  "Ax[mG]": -0.13238200000000688,
                  "Ay[mG]": 0.6371139999999968,
                  "Az[mG]": 0.5348329999999999,
                  "ATotal[mG]": 1002.672334,
                  "Ts[deg.C]": 16.48828,
                  "_deepnote_index_column": 200029
                },
                {
                  "time[sec]": 400.058,
                  "Ax[mG]": -0.1705890000000636,
                  "Ay[mG]": 0.6315110000000033,
                  "Az[mG]": 0.5693440000000001,
                  "ATotal[mG]": 1002.634463,
                  "Ts[deg.C]": 16.48828,
                  "_deepnote_index_column": 200030
                },
                {
                  "time[sec]": 400.06,
                  "Ax[mG]": -0.1599790000000212,
                  "Ay[mG]": 0.5831719999999976,
                  "Az[mG]": 0.5094410000000003,
                  "ATotal[mG]": 1002.646394,
                  "Ts[deg.C]": 16.48828,
                  "_deepnote_index_column": 200031
                },
                {
                  "time[sec]": 400.062,
                  "Ax[mG]": -0.09667899999999463,
                  "Ay[mG]": 0.4807119999999969,
                  "Az[mG]": 0.36090599999999995,
                  "ATotal[mG]": 1002.712411,
                  "Ts[deg.C]": 16.48828,
                  "_deepnote_index_column": 200032
                },
                {
                  "time[sec]": 400.064,
                  "Ax[mG]": -0.04607499999997344,
                  "Ay[mG]": 0.3708600000000004,
                  "Az[mG]": 0.21886800000000006,
                  "ATotal[mG]": 1002.766035,
                  "Ts[deg.C]": 16.48828,
                  "_deepnote_index_column": 200033
                },
                {
                  "time[sec]": 400.066,
                  "Ax[mG]": -0.05435999999997421,
                  "Ay[mG]": 0.3100039999999993,
                  "Az[mG]": 0.16540299999999997,
                  "ATotal[mG]": 1002.759545,
                  "Ts[deg.C]": 16.48828,
                  "_deepnote_index_column": 200034
                },
                {
                  "time[sec]": 400.068,
                  "Ax[mG]": -0.08899000000008073,
                  "Ay[mG]": 0.28431400000000195,
                  "Az[mG]": 0.17625100000000016,
                  "ATotal[mG]": 1002.725808,
                  "Ts[deg.C]": 16.48828,
                  "_deepnote_index_column": 200035
                },
                {
                  "time[sec]": 400.07,
                  "Ax[mG]": -0.08654599999999846,
                  "Ay[mG]": 0.24229299999999654,
                  "Az[mG]": 0.16337599999999997,
                  "ATotal[mG]": 1002.729575,
                  "Ts[deg.C]": 16.48828,
                  "_deepnote_index_column": 200036
                },
                {
                  "time[sec]": 400.072,
                  "Ax[mG]": -0.036120999999980086,
                  "Ay[mG]": 0.1706479999999999,
                  "Az[mG]": 0.08714200000000005,
                  "ATotal[mG]": 1002.782048,
                  "Ts[deg.C]": 16.48828,
                  "_deepnote_index_column": 200037
                },
                {
                  "time[sec]": 400.074,
                  "Ax[mG]": 0.011681999999950676,
                  "Ay[mG]": 0.09155299999999755,
                  "Az[mG]": -0.004052999999999862,
                  "ATotal[mG]": 1002.832105,
                  "Ts[deg.C]": 16.48828,
                  "_deepnote_index_column": 200038
                },
                {
                  "time[sec]": 400.076,
                  "Ax[mG]": 0.010012999999958083,
                  "Ay[mG]": 0.03284200000000226,
                  "Az[mG]": -0.03564299999999987,
                  "ATotal[mG]": 1002.832257,
                  "Ts[deg.C]": 16.48828,
                  "_deepnote_index_column": 200039
                },
                {
                  "time[sec]": 400.078,
                  "Ax[mG]": -0.029266000000006898,
                  "Ay[mG]": 0.030695999999998946,
                  "Az[mG]": 0.01221899999999998,
                  "ATotal[mG]": 1002.793229,
                  "Ts[deg.C]": 16.48828,
                  "_deepnote_index_column": 200040
                },
                {
                  "time[sec]": 400.08,
                  "Ax[mG]": -0.05304799999998977,
                  "Ay[mG]": 0.10943400000000025,
                  "Az[mG]": 0.08577100000000026,
                  "ATotal[mG]": 1002.767128,
                  "Ts[deg.C]": 16.48828,
                  "_deepnote_index_column": 200041
                },
                {
                  "time[sec]": 400.082,
                  "Ax[mG]": -0.03778999999997268,
                  "Ay[mG]": 0.23943200000000076,
                  "Az[mG]": 0.1338720000000002,
                  "ATotal[mG]": 1002.778295,
                  "Ts[deg.C]": 16.48828,
                  "_deepnote_index_column": 200042
                },
                {
                  "time[sec]": 400.084,
                  "Ax[mG]": -0.020265999999992346,
                  "Ay[mG]": 0.36180000000000234,
                  "Az[mG]": 0.19228500000000004,
                  "ATotal[mG]": 1002.79203,
                  "Ts[deg.C]": 16.48828,
                  "_deepnote_index_column": 200043
                },
                {
                  "time[sec]": 400.086,
                  "Ax[mG]": -0.05167700000004061,
                  "Ay[mG]": 0.4525780000000026,
                  "Az[mG]": 0.3237730000000001,
                  "ATotal[mG]": 1002.758163,
                  "Ts[deg.C]": 16.48828,
                  "_deepnote_index_column": 200044
                },
                {
                  "time[sec]": 400.088,
                  "Ax[mG]": -0.12588500000003933,
                  "Ay[mG]": 0.5313159999999968,
                  "Az[mG]": 0.48834100000000014,
                  "ATotal[mG]": 1002.682064,
                  "Ts[deg.C]": 16.48828,
                  "_deepnote_index_column": 200045
                },
                {
                  "time[sec]": 400.09,
                  "Ax[mG]": -0.17786000000000968,
                  "Ay[mG]": 0.6064769999999982,
                  "Az[mG]": 0.5691649999999999,
                  "ATotal[mG]": 1002.628002,
                  "Ts[deg.C]": 16.48828,
                  "_deepnote_index_column": 200046
                },
                {
                  "time[sec]": 400.092,
                  "Ax[mG]": -0.16307900000003883,
                  "Ay[mG]": 0.6479619999999997,
                  "Az[mG]": 0.5325679999999999,
                  "ATotal[mG]": 1002.641296,
                  "Ts[deg.C]": 16.48828,
                  "_deepnote_index_column": 200047
                },
                {
                  "time[sec]": 400.094,
                  "Ax[mG]": -0.11760000000003856,
                  "Ay[mG]": 0.6213189999999997,
                  "Az[mG]": 0.45871700000000004,
                  "ATotal[mG]": 1002.687325,
                  "Ts[deg.C]": 16.48828,
                  "_deepnote_index_column": 200048
                },
                {
                  "time[sec]": 400.096,
                  "Ax[mG]": -0.10728900000003705,
                  "Ay[mG]": 0.5393029999999968,
                  "Az[mG]": 0.409961,
                  "ATotal[mG]": 1002.700095,
                  "Ts[deg.C]": 16.48828,
                  "_deepnote_index_column": 200049
                },
                {
                  "time[sec]": 400.098,
                  "Ax[mG]": -0.1351240000000189,
                  "Ay[mG]": 0.45877699999999777,
                  "Az[mG]": 0.3595950000000001,
                  "ATotal[mG]": 1002.674693,
                  "Ts[deg.C]": 16.48828,
                  "_deepnote_index_column": 200050
                },
                {
                  "time[sec]": 400.1,
                  "Ax[mG]": -0.14281300000004649,
                  "Ay[mG]": 0.41836500000000143,
                  "Az[mG]": 0.27513500000000013,
                  "ATotal[mG]": 1002.668009,
                  "Ts[deg.C]": 16.48828,
                  "_deepnote_index_column": 200051
                },
                {
                  "time[sec]": 400.102,
                  "Ax[mG]": -0.10043400000006386,
                  "Ay[mG]": 0.396608999999998,
                  "Az[mG]": 0.1943710000000003,
                  "ATotal[mG]": 1002.710782,
                  "Ts[deg.C]": 16.48828,
                  "_deepnote_index_column": 200052
                },
                {
                  "time[sec]": 400.104,
                  "Ax[mG]": -0.04565700000000561,
                  "Ay[mG]": 0.34344200000000313,
                  "Az[mG]": 0.16725100000000026,
                  "ATotal[mG]": 1002.767161,
                  "Ts[deg.C]": 16.48828,
                  "_deepnote_index_column": 200053
                },
                {
                  "time[sec]": 400.106,
                  "Ax[mG]": -0.025213000000007924,
                  "Ay[mG]": 0.2441999999999993,
                  "Az[mG]": 0.17321100000000023,
                  "ATotal[mG]": 1002.790847,
                  "Ts[deg.C]": 16.48828,
                  "_deepnote_index_column": 200054
                },
                {
                  "time[sec]": 400.108,
                  "Ax[mG]": -0.03284200000007331,
                  "Ay[mG]": 0.13935599999999937,
                  "Az[mG]": 0.1484749999999999,
                  "ATotal[mG]": 1002.786561,
                  "Ts[deg.C]": 16.48828,
                  "_deepnote_index_column": 200055
                },
                {
                  "time[sec]": 400.11,
                  "Ax[mG]": -0.029087000000004082,
                  "Ay[mG]": 0.08451900000000023,
                  "Az[mG]": 0.07575799999999999,
                  "ATotal[mG]": 1002.791858,
                  "Ts[deg.C]": 16.48828,
                  "_deepnote_index_column": 200056
                },
                {
                  "time[sec]": 400.112,
                  "Ax[mG]": -0.0017880000000332075,
                  "Ay[mG]": 0.09870500000000249,
                  "Az[mG]": 0.005304999999999893,
                  "ATotal[mG]": 1002.818438,
                  "Ts[deg.C]": 16.48828,
                  "_deepnote_index_column": 200057
                },
                {
                  "time[sec]": 400.114,
                  "Ax[mG]": 0.015437000000019907,
                  "Ay[mG]": 0.14889199999999647,
                  "Az[mG]": -0.007152000000000047,
                  "ATotal[mG]": 1002.83397,
                  "Ts[deg.C]": 16.48828,
                  "_deepnote_index_column": 200058
                },
                {
                  "time[sec]": 400.116,
                  "Ax[mG]": -0.010610000000042419,
                  "Ay[mG]": 0.18805299999999647,
                  "Az[mG]": 0.05239299999999991,
                  "ATotal[mG]": 1002.806858,
                  "Ts[deg.C]": 16.48828,
                  "_deepnote_index_column": 200059
                },
                {
                  "time[sec]": 400.118,
                  "Ax[mG]": -0.06651899999997113,
                  "Ay[mG]": 0.21618600000000043,
                  "Az[mG]": 0.15997900000000032,
                  "ATotal[mG]": 1002.750431,
                  "Ts[deg.C]": 16.48828,
                  "_deepnote_index_column": 200060
                },
                {
                  "time[sec]": 400.12,
                  "Ax[mG]": -0.10484500000006847,
                  "Ay[mG]": 0.27930700000000286,
                  "Az[mG]": 0.2678630000000002,
                  "ATotal[mG]": 1002.710452,
                  "Ts[deg.C]": 16.48828,
                  "_deepnote_index_column": 200061
                },
                {
                  "time[sec]": 400.122,
                  "Ax[mG]": -0.10198400000001584,
                  "Ay[mG]": 0.3910070000000019,
                  "Az[mG]": 0.3245469999999999,
                  "ATotal[mG]": 1002.709884,
                  "Ts[deg.C]": 16.48828,
                  "_deepnote_index_column": 200062
                },
                {
                  "time[sec]": 400.124,
                  "Ax[mG]": -0.0852350000000115,
                  "Ay[mG]": 0.4987119999999976,
                  "Az[mG]": 0.33926999999999996,
                  "ATotal[mG]": 1002.723187,
                  "Ts[deg.C]": 16.48828,
                  "_deepnote_index_column": 200063
                },
                {
                  "time[sec]": 400.126,
                  "Ax[mG]": -0.0981090000000222,
                  "Ay[mG]": 0.5529519999999977,
                  "Az[mG]": 0.3924970000000001,
                  "ATotal[mG]": 1002.708762,
                  "Ts[deg.C]": 16.48828,
                  "_deepnote_index_column": 200064
                },
                {
                  "time[sec]": 400.128,
                  "Ax[mG]": -0.14412400000003345,
                  "Ay[mG]": 0.5668399999999991,
                  "Az[mG]": 0.49614899999999995,
                  "ATotal[mG]": 1002.662716,
                  "Ts[deg.C]": 16.48828,
                  "_deepnote_index_column": 200065
                },
                {
                  "time[sec]": 400.13,
                  "Ax[mG]": -0.1782180000000153,
                  "Ay[mG]": 0.5783440000000013,
                  "Az[mG]": 0.5254750000000001,
                  "ATotal[mG]": 1002.628382,
                  "Ts[deg.C]": 16.48828,
                  "_deepnote_index_column": 200066
                },
                {
                  "time[sec]": 400.132,
                  "Ax[mG]": -0.15866800000003423,
                  "Ay[mG]": 0.5926490000000015,
                  "Az[mG]": 0.4213450000000001,
                  "ATotal[mG]": 1002.647062,
                  "Ts[deg.C]": 16.48828,
                  "_deepnote_index_column": 200067
                },
                {
                  "time[sec]": 400.134,
                  "Ax[mG]": -0.102341000000024,
                  "Ay[mG]": 0.5791189999999986,
                  "Az[mG]": 0.32222300000000015,
                  "ATotal[mG]": 1002.703427,
                  "Ts[deg.C]": 16.48828,
                  "_deepnote_index_column": 200068
                },
                {
                  "time[sec]": 400.136,
                  "Ax[mG]": -0.06938000000002376,
                  "Ay[mG]": 0.5102159999999998,
                  "Az[mG]": 0.3451710000000001,
                  "ATotal[mG]": 1002.738683,
                  "Ts[deg.C]": 16.48828,
                  "_deepnote_index_column": 200069
                },
                {
                  "time[sec]": 400.138,
                  "Ax[mG]": -0.0852350000000115,
                  "Ay[mG]": 0.40459599999999796,
                  "Az[mG]": 0.39416600000000024,
                  "ATotal[mG]": 1002.726441,
                  "Ts[deg.C]": 16.48828,
                  "_deepnote_index_column": 200070
                },
                {
                  "time[sec]": 400.14,
                  "Ax[mG]": -0.10371199999997316,
                  "Ay[mG]": 0.3156660000000002,
                  "Az[mG]": 0.32985200000000026,
                  "ATotal[mG]": 1002.710626,
                  "Ts[deg.C]": 16.48828,
                  "_deepnote_index_column": 200071
                },
                {
                  "time[sec]": 400.142,
                  "Ax[mG]": -0.07206200000007357,
                  "Ay[mG]": 0.26047200000000004,
                  "Az[mG]": 0.17279400000000011,
                  "ATotal[mG]": 1002.743491,
                  "Ts[deg.C]": 16.48828,
                  "_deepnote_index_column": 200072
                },
                {
                  "time[sec]": 400.144,
                  "Ax[mG]": -0.011146000000053391,
                  "Ay[mG]": 0.2012849999999986,
                  "Az[mG]": 0.040710000000000246,
                  "ATotal[mG]": 1002.805849,
                  "Ts[deg.C]": 16.48828,
                  "_deepnote_index_column": 200073
                },
                {
                  "time[sec]": 400.146,
                  "Ax[mG]": 0.01448399999992489,
                  "Ay[mG]": 0.12779199999999946,
                  "Az[mG]": 0.0034570000000000434,
                  "ATotal[mG]": 1002.833743,
                  "Ts[deg.C]": 16.48828,
                  "_deepnote_index_column": 200074
                },
                {
                  "time[sec]": 400.148,
                  "Ax[mG]": -0.011385000000018408,
                  "Ay[mG]": 0.08755899999999883,
                  "Az[mG]": 0.03421300000000027,
                  "ATotal[mG]": 1002.80931,
                  "Ts[deg.C]": 16.48828,
                  "_deepnote_index_column": 200075
                },
                {
                  "time[sec]": 400.15,
                  "Ax[mG]": -0.036717000000066946,
                  "Ay[mG]": 0.10335500000000053,
                  "Az[mG]": 0.0518559999999999,
                  "ATotal[mG]": 1002.783534,
                  "Ts[deg.C]": 16.48828,
                  "_deepnote_index_column": 200076
                },
                {
                  "time[sec]": 400.152,
                  "Ax[mG]": -0.02044499999999516,
                  "Ay[mG]": 0.14013099999999667,
                  "Az[mG]": 0.02414000000000005,
                  "ATotal[mG]": 1002.798499,
                  "Ts[deg.C]": 16.48828,
                  "_deepnote_index_column": 200077
                },
                {
                  "time[sec]": 400.154,
                  "Ax[mG]": 0.008522999999968306,
                  "Ay[mG]": 0.1765490000000014,
                  "Az[mG]": 0.02002700000000024,
                  "ATotal[mG]": 1002.826247,
                  "Ts[deg.C]": 16.48828,
                  "_deepnote_index_column": 200078
                },
                {
                  "time[sec]": 400.156,
                  "Ax[mG]": -0.007808000000068205,
                  "Ay[mG]": 0.23943200000000076,
                  "Az[mG]": 0.11104400000000014,
                  "ATotal[mG]": 1002.808181,
                  "Ts[deg.C]": 16.48828,
                  "_deepnote_index_column": 200079
                },
                {
                  "time[sec]": 400.158,
                  "Ax[mG]": -0.07373100000006616,
                  "Ay[mG]": 0.3453489999999988,
                  "Az[mG]": 0.2720950000000002,
                  "ATotal[mG]": 1002.739414,
                  "Ts[deg.C]": 16.48828,
                  "_deepnote_index_column": 200080
                },
                {
                  "time[sec]": 400.16,
                  "Ax[mG]": -0.1299380000000383,
                  "Ay[mG]": 0.4638429999999971,
                  "Az[mG]": 0.41168899999999997,
                  "ATotal[mG]": 1002.679906,
                  "Ts[deg.C]": 16.48828,
                  "_deepnote_index_column": 200081
                },
                {
                  "time[sec]": 400.162,
                  "Ax[mG]": -0.13142800000002808,
                  "Ay[mG]": 0.5464550000000017,
                  "Az[mG]": 0.45865800000000023,
                  "ATotal[mG]": 1002.675921,
                  "Ts[deg.C]": 16.48828,
                  "_deepnote_index_column": 200082
                },
                {
                  "time[sec]": 400.164,
                  "Ax[mG]": -0.10162600000001021,
                  "Ay[mG]": 0.5722049999999967,
                  "Az[mG]": 0.4215840000000002,
                  "ATotal[mG]": 1002.704735,
                  "Ts[deg.C]": 16.48828,
                  "_deepnote_index_column": 200083
                }
              ],
              "rows_bottom": [
                {
                  "time[sec]": 406.834,
                  "Ax[mG]": 0.054300000000012005,
                  "Ay[mG]": -0.13852099999999723,
                  "Az[mG]": -0.2253050000000001,
                  "ATotal[mG]": 1002.881549,
                  "Ts[deg.C]": 16.49023,
                  "_deepnote_index_column": 203418
                },
                {
                  "time[sec]": 406.836,
                  "Ax[mG]": 0.05096200000002682,
                  "Ay[mG]": -0.06479000000000212,
                  "Az[mG]": -0.22912,
                  "ATotal[mG]": 1002.875771,
                  "Ts[deg.C]": 16.49023,
                  "_deepnote_index_column": 203419
                },
                {
                  "time[sec]": 406.838,
                  "Ax[mG]": 0.02288799999996627,
                  "Ay[mG]": 0.021040999999996757,
                  "Az[mG]": -0.13124899999999995,
                  "ATotal[mG]": 1002.8452,
                  "Ts[deg.C]": 16.49023,
                  "_deepnote_index_column": 203420
                },
                {
                  "time[sec]": 406.84,
                  "Ax[mG]": -0.03600100000005568,
                  "Ay[mG]": 0.15270699999999948,
                  "Az[mG]": 0.07098899999999997,
                  "ATotal[mG]": 1002.782699,
                  "Ts[deg.C]": 16.49023,
                  "_deepnote_index_column": 203421
                },
                {
                  "time[sec]": 406.842,
                  "Ax[mG]": -0.09894400000007408,
                  "Ay[mG]": 0.36412500000000136,
                  "Az[mG]": 0.28657900000000014,
                  "ATotal[mG]": 1002.713657,
                  "Ts[deg.C]": 16.49023,
                  "_deepnote_index_column": 203422
                },
                {
                  "time[sec]": 406.844,
                  "Ax[mG]": -0.13226300000007996,
                  "Ay[mG]": 0.5996230000000011,
                  "Az[mG]": 0.4396439999999999,
                  "ATotal[mG]": 1002.673297,
                  "Ts[deg.C]": 16.49023,
                  "_deepnote_index_column": 203423
                },
                {
                  "time[sec]": 406.846,
                  "Ax[mG]": -0.13935600000002069,
                  "Ay[mG]": 0.7660389999999992,
                  "Az[mG]": 0.5480650000000002,
                  "ATotal[mG]": 1002.661269,
                  "Ts[deg.C]": 16.49023,
                  "_deepnote_index_column": 203424
                },
                {
                  "time[sec]": 406.848,
                  "Ax[mG]": -0.15312500000004547,
                  "Ay[mG]": 0.829816000000001,
                  "Az[mG]": 0.642061,
                  "ATotal[mG]": 1002.645833,
                  "Ts[deg.C]": 16.49023,
                  "_deepnote_index_column": 203425
                },
                {
                  "time[sec]": 406.85,
                  "Ax[mG]": -0.18364200000007713,
                  "Ay[mG]": 0.8208160000000007,
                  "Az[mG]": 0.6887319999999999,
                  "ATotal[mG]": 1002.615807,
                  "Ts[deg.C]": 16.49023,
                  "_deepnote_index_column": 203426
                },
                {
                  "time[sec]": 406.852,
                  "Ax[mG]": -0.2005699999999706,
                  "Ay[mG]": 0.7765289999999965,
                  "Az[mG]": 0.6539229999999998,
                  "ATotal[mG]": 1002.600168,
                  "Ts[deg.C]": 16.49023,
                  "_deepnote_index_column": 203427
                },
                {
                  "time[sec]": 406.854,
                  "Ax[mG]": -0.17875500000002376,
                  "Ay[mG]": 0.712454000000001,
                  "Az[mG]": 0.5567670000000002,
                  "ATotal[mG]": 1002.623646,
                  "Ts[deg.C]": 16.49023,
                  "_deepnote_index_column": 203428
                },
                {
                  "time[sec]": 406.856,
                  "Ax[mG]": -0.13458800000000792,
                  "Ay[mG]": 0.6300209999999993,
                  "Az[mG]": 0.43827300000000013,
                  "ATotal[mG]": 1002.669989,
                  "Ts[deg.C]": 16.49023,
                  "_deepnote_index_column": 203429
                },
                {
                  "time[sec]": 406.858,
                  "Ax[mG]": -0.10287800000003244,
                  "Ay[mG]": 0.5289909999999978,
                  "Az[mG]": 0.33634900000000023,
                  "ATotal[mG]": 1002.704563,
                  "Ts[deg.C]": 16.49023,
                  "_deepnote_index_column": 203430
                },
                {
                  "time[sec]": 406.86,
                  "Ax[mG]": -0.09000300000002426,
                  "Ay[mG]": 0.41019899999999865,
                  "Az[mG]": 0.27000899999999994,
                  "ATotal[mG]": 1002.721037,
                  "Ts[deg.C]": 16.49023,
                  "_deepnote_index_column": 203431
                },
                {
                  "time[sec]": 406.862,
                  "Ax[mG]": -0.07104900000001635,
                  "Ay[mG]": 0.2779960000000017,
                  "Az[mG]": 0.20486100000000018,
                  "ATotal[mG]": 1002.744046,
                  "Ts[deg.C]": 16.49023,
                  "_deepnote_index_column": 203432
                },
                {
                  "time[sec]": 406.864,
                  "Ax[mG]": -0.027180000000043947,
                  "Ay[mG]": 0.14632900000000149,
                  "Az[mG]": 0.07933400000000024,
                  "ATotal[mG]": 1002.791753,
                  "Ts[deg.C]": 16.49023,
                  "_deepnote_index_column": 203433
                },
                {
                  "time[sec]": 406.866,
                  "Ax[mG]": 0.02640499999995427,
                  "Ay[mG]": 0.030458000000002983,
                  "Az[mG]": -0.09739399999999998,
                  "ATotal[mG]": 1002.848515,
                  "Ts[deg.C]": 16.49023,
                  "_deepnote_index_column": 203434
                },
                {
                  "time[sec]": 406.868,
                  "Ax[mG]": 0.05650500000001557,
                  "Ay[mG]": -0.06103499999999684,
                  "Az[mG]": -0.22596099999999986,
                  "ATotal[mG]": 1002.881197,
                  "Ts[deg.C]": 16.49023,
                  "_deepnote_index_column": 203435
                },
                {
                  "time[sec]": 406.87,
                  "Ax[mG]": 0.05066399999998339,
                  "Ay[mG]": -0.1167650000000009,
                  "Az[mG]": -0.22774899999999976,
                  "ATotal[mG]": 1002.87719,
                  "Ts[deg.C]": 16.49023,
                  "_deepnote_index_column": 203436
                },
                {
                  "time[sec]": 406.872,
                  "Ax[mG]": 0.02688100000000304,
                  "Ay[mG]": -0.11408300000000082,
                  "Az[mG]": -0.14048799999999995,
                  "ATotal[mG]": 1002.853608,
                  "Ts[deg.C]": 16.49023,
                  "_deepnote_index_column": 203437
                },
                {
                  "time[sec]": 406.874,
                  "Ax[mG]": 0.007271999999943546,
                  "Ay[mG]": -0.03427299999999889,
                  "Az[mG]": -0.057398999999999756,
                  "ATotal[mG]": 1002.831651,
                  "Ts[deg.C]": 16.49023,
                  "_deepnote_index_column": 203438
                },
                {
                  "time[sec]": 406.876,
                  "Ax[mG]": -0.007748999999989792,
                  "Ay[mG]": 0.11414299999999855,
                  "Az[mG]": 0.01168300000000011,
                  "ATotal[mG]": 1002.811997,
                  "Ts[deg.C]": 16.49023,
                  "_deepnote_index_column": 203439
                },
                {
                  "time[sec]": 406.878,
                  "Ax[mG]": -0.03725300000007792,
                  "Ay[mG]": 0.29373199999999855,
                  "Az[mG]": 0.14513700000000007,
                  "ATotal[mG]": 1002.777101,
                  "Ts[deg.C]": 16.49023,
                  "_deepnote_index_column": 203440
                },
                {
                  "time[sec]": 406.88,
                  "Ax[mG]": -0.09369900000001508,
                  "Ay[mG]": 0.4664059999999992,
                  "Az[mG]": 0.3573900000000001,
                  "ATotal[mG]": 1002.71584,
                  "Ts[deg.C]": 16.49023,
                  "_deepnote_index_column": 203441
                },
                {
                  "time[sec]": 406.882,
                  "Ax[mG]": -0.157654999999977,
                  "Ay[mG]": 0.616968,
                  "Az[mG]": 0.5390649999999999,
                  "ATotal[mG]": 1002.647741,
                  "Ts[deg.C]": 16.49023,
                  "_deepnote_index_column": 203442
                },
                {
                  "time[sec]": 406.884,
                  "Ax[mG]": -0.1900789999999688,
                  "Ay[mG]": 0.7315279999999973,
                  "Az[mG]": 0.5925890000000003,
                  "ATotal[mG]": 1002.611855,
                  "Ts[deg.C]": 16.49023,
                  "_deepnote_index_column": 203443
                },
                {
                  "time[sec]": 406.886,
                  "Ax[mG]": -0.1780989999999747,
                  "Ay[mG]": 0.768780999999997,
                  "Az[mG]": 0.5412699999999999,
                  "ATotal[mG]": 1002.622432,
                  "Ts[deg.C]": 16.49023,
                  "_deepnote_index_column": 203444
                },
                {
                  "time[sec]": 406.888,
                  "Ax[mG]": -0.15270700000007764,
                  "Ay[mG]": 0.705719000000002,
                  "Az[mG]": 0.4690890000000003,
                  "ATotal[mG]": 1002.649558,
                  "Ts[deg.C]": 16.49023,
                  "_deepnote_index_column": 203445
                },
                {
                  "time[sec]": 406.89,
                  "Ax[mG]": -0.14609100000006947,
                  "Ay[mG]": 0.602603000000002,
                  "Az[mG]": 0.4283190000000001,
                  "ATotal[mG]": 1002.659338,
                  "Ts[deg.C]": 16.49023,
                  "_deepnote_index_column": 203446
                },
                {
                  "time[sec]": 406.892,
                  "Ax[mG]": -0.15187300000002324,
                  "Ay[mG]": 0.5457999999999998,
                  "Az[mG]": 0.42033200000000015,
                  "ATotal[mG]": 1002.655363,
                  "Ts[deg.C]": 16.49023,
                  "_deepnote_index_column": 203447
                },
                {
                  "time[sec]": 406.894,
                  "Ax[mG]": -0.13846200000000408,
                  "Ay[mG]": 0.5321500000000015,
                  "Az[mG]": 0.40441800000000017,
                  "ATotal[mG]": 1002.669149,
                  "Ts[deg.C]": 16.49023,
                  "_deepnote_index_column": 203448
                },
                {
                  "time[sec]": 406.896,
                  "Ax[mG]": -0.09697700000003806,
                  "Ay[mG]": 0.48464500000000044,
                  "Az[mG]": 0.33724299999999996,
                  "ATotal[mG]": 1002.711899,
                  "Ts[deg.C]": 16.49023,
                  "_deepnote_index_column": 203449
                },
                {
                  "time[sec]": 406.898,
                  "Ax[mG]": -0.05608800000004521,
                  "Ay[mG]": 0.3737210000000033,
                  "Az[mG]": 0.23275600000000018,
                  "ATotal[mG]": 1002.755984,
                  "Ts[deg.C]": 16.49023,
                  "_deepnote_index_column": 203450
                },
                {
                  "time[sec]": 406.9,
                  "Ax[mG]": -0.04339200000003984,
                  "Ay[mG]": 0.24730000000000274,
                  "Az[mG]": 0.1407860000000003,
                  "ATotal[mG]": 1002.772463,
                  "Ts[deg.C]": 16.49023,
                  "_deepnote_index_column": 203451
                },
                {
                  "time[sec]": 406.902,
                  "Ax[mG]": -0.04404799999997522,
                  "Ay[mG]": 0.14996500000000168,
                  "Az[mG]": 0.06920100000000007,
                  "ATotal[mG]": 1002.77474,
                  "Ts[deg.C]": 16.49023,
                  "_deepnote_index_column": 203452
                },
                {
                  "time[sec]": 406.904,
                  "Ax[mG]": -0.0232459999999719,
                  "Ay[mG]": 0.07838000000000278,
                  "Az[mG]": -0.014244999999999841,
                  "ATotal[mG]": 1002.797593,
                  "Ts[deg.C]": 16.49023,
                  "_deepnote_index_column": 203453
                },
                {
                  "time[sec]": 406.906,
                  "Ax[mG]": 0.01579500000002554,
                  "Ay[mG]": 0.021278999999999826,
                  "Az[mG]": -0.10365199999999986,
                  "ATotal[mG]": 1002.838192,
                  "Ts[deg.C]": 16.49121,
                  "_deepnote_index_column": 203454
                },
                {
                  "time[sec]": 406.908,
                  "Ax[mG]": 0.0342719999999872,
                  "Ay[mG]": -0.002146000000003312,
                  "Az[mG]": -0.13124899999999995,
                  "ATotal[mG]": 1002.85734,
                  "Ts[deg.C]": 16.49121,
                  "_deepnote_index_column": 203455
                },
                {
                  "time[sec]": 406.91,
                  "Ax[mG]": 0.00834399999996549,
                  "Ay[mG]": 0.03600099999999884,
                  "Az[mG]": -0.043987999999999694,
                  "ATotal[mG]": 1002.830458,
                  "Ts[deg.C]": 16.49121,
                  "_deepnote_index_column": 203456
                },
                {
                  "time[sec]": 406.912,
                  "Ax[mG]": -0.042378999999982625,
                  "Ay[mG]": 0.1453160000000011,
                  "Az[mG]": 0.12308399999999997,
                  "ATotal[mG]": 1002.776746,
                  "Ts[deg.C]": 16.49121,
                  "_deepnote_index_column": 203457
                },
                {
                  "time[sec]": 406.914,
                  "Ax[mG]": -0.08463900000003832,
                  "Ay[mG]": 0.30523500000000325,
                  "Az[mG]": 0.26619400000000004,
                  "ATotal[mG]": 1002.729796,
                  "Ts[deg.C]": 16.49121,
                  "_deepnote_index_column": 203458
                },
                {
                  "time[sec]": 406.916,
                  "Ax[mG]": -0.1032350000000406,
                  "Ay[mG]": 0.47254600000000124,
                  "Az[mG]": 0.3328920000000002,
                  "ATotal[mG]": 1002.706019,
                  "Ts[deg.C]": 16.49121,
                  "_deepnote_index_column": 203459
                },
                {
                  "time[sec]": 406.918,
                  "Ax[mG]": -0.108361000000059,
                  "Ay[mG]": 0.5879400000000032,
                  "Az[mG]": 0.3733040000000001,
                  "ATotal[mG]": 1002.697314,
                  "Ts[deg.C]": 16.49121,
                  "_deepnote_index_column": 203460
                },
                {
                  "time[sec]": 406.92,
                  "Ax[mG]": -0.11998400000004494,
                  "Ay[mG]": 0.6052260000000018,
                  "Az[mG]": 0.42659100000000016,
                  "ATotal[mG]": 1002.685339,
                  "Ts[deg.C]": 16.49121,
                  "_deepnote_index_column": 203461
                },
                {
                  "time[sec]": 406.922,
                  "Ax[mG]": -0.141083999999978,
                  "Ay[mG]": 0.5467530000000025,
                  "Az[mG]": 0.44280300000000006,
                  "ATotal[mG]": 1002.6662,
                  "Ts[deg.C]": 16.49121,
                  "_deepnote_index_column": 203462
                },
                {
                  "time[sec]": 406.924,
                  "Ax[mG]": -0.14883300000008148,
                  "Ay[mG]": 0.4976989999999972,
                  "Az[mG]": 0.38629800000000003,
                  "ATotal[mG]": 1002.65983,
                  "Ts[deg.C]": 16.49121,
                  "_deepnote_index_column": 203463
                },
                {
                  "time[sec]": 406.926,
                  "Ax[mG]": -0.12677900000005593,
                  "Ay[mG]": 0.4990099999999984,
                  "Az[mG]": 0.31584499999999993,
                  "ATotal[mG]": 1002.681568,
                  "Ts[deg.C]": 16.49121,
                  "_deepnote_index_column": 203464
                },
                {
                  "time[sec]": 406.928,
                  "Ax[mG]": -0.0930430000000797,
                  "Ay[mG]": 0.49680500000000194,
                  "Az[mG]": 0.292659,
                  "ATotal[mG]": 1002.715273,
                  "Ts[deg.C]": 16.49121,
                  "_deepnote_index_column": 203465
                },
                {
                  "time[sec]": 406.93,
                  "Ax[mG]": -0.08076500000004216,
                  "Ay[mG]": 0.4439350000000033,
                  "Az[mG]": 0.30225500000000016,
                  "ATotal[mG]": 1002.729293,
                  "Ts[deg.C]": 16.49121,
                  "_deepnote_index_column": 203466
                },
                {
                  "time[sec]": 406.932,
                  "Ax[mG]": -0.09030100000006769,
                  "Ay[mG]": 0.3791450000000012,
                  "Az[mG]": 0.2985000000000002,
                  "ATotal[mG]": 1002.721851,
                  "Ts[deg.C]": 16.49121,
                  "_deepnote_index_column": 203467
                },
                {
                  "time[sec]": 406.934,
                  "Ax[mG]": -0.08970499999998083,
                  "Ay[mG]": 0.3461240000000032,
                  "Az[mG]": 0.25451200000000007,
                  "ATotal[mG]": 1002.72336,
                  "Ts[deg.C]": 16.49121,
                  "_deepnote_index_column": 203468
                },
                {
                  "time[sec]": 406.936,
                  "Ax[mG]": -0.06425400000000536,
                  "Ay[mG]": 0.31405699999999825,
                  "Az[mG]": 0.17583400000000005,
                  "ATotal[mG]": 1002.74956,
                  "Ts[deg.C]": 16.49121,
                  "_deepnote_index_column": 203469
                },
                {
                  "time[sec]": 406.938,
                  "Ax[mG]": -0.039220000000000255,
                  "Ay[mG]": 0.24133900000000352,
                  "Az[mG]": 0.10079200000000021,
                  "ATotal[mG]": 1002.776689,
                  "Ts[deg.C]": 16.49121,
                  "_deepnote_index_column": 203470
                },
                {
                  "time[sec]": 406.94,
                  "Ax[mG]": -0.03826600000002145,
                  "Ay[mG]": 0.1483559999999997,
                  "Az[mG]": 0.06037999999999988,
                  "ATotal[mG]": 1002.780541,
                  "Ts[deg.C]": 16.49121,
                  "_deepnote_index_column": 203471
                },
                {
                  "time[sec]": 406.942,
                  "Ax[mG]": -0.04947200000003704,
                  "Ay[mG]": 0.08988399999999785,
                  "Az[mG]": 0.042856000000000005,
                  "ATotal[mG]": 1002.771196,
                  "Ts[deg.C]": 16.49121,
                  "_deepnote_index_column": 203472
                },
                {
                  "time[sec]": 406.944,
                  "Ax[mG]": -0.04750500000000102,
                  "Ay[mG]": 0.10079199999999844,
                  "Az[mG]": 0.03910100000000005,
                  "ATotal[mG]": 1002.772792,
                  "Ts[deg.C]": 16.49121,
                  "_deepnote_index_column": 203473
                },
                {
                  "time[sec]": 406.946,
                  "Ax[mG]": -0.03433200000006309,
                  "Ay[mG]": 0.17636999999999858,
                  "Az[mG]": 0.07075100000000001,
                  "ATotal[mG]": 1002.783592,
                  "Ts[deg.C]": 16.49121,
                  "_deepnote_index_column": 203474
                },
                {
                  "time[sec]": 406.948,
                  "Ax[mG]": -0.036120999999980086,
                  "Ay[mG]": 0.2781749999999974,
                  "Az[mG]": 0.14334900000000017,
                  "ATotal[mG]": 1002.778733,
                  "Ts[deg.C]": 16.49121,
                  "_deepnote_index_column": 203475
                },
                {
                  "time[sec]": 406.95,
                  "Ax[mG]": -0.06633999999996831,
                  "Ay[mG]": 0.37044300000000163,
                  "Az[mG]": 0.24002800000000013,
                  "ATotal[mG]": 1002.74587,
                  "Ts[deg.C]": 16.49121,
                  "_deepnote_index_column": 203476
                },
                {
                  "time[sec]": 406.952,
                  "Ax[mG]": -0.10567900000000918,
                  "Ay[mG]": 0.4457829999999987,
                  "Az[mG]": 0.3437999999999999,
                  "ATotal[mG]": 1002.704484,
                  "Ts[deg.C]": 16.49121,
                  "_deepnote_index_column": 203477
                },
                {
                  "time[sec]": 406.954,
                  "Ax[mG]": -0.12373900000000049,
                  "Ay[mG]": 0.5010369999999966,
                  "Az[mG]": 0.40674199999999994,
                  "ATotal[mG]": 1002.684878,
                  "Ts[deg.C]": 16.49121,
                  "_deepnote_index_column": 203478
                },
                {
                  "time[sec]": 406.956,
                  "Ax[mG]": -0.11569300000007843,
                  "Ay[mG]": 0.5230310000000031,
                  "Az[mG]": 0.3768799999999999,
                  "ATotal[mG]": 1002.692097,
                  "Ts[deg.C]": 16.49121,
                  "_deepnote_index_column": 203479
                },
                {
                  "time[sec]": 406.958,
                  "Ax[mG]": -0.10520200000007662,
                  "Ay[mG]": 0.5160570000000035,
                  "Az[mG]": 0.30362599999999995,
                  "ATotal[mG]": 1002.702538,
                  "Ts[deg.C]": 16.49121,
                  "_deepnote_index_column": 203480
                },
                {
                  "time[sec]": 406.96,
                  "Ax[mG]": -0.10901699999999437,
                  "Ay[mG]": 0.49048700000000167,
                  "Az[mG]": 0.2859829999999999,
                  "ATotal[mG]": 1002.699488,
                  "Ts[deg.C]": 16.49121,
                  "_deepnote_index_column": 203481
                },
                {
                  "time[sec]": 406.962,
                  "Ax[mG]": -0.11760000000003856,
                  "Ay[mG]": 0.4388089999999991,
                  "Az[mG]": 0.3106,
                  "ATotal[mG]": 1002.692674,
                  "Ts[deg.C]": 16.49121,
                  "_deepnote_index_column": 203482
                },
                {
                  "time[sec]": 406.964,
                  "Ax[mG]": -0.11050699999998415,
                  "Ay[mG]": 0.375390000000003,
                  "Az[mG]": 0.2863410000000002,
                  "ATotal[mG]": 1002.701733,
                  "Ts[deg.C]": 16.49121,
                  "_deepnote_index_column": 203483
                },
                {
                  "time[sec]": 406.966,
                  "Ax[mG]": -0.08183700000006411,
                  "Ay[mG]": 0.34528999999999854,
                  "Az[mG]": 0.2111200000000002,
                  "ATotal[mG]": 1002.731095,
                  "Ts[deg.C]": 16.49121,
                  "_deepnote_index_column": 203484
                },
                {
                  "time[sec]": 406.968,
                  "Ax[mG]": -0.04869700000006105,
                  "Ay[mG]": 0.34695899999999824,
                  "Az[mG]": 0.16605900000000018,
                  "ATotal[mG]": 1002.764004,
                  "Ts[deg.C]": 16.49121,
                  "_deepnote_index_column": 203485
                },
                {
                  "time[sec]": 406.97,
                  "Ax[mG]": -0.037492000000042935,
                  "Ay[mG]": 0.32162699999999944,
                  "Az[mG]": 0.1821520000000003,
                  "ATotal[mG]": 1002.776085,
                  "Ts[deg.C]": 16.49121,
                  "_deepnote_index_column": 203486
                },
                {
                  "time[sec]": 406.972,
                  "Ax[mG]": -0.05263100000001941,
                  "Ay[mG]": 0.253618000000003,
                  "Az[mG]": 0.20486100000000018,
                  "ATotal[mG]": 1002.763249,
                  "Ts[deg.C]": 16.49121,
                  "_deepnote_index_column": 203487
                },
                {
                  "time[sec]": 406.974,
                  "Ax[mG]": -0.06556499999999232,
                  "Ay[mG]": 0.1987219999999965,
                  "Az[mG]": 0.1664760000000003,
                  "ATotal[mG]": 1002.751978,
                  "Ts[deg.C]": 16.49121,
                  "_deepnote_index_column": 203488
                },
                {
                  "time[sec]": 406.976,
                  "Ax[mG]": -0.051141000000029635,
                  "Ay[mG]": 0.19544400000000195,
                  "Az[mG]": 0.0761750000000001,
                  "ATotal[mG]": 1002.766188,
                  "Ts[deg.C]": 16.49121,
                  "_deepnote_index_column": 203489
                },
                {
                  "time[sec]": 406.978,
                  "Ax[mG]": -0.025094000000080996,
                  "Ay[mG]": 0.2188680000000005,
                  "Az[mG]": 0.029922000000000004,
                  "ATotal[mG]": 1002.791299,
                  "Ts[deg.C]": 16.49121,
                  "_deepnote_index_column": 203490
                },
                {
                  "time[sec]": 406.98,
                  "Ax[mG]": -0.022649999999998727,
                  "Ay[mG]": 0.23573600000000283,
                  "Az[mG]": 0.09065900000000005,
                  "ATotal[mG]": 1002.793398,
                  "Ts[deg.C]": 16.49023,
                  "_deepnote_index_column": 203491
                },
                {
                  "time[sec]": 406.982,
                  "Ax[mG]": -0.050068000000010215,
                  "Ay[mG]": 0.2535579999999982,
                  "Az[mG]": 0.1958009999999999,
                  "ATotal[mG]": 1002.76578,
                  "Ts[deg.C]": 16.49023,
                  "_deepnote_index_column": 203492
                },
                {
                  "time[sec]": 406.984,
                  "Ax[mG]": -0.07599600000003193,
                  "Ay[mG]": 0.31006299999999953,
                  "Az[mG]": 0.2579690000000001,
                  "ATotal[mG]": 1002.738247,
                  "Ts[deg.C]": 16.49023,
                  "_deepnote_index_column": 203493
                },
                {
                  "time[sec]": 406.986,
                  "Ax[mG]": -0.08028799999999592,
                  "Ay[mG]": 0.404358000000002,
                  "Az[mG]": 0.2752539999999999,
                  "ATotal[mG]": 1002.730955,
                  "Ts[deg.C]": 16.49023,
                  "_deepnote_index_column": 203494
                },
                {
                  "time[sec]": 406.988,
                  "Ax[mG]": -0.07808199999999488,
                  "Ay[mG]": 0.4822020000000009,
                  "Az[mG]": 0.29289699999999996,
                  "ATotal[mG]": 1002.7307,
                  "Ts[deg.C]": 16.49023,
                  "_deepnote_index_column": 203495
                },
                {
                  "time[sec]": 406.99,
                  "Ax[mG]": -0.09596399999998084,
                  "Ay[mG]": 0.5083079999999995,
                  "Az[mG]": 0.33295200000000014,
                  "ATotal[mG]": 1002.71213,
                  "Ts[deg.C]": 16.49023,
                  "_deepnote_index_column": 203496
                },
                {
                  "time[sec]": 406.992,
                  "Ax[mG]": -0.13196500000003653,
                  "Ay[mG]": 0.5146859999999975,
                  "Az[mG]": 0.3907090000000002,
                  "ATotal[mG]": 1002.676155,
                  "Ts[deg.C]": 16.49023,
                  "_deepnote_index_column": 203497
                },
                {
                  "time[sec]": 406.994,
                  "Ax[mG]": -0.1515150000000176,
                  "Ay[mG]": 0.5311370000000011,
                  "Az[mG]": 0.42510000000000003,
                  "ATotal[mG]": 1002.656213,
                  "Ts[deg.C]": 16.49023,
                  "_deepnote_index_column": 203498
                },
                {
                  "time[sec]": 406.996,
                  "Ax[mG]": -0.12868700000001354,
                  "Ay[mG]": 0.5264280000000028,
                  "Az[mG]": 0.382304,
                  "ATotal[mG]": 1002.679021,
                  "Ts[deg.C]": 16.49023,
                  "_deepnote_index_column": 203499
                },
                {
                  "time[sec]": 406.998,
                  "Ax[mG]": -0.08320800000001327,
                  "Ay[mG]": 0.4695650000000029,
                  "Az[mG]": 0.2852680000000003,
                  "ATotal[mG]": 1002.725958,
                  "Ts[deg.C]": 16.49023,
                  "_deepnote_index_column": 203500
                }
              ]
            },
            "text/plain": "            time[sec]    Ax[mG]    Ay[mG]    Az[mG]   ATotal[mG]  Ts[deg.C]\nSample No.                                                                 \n200001        400.000  0.000000  0.000000  0.000000  1002.823447   16.48828\n200002        400.002  0.049531 -0.010431 -0.075757  1002.873043   16.48828\n200003        400.004  0.055015 -0.024915 -0.084638  1002.878971   16.48926\n200004        400.006  0.002980  0.001073 -0.019848  1002.826324   16.48926\n200005        400.008 -0.056625  0.100255  0.070393  1002.763802   16.48926\n...               ...       ...       ...       ...          ...        ...\n203496        406.990 -0.095964  0.508308  0.332952  1002.712130   16.49023\n203497        406.992 -0.131965  0.514686  0.390709  1002.676155   16.49023\n203498        406.994 -0.151515  0.531137  0.425100  1002.656213   16.49023\n203499        406.996 -0.128687  0.526428  0.382304  1002.679021   16.49023\n203500        406.998 -0.083208  0.469565  0.285268  1002.725958   16.49023\n\n[3500 rows x 6 columns]",
            "text/html": "<div>\n<style scoped>\n    .dataframe tbody tr th:only-of-type {\n        vertical-align: middle;\n    }\n\n    .dataframe tbody tr th {\n        vertical-align: top;\n    }\n\n    .dataframe thead th {\n        text-align: right;\n    }\n</style>\n<table border=\"1\" class=\"dataframe\">\n  <thead>\n    <tr style=\"text-align: right;\">\n      <th></th>\n      <th>time[sec]</th>\n      <th>Ax[mG]</th>\n      <th>Ay[mG]</th>\n      <th>Az[mG]</th>\n      <th>ATotal[mG]</th>\n      <th>Ts[deg.C]</th>\n    </tr>\n    <tr>\n      <th>Sample No.</th>\n      <th></th>\n      <th></th>\n      <th></th>\n      <th></th>\n      <th></th>\n      <th></th>\n    </tr>\n  </thead>\n  <tbody>\n    <tr>\n      <th>200001</th>\n      <td>400.000</td>\n      <td>0.000000</td>\n      <td>0.000000</td>\n      <td>0.000000</td>\n      <td>1002.823447</td>\n      <td>16.48828</td>\n    </tr>\n    <tr>\n      <th>200002</th>\n      <td>400.002</td>\n      <td>0.049531</td>\n      <td>-0.010431</td>\n      <td>-0.075757</td>\n      <td>1002.873043</td>\n      <td>16.48828</td>\n    </tr>\n    <tr>\n      <th>200003</th>\n      <td>400.004</td>\n      <td>0.055015</td>\n      <td>-0.024915</td>\n      <td>-0.084638</td>\n      <td>1002.878971</td>\n      <td>16.48926</td>\n    </tr>\n    <tr>\n      <th>200004</th>\n      <td>400.006</td>\n      <td>0.002980</td>\n      <td>0.001073</td>\n      <td>-0.019848</td>\n      <td>1002.826324</td>\n      <td>16.48926</td>\n    </tr>\n    <tr>\n      <th>200005</th>\n      <td>400.008</td>\n      <td>-0.056625</td>\n      <td>0.100255</td>\n      <td>0.070393</td>\n      <td>1002.763802</td>\n      <td>16.48926</td>\n    </tr>\n    <tr>\n      <th>...</th>\n      <td>...</td>\n      <td>...</td>\n      <td>...</td>\n      <td>...</td>\n      <td>...</td>\n      <td>...</td>\n    </tr>\n    <tr>\n      <th>203496</th>\n      <td>406.990</td>\n      <td>-0.095964</td>\n      <td>0.508308</td>\n      <td>0.332952</td>\n      <td>1002.712130</td>\n      <td>16.49023</td>\n    </tr>\n    <tr>\n      <th>203497</th>\n      <td>406.992</td>\n      <td>-0.131965</td>\n      <td>0.514686</td>\n      <td>0.390709</td>\n      <td>1002.676155</td>\n      <td>16.49023</td>\n    </tr>\n    <tr>\n      <th>203498</th>\n      <td>406.994</td>\n      <td>-0.151515</td>\n      <td>0.531137</td>\n      <td>0.425100</td>\n      <td>1002.656213</td>\n      <td>16.49023</td>\n    </tr>\n    <tr>\n      <th>203499</th>\n      <td>406.996</td>\n      <td>-0.128687</td>\n      <td>0.526428</td>\n      <td>0.382304</td>\n      <td>1002.679021</td>\n      <td>16.49023</td>\n    </tr>\n    <tr>\n      <th>203500</th>\n      <td>406.998</td>\n      <td>-0.083208</td>\n      <td>0.469565</td>\n      <td>0.285268</td>\n      <td>1002.725958</td>\n      <td>16.49023</td>\n    </tr>\n  </tbody>\n</table>\n<p>3500 rows × 6 columns</p>\n</div>"
          },
          "metadata": {}
        }
      ]
    },
    {
      "cell_type": "markdown",
      "source": "### Relabeling the Axes",
      "metadata": {
        "tags": [],
        "cell_id": "00013-d7377e57-eced-42f3-8ccf-6fcf1ce7f8c7",
        "deepnote_cell_type": "markdown"
      }
    },
    {
      "cell_type": "markdown",
      "source": "<img src=\"/Pictures/Accelerometer.png\" width=\"200\" height=\"200\" align=\"center\"/>\n",
      "metadata": {
        "tags": [],
        "cell_id": "00018-3e414dc3-3c2d-4526-8c3c-d6161d28d854",
        "deepnote_cell_type": "markdown"
      }
    },
    {
      "cell_type": "markdown",
      "source": "This tiny apparatus is our accelerometer. It is called a Epson M-A351Accelerometer. We will refer to it as an accelerometer. The details are not important. As you can see on the picture above**attach photo**, there are 3 different axis (X,Y,and Z).  That is we are working with an accelerometer which records acceleration in 3D direction, as we explained above. \nThe accelerometer will then record the following:\n\n\nAn acceleration value in the X direction \n\nAn acceleration value in the Y direction\n\nAn acceleration value in the Z direction\n\nThe next step in this process is to standardize the variables. To normalize the data, we must relabel the axes that were provided from the sensors, to a global coordinate system. \nBecause each of the 4 accelerometers were mounted independently, the direction of one might be neither the direction of the other. The acceleration measured by each accelerometer needs to be standarized such that there exists global x, global y, and global z measurements so that we can analyze the data. \n\n**not sure how to add a photo, was thinking of just adding the photos from the explanation doc of where the accelerometers are located and the drawing of each x y z direction of each one. \n\n**Need to explain how the axis do not correspond. Maybe add picture to help students see why we need to do it.",
      "metadata": {
        "tags": [],
        "cell_id": "00014-5faf6e00-c7c6-4db6-ab12-873e3a5e47ab",
        "deepnote_cell_type": "markdown"
      }
    },
    {
      "cell_type": "markdown",
      "source": "#### Resetting axes for SouthWest dataset",
      "metadata": {
        "tags": [],
        "cell_id": "00015-1208ae6b-bb82-43c1-9471-91174e2ebba6",
        "deepnote_cell_type": "markdown"
      }
    },
    {
      "cell_type": "code",
      "metadata": {
        "tags": [],
        "cell_id": "00016-140c9353-c6a5-43f5-9c21-b523160a81af",
        "deepnote_to_be_reexecuted": false,
        "source_hash": "94609f9f",
        "execution_millis": 825,
        "execution_start": 1617128632061,
        "deepnote_cell_type": "code"
      },
      "source": "sw_df_axes_reset = pd.read_csv('sather-tower-files/SouthWest.csv')\nsw_df_axes_reset[\"Global X\"] = sw_df_axes_reset[\"Ay[mG]\"]\nsw_df_axes_reset[\"Global Y\"] = sw_df_axes_reset[\"Az[mG]\"]\nsw_df_axes_reset[\"Global Z\"] = sw_df_axes_reset[\"Ax[mG]\"]\nsw_df_axes_reset = sw_df_axes_reset[['Sample No.', 'time[sec]', 'Global X', 'Global Y', 'Global Z', 'ATotal[mG]', 'Ts[deg.C]']]\nsw_df_axes_reset.head()",
      "execution_count": null,
      "outputs": [
        {
          "output_type": "execute_result",
          "execution_count": 4,
          "data": {
            "application/vnd.deepnote.dataframe.v2+json": {
              "row_count": 5,
              "column_count": 7,
              "columns": [
                {
                  "name": "Sample No.",
                  "dtype": "int64",
                  "stats": {
                    "unique_count": 5,
                    "nan_count": 0,
                    "min": 1,
                    "max": 5,
                    "histogram": [
                      {
                        "bin_start": 1,
                        "bin_end": 1.4,
                        "count": 1
                      },
                      {
                        "bin_start": 1.4,
                        "bin_end": 1.8,
                        "count": 0
                      },
                      {
                        "bin_start": 1.8,
                        "bin_end": 2.2,
                        "count": 1
                      },
                      {
                        "bin_start": 2.2,
                        "bin_end": 2.6,
                        "count": 0
                      },
                      {
                        "bin_start": 2.6,
                        "bin_end": 3,
                        "count": 0
                      },
                      {
                        "bin_start": 3,
                        "bin_end": 3.4000000000000004,
                        "count": 1
                      },
                      {
                        "bin_start": 3.4000000000000004,
                        "bin_end": 3.8000000000000003,
                        "count": 0
                      },
                      {
                        "bin_start": 3.8000000000000003,
                        "bin_end": 4.2,
                        "count": 1
                      },
                      {
                        "bin_start": 4.2,
                        "bin_end": 4.6,
                        "count": 0
                      },
                      {
                        "bin_start": 4.6,
                        "bin_end": 5,
                        "count": 1
                      }
                    ]
                  }
                },
                {
                  "name": "time[sec]",
                  "dtype": "float64",
                  "stats": {
                    "unique_count": 5,
                    "nan_count": 0,
                    "min": 0,
                    "max": 0.008,
                    "histogram": [
                      {
                        "bin_start": 0,
                        "bin_end": 0.0008,
                        "count": 1
                      },
                      {
                        "bin_start": 0.0008,
                        "bin_end": 0.0016,
                        "count": 0
                      },
                      {
                        "bin_start": 0.0016,
                        "bin_end": 0.0024000000000000002,
                        "count": 1
                      },
                      {
                        "bin_start": 0.0024000000000000002,
                        "bin_end": 0.0032,
                        "count": 0
                      },
                      {
                        "bin_start": 0.0032,
                        "bin_end": 0.004,
                        "count": 0
                      },
                      {
                        "bin_start": 0.004,
                        "bin_end": 0.0048000000000000004,
                        "count": 1
                      },
                      {
                        "bin_start": 0.0048000000000000004,
                        "bin_end": 0.0056,
                        "count": 0
                      },
                      {
                        "bin_start": 0.0056,
                        "bin_end": 0.0064,
                        "count": 1
                      },
                      {
                        "bin_start": 0.0064,
                        "bin_end": 0.007200000000000001,
                        "count": 0
                      },
                      {
                        "bin_start": 0.007200000000000001,
                        "bin_end": 0.008,
                        "count": 1
                      }
                    ]
                  }
                },
                {
                  "name": "Global X",
                  "dtype": "float64",
                  "stats": {
                    "unique_count": 5,
                    "nan_count": 0,
                    "min": -33.087611,
                    "max": -32.989442,
                    "histogram": [
                      {
                        "bin_start": -33.087611,
                        "bin_end": -33.077794100000006,
                        "count": 2
                      },
                      {
                        "bin_start": -33.077794100000006,
                        "bin_end": -33.0679772,
                        "count": 0
                      },
                      {
                        "bin_start": -33.0679772,
                        "bin_end": -33.0581603,
                        "count": 0
                      },
                      {
                        "bin_start": -33.0581603,
                        "bin_end": -33.0483434,
                        "count": 0
                      },
                      {
                        "bin_start": -33.0483434,
                        "bin_end": -33.0385265,
                        "count": 1
                      },
                      {
                        "bin_start": -33.0385265,
                        "bin_end": -33.0287096,
                        "count": 1
                      },
                      {
                        "bin_start": -33.0287096,
                        "bin_end": -33.018892699999995,
                        "count": 0
                      },
                      {
                        "bin_start": -33.018892699999995,
                        "bin_end": -33.0090758,
                        "count": 0
                      },
                      {
                        "bin_start": -33.0090758,
                        "bin_end": -32.9992589,
                        "count": 0
                      },
                      {
                        "bin_start": -32.9992589,
                        "bin_end": -32.989442,
                        "count": 1
                      }
                    ]
                  }
                },
                {
                  "name": "Global Y",
                  "dtype": "float64",
                  "stats": {
                    "unique_count": 5,
                    "nan_count": 0,
                    "min": 3.417969,
                    "max": 3.517032,
                    "histogram": [
                      {
                        "bin_start": 3.417969,
                        "bin_end": 3.4278752999999997,
                        "count": 1
                      },
                      {
                        "bin_start": 3.4278752999999997,
                        "bin_end": 3.4377815999999997,
                        "count": 0
                      },
                      {
                        "bin_start": 3.4377815999999997,
                        "bin_end": 3.4476879,
                        "count": 0
                      },
                      {
                        "bin_start": 3.4476879,
                        "bin_end": 3.4575942,
                        "count": 1
                      },
                      {
                        "bin_start": 3.4575942,
                        "bin_end": 3.4675005,
                        "count": 0
                      },
                      {
                        "bin_start": 3.4675005,
                        "bin_end": 3.4774068,
                        "count": 0
                      },
                      {
                        "bin_start": 3.4774068,
                        "bin_end": 3.4873130999999997,
                        "count": 1
                      },
                      {
                        "bin_start": 3.4873130999999997,
                        "bin_end": 3.4972194,
                        "count": 0
                      },
                      {
                        "bin_start": 3.4972194,
                        "bin_end": 3.5071257,
                        "count": 1
                      },
                      {
                        "bin_start": 3.5071257,
                        "bin_end": 3.517032,
                        "count": 1
                      }
                    ]
                  }
                },
                {
                  "name": "Global Z",
                  "dtype": "float64",
                  "stats": {
                    "unique_count": 5,
                    "nan_count": 0,
                    "min": 1002.240181,
                    "max": 1002.276957,
                    "histogram": [
                      {
                        "bin_start": 1002.240181,
                        "bin_end": 1002.2438586000001,
                        "count": 1
                      },
                      {
                        "bin_start": 1002.2438586000001,
                        "bin_end": 1002.2475362,
                        "count": 1
                      },
                      {
                        "bin_start": 1002.2475362,
                        "bin_end": 1002.2512138,
                        "count": 0
                      },
                      {
                        "bin_start": 1002.2512138,
                        "bin_end": 1002.2548914,
                        "count": 1
                      },
                      {
                        "bin_start": 1002.2548914,
                        "bin_end": 1002.2585690000001,
                        "count": 0
                      },
                      {
                        "bin_start": 1002.2585690000001,
                        "bin_end": 1002.2622466,
                        "count": 1
                      },
                      {
                        "bin_start": 1002.2622466,
                        "bin_end": 1002.2659242,
                        "count": 0
                      },
                      {
                        "bin_start": 1002.2659242,
                        "bin_end": 1002.2696018,
                        "count": 0
                      },
                      {
                        "bin_start": 1002.2696018,
                        "bin_end": 1002.2732794000001,
                        "count": 0
                      },
                      {
                        "bin_start": 1002.2732794000001,
                        "bin_end": 1002.276957,
                        "count": 1
                      }
                    ]
                  }
                },
                {
                  "name": "ATotal[mG]",
                  "dtype": "float64",
                  "stats": {
                    "unique_count": 5,
                    "nan_count": 0,
                    "min": 1002.79057,
                    "max": 1002.829127,
                    "histogram": [
                      {
                        "bin_start": 1002.79057,
                        "bin_end": 1002.7944257,
                        "count": 1
                      },
                      {
                        "bin_start": 1002.7944257,
                        "bin_end": 1002.7982814,
                        "count": 1
                      },
                      {
                        "bin_start": 1002.7982814,
                        "bin_end": 1002.8021371,
                        "count": 1
                      },
                      {
                        "bin_start": 1002.8021371,
                        "bin_end": 1002.8059928,
                        "count": 0
                      },
                      {
                        "bin_start": 1002.8059928,
                        "bin_end": 1002.8098485,
                        "count": 0
                      },
                      {
                        "bin_start": 1002.8098485,
                        "bin_end": 1002.8137042,
                        "count": 1
                      },
                      {
                        "bin_start": 1002.8137042,
                        "bin_end": 1002.8175599,
                        "count": 0
                      },
                      {
                        "bin_start": 1002.8175599,
                        "bin_end": 1002.8214156,
                        "count": 0
                      },
                      {
                        "bin_start": 1002.8214156,
                        "bin_end": 1002.8252712999999,
                        "count": 0
                      },
                      {
                        "bin_start": 1002.8252712999999,
                        "bin_end": 1002.829127,
                        "count": 1
                      }
                    ]
                  }
                },
                {
                  "name": "Ts[deg.C]",
                  "dtype": "float64",
                  "stats": {
                    "unique_count": 1,
                    "nan_count": 0,
                    "min": 15.92285,
                    "max": 15.92285,
                    "histogram": [
                      {
                        "bin_start": 15.42285,
                        "bin_end": 15.52285,
                        "count": 0
                      },
                      {
                        "bin_start": 15.52285,
                        "bin_end": 15.62285,
                        "count": 0
                      },
                      {
                        "bin_start": 15.62285,
                        "bin_end": 15.722850000000001,
                        "count": 0
                      },
                      {
                        "bin_start": 15.722850000000001,
                        "bin_end": 15.82285,
                        "count": 0
                      },
                      {
                        "bin_start": 15.82285,
                        "bin_end": 15.92285,
                        "count": 0
                      },
                      {
                        "bin_start": 15.92285,
                        "bin_end": 16.022850000000002,
                        "count": 5
                      },
                      {
                        "bin_start": 16.022850000000002,
                        "bin_end": 16.12285,
                        "count": 0
                      },
                      {
                        "bin_start": 16.12285,
                        "bin_end": 16.22285,
                        "count": 0
                      },
                      {
                        "bin_start": 16.22285,
                        "bin_end": 16.32285,
                        "count": 0
                      },
                      {
                        "bin_start": 16.32285,
                        "bin_end": 16.42285,
                        "count": 0
                      }
                    ]
                  }
                },
                {
                  "name": "_deepnote_index_column",
                  "dtype": "int64"
                }
              ],
              "rows_top": [
                {
                  "Sample No.": 1,
                  "time[sec]": 0,
                  "Global X": -32.989442,
                  "Global Y": 3.453851,
                  "Global Z": 1002.251267,
                  "ATotal[mG]": 1002.799998,
                  "Ts[deg.C]": 15.92285,
                  "_deepnote_index_column": 0
                },
                {
                  "Sample No.": 2,
                  "time[sec]": 0.002,
                  "Global X": -33.043385,
                  "Global Y": 3.417969,
                  "Global Z": 1002.240181,
                  "ATotal[mG]": 1002.79057,
                  "Ts[deg.C]": 15.92285,
                  "_deepnote_index_column": 1
                },
                {
                  "Sample No.": 3,
                  "time[sec]": 0.004,
                  "Global X": -33.084989,
                  "Global Y": 3.477454,
                  "Global Z": 1002.260506,
                  "ATotal[mG]": 1002.812461,
                  "Ts[deg.C]": 15.92285,
                  "_deepnote_index_column": 2
                },
                {
                  "Sample No.": 4,
                  "time[sec]": 0.006,
                  "Global X": -33.087611,
                  "Global Y": 3.517032,
                  "Global Z": 1002.276957,
                  "ATotal[mG]": 1002.829127,
                  "Ts[deg.C]": 15.92285,
                  "_deepnote_index_column": 3
                },
                {
                  "Sample No.": 5,
                  "time[sec]": 0.008,
                  "Global X": -33.03355,
                  "Global Y": 3.501534,
                  "Global Z": 1002.246618,
                  "ATotal[mG]": 1002.796968,
                  "Ts[deg.C]": 15.92285,
                  "_deepnote_index_column": 4
                }
              ],
              "rows_bottom": null
            },
            "text/plain": "   Sample No.  time[sec]   Global X  Global Y     Global Z   ATotal[mG]  \\\n0           1      0.000 -32.989442  3.453851  1002.251267  1002.799998   \n1           2      0.002 -33.043385  3.417969  1002.240181  1002.790570   \n2           3      0.004 -33.084989  3.477454  1002.260506  1002.812461   \n3           4      0.006 -33.087611  3.517032  1002.276957  1002.829127   \n4           5      0.008 -33.033550  3.501534  1002.246618  1002.796968   \n\n   Ts[deg.C]  \n0   15.92285  \n1   15.92285  \n2   15.92285  \n3   15.92285  \n4   15.92285  ",
            "text/html": "<div>\n<style scoped>\n    .dataframe tbody tr th:only-of-type {\n        vertical-align: middle;\n    }\n\n    .dataframe tbody tr th {\n        vertical-align: top;\n    }\n\n    .dataframe thead th {\n        text-align: right;\n    }\n</style>\n<table border=\"1\" class=\"dataframe\">\n  <thead>\n    <tr style=\"text-align: right;\">\n      <th></th>\n      <th>Sample No.</th>\n      <th>time[sec]</th>\n      <th>Global X</th>\n      <th>Global Y</th>\n      <th>Global Z</th>\n      <th>ATotal[mG]</th>\n      <th>Ts[deg.C]</th>\n    </tr>\n  </thead>\n  <tbody>\n    <tr>\n      <th>0</th>\n      <td>1</td>\n      <td>0.000</td>\n      <td>-32.989442</td>\n      <td>3.453851</td>\n      <td>1002.251267</td>\n      <td>1002.799998</td>\n      <td>15.92285</td>\n    </tr>\n    <tr>\n      <th>1</th>\n      <td>2</td>\n      <td>0.002</td>\n      <td>-33.043385</td>\n      <td>3.417969</td>\n      <td>1002.240181</td>\n      <td>1002.790570</td>\n      <td>15.92285</td>\n    </tr>\n    <tr>\n      <th>2</th>\n      <td>3</td>\n      <td>0.004</td>\n      <td>-33.084989</td>\n      <td>3.477454</td>\n      <td>1002.260506</td>\n      <td>1002.812461</td>\n      <td>15.92285</td>\n    </tr>\n    <tr>\n      <th>3</th>\n      <td>4</td>\n      <td>0.006</td>\n      <td>-33.087611</td>\n      <td>3.517032</td>\n      <td>1002.276957</td>\n      <td>1002.829127</td>\n      <td>15.92285</td>\n    </tr>\n    <tr>\n      <th>4</th>\n      <td>5</td>\n      <td>0.008</td>\n      <td>-33.033550</td>\n      <td>3.501534</td>\n      <td>1002.246618</td>\n      <td>1002.796968</td>\n      <td>15.92285</td>\n    </tr>\n  </tbody>\n</table>\n</div>"
          },
          "metadata": {}
        }
      ]
    },
    {
      "cell_type": "markdown",
      "source": "#### Resetting axes for NorthEast dataset",
      "metadata": {
        "tags": [],
        "cell_id": "00017-49974c53-b1c2-4bb5-ad83-635bed5a4f55",
        "deepnote_cell_type": "markdown"
      }
    },
    {
      "cell_type": "code",
      "metadata": {
        "tags": [],
        "cell_id": "00018-0f1714af-3f10-453a-9b24-7ae33780b61f",
        "deepnote_to_be_reexecuted": false,
        "source_hash": "86fd3674",
        "execution_millis": 1367,
        "execution_start": 1617128632882,
        "deepnote_cell_type": "code"
      },
      "source": "ne_df_axes_reset = pd.read_csv('sather-tower-files/NorthEast.csv')\nne_df_axes_reset[\"Global X\"] = -1 * ne_df_axes_reset[\"Az[mG]\"]\nne_df_axes_reset[\"Global Y\"] =  ne_df_axes_reset[\"Ay[mG]\"]\nne_df_axes_reset[\"Global Z\"] = ne_df_axes_reset[\"Ax[mG]\"]\nne_df_axes_reset = ne_df_axes_reset[['Sample No.', 'time[sec]', 'Global X', 'Global Y', 'Global Z', 'ATotal[mG]', 'Ts[deg.C]']]\nne_df_axes_reset.head()",
      "execution_count": null,
      "outputs": [
        {
          "output_type": "execute_result",
          "execution_count": 5,
          "data": {
            "application/vnd.deepnote.dataframe.v2+json": {
              "row_count": 5,
              "column_count": 7,
              "columns": [
                {
                  "name": "Sample No.",
                  "dtype": "int64",
                  "stats": {
                    "unique_count": 5,
                    "nan_count": 0,
                    "min": 1,
                    "max": 5,
                    "histogram": [
                      {
                        "bin_start": 1,
                        "bin_end": 1.4,
                        "count": 1
                      },
                      {
                        "bin_start": 1.4,
                        "bin_end": 1.8,
                        "count": 0
                      },
                      {
                        "bin_start": 1.8,
                        "bin_end": 2.2,
                        "count": 1
                      },
                      {
                        "bin_start": 2.2,
                        "bin_end": 2.6,
                        "count": 0
                      },
                      {
                        "bin_start": 2.6,
                        "bin_end": 3,
                        "count": 0
                      },
                      {
                        "bin_start": 3,
                        "bin_end": 3.4000000000000004,
                        "count": 1
                      },
                      {
                        "bin_start": 3.4000000000000004,
                        "bin_end": 3.8000000000000003,
                        "count": 0
                      },
                      {
                        "bin_start": 3.8000000000000003,
                        "bin_end": 4.2,
                        "count": 1
                      },
                      {
                        "bin_start": 4.2,
                        "bin_end": 4.6,
                        "count": 0
                      },
                      {
                        "bin_start": 4.6,
                        "bin_end": 5,
                        "count": 1
                      }
                    ]
                  }
                },
                {
                  "name": "time[sec]",
                  "dtype": "float64",
                  "stats": {
                    "unique_count": 5,
                    "nan_count": 0,
                    "min": 0,
                    "max": 0.008,
                    "histogram": [
                      {
                        "bin_start": 0,
                        "bin_end": 0.0008,
                        "count": 1
                      },
                      {
                        "bin_start": 0.0008,
                        "bin_end": 0.0016,
                        "count": 0
                      },
                      {
                        "bin_start": 0.0016,
                        "bin_end": 0.0024000000000000002,
                        "count": 1
                      },
                      {
                        "bin_start": 0.0024000000000000002,
                        "bin_end": 0.0032,
                        "count": 0
                      },
                      {
                        "bin_start": 0.0032,
                        "bin_end": 0.004,
                        "count": 0
                      },
                      {
                        "bin_start": 0.004,
                        "bin_end": 0.0048000000000000004,
                        "count": 1
                      },
                      {
                        "bin_start": 0.0048000000000000004,
                        "bin_end": 0.0056,
                        "count": 0
                      },
                      {
                        "bin_start": 0.0056,
                        "bin_end": 0.0064,
                        "count": 1
                      },
                      {
                        "bin_start": 0.0064,
                        "bin_end": 0.007200000000000001,
                        "count": 0
                      },
                      {
                        "bin_start": 0.007200000000000001,
                        "bin_end": 0.008,
                        "count": 1
                      }
                    ]
                  }
                },
                {
                  "name": "Global X",
                  "dtype": "float64",
                  "stats": {
                    "unique_count": 5,
                    "nan_count": 0,
                    "min": -10.914207,
                    "max": -10.839164,
                    "histogram": [
                      {
                        "bin_start": -10.914207,
                        "bin_end": -10.9067027,
                        "count": 1
                      },
                      {
                        "bin_start": -10.9067027,
                        "bin_end": -10.8991984,
                        "count": 1
                      },
                      {
                        "bin_start": -10.8991984,
                        "bin_end": -10.891694099999999,
                        "count": 0
                      },
                      {
                        "bin_start": -10.891694099999999,
                        "bin_end": -10.8841898,
                        "count": 0
                      },
                      {
                        "bin_start": -10.8841898,
                        "bin_end": -10.8766855,
                        "count": 0
                      },
                      {
                        "bin_start": -10.8766855,
                        "bin_end": -10.8691812,
                        "count": 0
                      },
                      {
                        "bin_start": -10.8691812,
                        "bin_end": -10.861676899999999,
                        "count": 1
                      },
                      {
                        "bin_start": -10.861676899999999,
                        "bin_end": -10.8541726,
                        "count": 0
                      },
                      {
                        "bin_start": -10.8541726,
                        "bin_end": -10.846668300000001,
                        "count": 1
                      },
                      {
                        "bin_start": -10.846668300000001,
                        "bin_end": -10.839164,
                        "count": 1
                      }
                    ]
                  }
                },
                {
                  "name": "Global Y",
                  "dtype": "float64",
                  "stats": {
                    "unique_count": 5,
                    "nan_count": 0,
                    "min": 12.014031,
                    "max": 12.071192,
                    "histogram": [
                      {
                        "bin_start": 12.014031,
                        "bin_end": 12.0197471,
                        "count": 1
                      },
                      {
                        "bin_start": 12.0197471,
                        "bin_end": 12.025463199999999,
                        "count": 1
                      },
                      {
                        "bin_start": 12.025463199999999,
                        "bin_end": 12.0311793,
                        "count": 0
                      },
                      {
                        "bin_start": 12.0311793,
                        "bin_end": 12.036895399999999,
                        "count": 0
                      },
                      {
                        "bin_start": 12.036895399999999,
                        "bin_end": 12.0426115,
                        "count": 0
                      },
                      {
                        "bin_start": 12.0426115,
                        "bin_end": 12.0483276,
                        "count": 0
                      },
                      {
                        "bin_start": 12.0483276,
                        "bin_end": 12.0540437,
                        "count": 1
                      },
                      {
                        "bin_start": 12.0540437,
                        "bin_end": 12.0597598,
                        "count": 0
                      },
                      {
                        "bin_start": 12.0597598,
                        "bin_end": 12.0654759,
                        "count": 1
                      },
                      {
                        "bin_start": 12.0654759,
                        "bin_end": 12.071192,
                        "count": 1
                      }
                    ]
                  }
                },
                {
                  "name": "Global Z",
                  "dtype": "float64",
                  "stats": {
                    "unique_count": 5,
                    "nan_count": 0,
                    "min": 1002.827466,
                    "max": 1002.844572,
                    "histogram": [
                      {
                        "bin_start": 1002.827466,
                        "bin_end": 1002.8291766,
                        "count": 1
                      },
                      {
                        "bin_start": 1002.8291766,
                        "bin_end": 1002.8308872,
                        "count": 1
                      },
                      {
                        "bin_start": 1002.8308872,
                        "bin_end": 1002.8325977999999,
                        "count": 0
                      },
                      {
                        "bin_start": 1002.8325977999999,
                        "bin_end": 1002.8343083999999,
                        "count": 0
                      },
                      {
                        "bin_start": 1002.8343083999999,
                        "bin_end": 1002.836019,
                        "count": 0
                      },
                      {
                        "bin_start": 1002.836019,
                        "bin_end": 1002.8377296,
                        "count": 1
                      },
                      {
                        "bin_start": 1002.8377296,
                        "bin_end": 1002.8394402,
                        "count": 0
                      },
                      {
                        "bin_start": 1002.8394402,
                        "bin_end": 1002.8411507999999,
                        "count": 0
                      },
                      {
                        "bin_start": 1002.8411507999999,
                        "bin_end": 1002.8428614,
                        "count": 1
                      },
                      {
                        "bin_start": 1002.8428614,
                        "bin_end": 1002.844572,
                        "count": 1
                      }
                    ]
                  }
                },
                {
                  "name": "ATotal[mG]",
                  "dtype": "float64",
                  "stats": {
                    "unique_count": 5,
                    "nan_count": 0,
                    "min": 1002.9595,
                    "max": 1002.975834,
                    "histogram": [
                      {
                        "bin_start": 1002.9595,
                        "bin_end": 1002.9611334,
                        "count": 2
                      },
                      {
                        "bin_start": 1002.9611334,
                        "bin_end": 1002.9627668,
                        "count": 0
                      },
                      {
                        "bin_start": 1002.9627668,
                        "bin_end": 1002.9644002,
                        "count": 0
                      },
                      {
                        "bin_start": 1002.9644002,
                        "bin_end": 1002.9660336000001,
                        "count": 0
                      },
                      {
                        "bin_start": 1002.9660336000001,
                        "bin_end": 1002.967667,
                        "count": 0
                      },
                      {
                        "bin_start": 1002.967667,
                        "bin_end": 1002.9693004,
                        "count": 1
                      },
                      {
                        "bin_start": 1002.9693004,
                        "bin_end": 1002.9709338,
                        "count": 0
                      },
                      {
                        "bin_start": 1002.9709338,
                        "bin_end": 1002.9725672,
                        "count": 0
                      },
                      {
                        "bin_start": 1002.9725672,
                        "bin_end": 1002.9742006,
                        "count": 1
                      },
                      {
                        "bin_start": 1002.9742006,
                        "bin_end": 1002.975834,
                        "count": 1
                      }
                    ]
                  }
                },
                {
                  "name": "Ts[deg.C]",
                  "dtype": "float64",
                  "stats": {
                    "unique_count": 1,
                    "nan_count": 0,
                    "min": 15.4248,
                    "max": 15.4248,
                    "histogram": [
                      {
                        "bin_start": 14.9248,
                        "bin_end": 15.024799999999999,
                        "count": 0
                      },
                      {
                        "bin_start": 15.024799999999999,
                        "bin_end": 15.124799999999999,
                        "count": 0
                      },
                      {
                        "bin_start": 15.124799999999999,
                        "bin_end": 15.2248,
                        "count": 0
                      },
                      {
                        "bin_start": 15.2248,
                        "bin_end": 15.3248,
                        "count": 0
                      },
                      {
                        "bin_start": 15.3248,
                        "bin_end": 15.4248,
                        "count": 0
                      },
                      {
                        "bin_start": 15.4248,
                        "bin_end": 15.524799999999999,
                        "count": 5
                      },
                      {
                        "bin_start": 15.524799999999999,
                        "bin_end": 15.624799999999999,
                        "count": 0
                      },
                      {
                        "bin_start": 15.624799999999999,
                        "bin_end": 15.7248,
                        "count": 0
                      },
                      {
                        "bin_start": 15.7248,
                        "bin_end": 15.8248,
                        "count": 0
                      },
                      {
                        "bin_start": 15.8248,
                        "bin_end": 15.9248,
                        "count": 0
                      }
                    ]
                  }
                },
                {
                  "name": "_deepnote_index_column",
                  "dtype": "int64"
                }
              ],
              "rows_top": [
                {
                  "Sample No.": 1,
                  "time[sec]": 0,
                  "Global X": -10.852396,
                  "Global Y": 12.062907,
                  "Global Z": 1002.844572,
                  "ATotal[mG]": 1002.975834,
                  "Ts[deg.C]": 15.4248,
                  "_deepnote_index_column": 0
                },
                {
                  "Sample No.": 2,
                  "time[sec]": 0.002,
                  "Global X": -10.839164,
                  "Global Y": 12.024105,
                  "Global Z": 1002.829492,
                  "ATotal[mG]": 1002.960147,
                  "Ts[deg.C]": 15.4248,
                  "_deepnote_index_column": 1
                },
                {
                  "Sample No.": 3,
                  "time[sec]": 0.004,
                  "Global X": -10.863066,
                  "Global Y": 12.014031,
                  "Global Z": 1002.837181,
                  "ATotal[mG]": 1002.967973,
                  "Ts[deg.C]": 15.4248,
                  "_deepnote_index_column": 2
                },
                {
                  "Sample No.": 4,
                  "time[sec]": 0.006,
                  "Global X": -10.904431,
                  "Global Y": 12.053967,
                  "Global Z": 1002.841711,
                  "ATotal[mG]": 1002.97343,
                  "Ts[deg.C]": 15.4248,
                  "_deepnote_index_column": 3
                },
                {
                  "Sample No.": 5,
                  "time[sec]": 0.008,
                  "Global X": -10.914207,
                  "Global Y": 12.071192,
                  "Global Z": 1002.827466,
                  "ATotal[mG]": 1002.9595,
                  "Ts[deg.C]": 15.4248,
                  "_deepnote_index_column": 4
                }
              ],
              "rows_bottom": null
            },
            "text/plain": "   Sample No.  time[sec]   Global X   Global Y     Global Z   ATotal[mG]  \\\n0           1      0.000 -10.852396  12.062907  1002.844572  1002.975834   \n1           2      0.002 -10.839164  12.024105  1002.829492  1002.960147   \n2           3      0.004 -10.863066  12.014031  1002.837181  1002.967973   \n3           4      0.006 -10.904431  12.053967  1002.841711  1002.973430   \n4           5      0.008 -10.914207  12.071192  1002.827466  1002.959500   \n\n   Ts[deg.C]  \n0    15.4248  \n1    15.4248  \n2    15.4248  \n3    15.4248  \n4    15.4248  ",
            "text/html": "<div>\n<style scoped>\n    .dataframe tbody tr th:only-of-type {\n        vertical-align: middle;\n    }\n\n    .dataframe tbody tr th {\n        vertical-align: top;\n    }\n\n    .dataframe thead th {\n        text-align: right;\n    }\n</style>\n<table border=\"1\" class=\"dataframe\">\n  <thead>\n    <tr style=\"text-align: right;\">\n      <th></th>\n      <th>Sample No.</th>\n      <th>time[sec]</th>\n      <th>Global X</th>\n      <th>Global Y</th>\n      <th>Global Z</th>\n      <th>ATotal[mG]</th>\n      <th>Ts[deg.C]</th>\n    </tr>\n  </thead>\n  <tbody>\n    <tr>\n      <th>0</th>\n      <td>1</td>\n      <td>0.000</td>\n      <td>-10.852396</td>\n      <td>12.062907</td>\n      <td>1002.844572</td>\n      <td>1002.975834</td>\n      <td>15.4248</td>\n    </tr>\n    <tr>\n      <th>1</th>\n      <td>2</td>\n      <td>0.002</td>\n      <td>-10.839164</td>\n      <td>12.024105</td>\n      <td>1002.829492</td>\n      <td>1002.960147</td>\n      <td>15.4248</td>\n    </tr>\n    <tr>\n      <th>2</th>\n      <td>3</td>\n      <td>0.004</td>\n      <td>-10.863066</td>\n      <td>12.014031</td>\n      <td>1002.837181</td>\n      <td>1002.967973</td>\n      <td>15.4248</td>\n    </tr>\n    <tr>\n      <th>3</th>\n      <td>4</td>\n      <td>0.006</td>\n      <td>-10.904431</td>\n      <td>12.053967</td>\n      <td>1002.841711</td>\n      <td>1002.973430</td>\n      <td>15.4248</td>\n    </tr>\n    <tr>\n      <th>4</th>\n      <td>5</td>\n      <td>0.008</td>\n      <td>-10.914207</td>\n      <td>12.071192</td>\n      <td>1002.827466</td>\n      <td>1002.959500</td>\n      <td>15.4248</td>\n    </tr>\n  </tbody>\n</table>\n</div>"
          },
          "metadata": {}
        }
      ]
    },
    {
      "cell_type": "markdown",
      "source": "#### Resetting axes for SouthEast dataset",
      "metadata": {
        "tags": [],
        "cell_id": "00019-2276f763-7208-4aec-a536-8b939120b26b",
        "deepnote_cell_type": "markdown"
      }
    },
    {
      "cell_type": "code",
      "metadata": {
        "tags": [],
        "cell_id": "00020-ba481c33-8a5e-4ef4-a737-eeecfdeb769c",
        "deepnote_to_be_reexecuted": false,
        "source_hash": "b376fab8",
        "execution_millis": 1263,
        "execution_start": 1617128634249,
        "deepnote_cell_type": "code"
      },
      "source": "se_df_axes_reset = pd.read_csv('sather-tower-files/SouthEast.csv')\nse_df_axes_reset[\"Global X\"] = se_df_axes_reset[\"Ay[mG]\"]\nse_df_axes_reset[\"Global Y\"] =  se_df_axes_reset[\"Az[mG]\"]\nse_df_axes_reset[\"Global Z\"] = se_df_axes_reset[\"Ax[mG]\"]\nse_df_axes_reset.head()",
      "execution_count": null,
      "outputs": [
        {
          "output_type": "execute_result",
          "execution_count": 6,
          "data": {
            "application/vnd.deepnote.dataframe.v2+json": {
              "row_count": 5,
              "column_count": 10,
              "columns": [
                {
                  "name": "Sample No.",
                  "dtype": "int64",
                  "stats": {
                    "unique_count": 5,
                    "nan_count": 0,
                    "min": 1,
                    "max": 5,
                    "histogram": [
                      {
                        "bin_start": 1,
                        "bin_end": 1.4,
                        "count": 1
                      },
                      {
                        "bin_start": 1.4,
                        "bin_end": 1.8,
                        "count": 0
                      },
                      {
                        "bin_start": 1.8,
                        "bin_end": 2.2,
                        "count": 1
                      },
                      {
                        "bin_start": 2.2,
                        "bin_end": 2.6,
                        "count": 0
                      },
                      {
                        "bin_start": 2.6,
                        "bin_end": 3,
                        "count": 0
                      },
                      {
                        "bin_start": 3,
                        "bin_end": 3.4000000000000004,
                        "count": 1
                      },
                      {
                        "bin_start": 3.4000000000000004,
                        "bin_end": 3.8000000000000003,
                        "count": 0
                      },
                      {
                        "bin_start": 3.8000000000000003,
                        "bin_end": 4.2,
                        "count": 1
                      },
                      {
                        "bin_start": 4.2,
                        "bin_end": 4.6,
                        "count": 0
                      },
                      {
                        "bin_start": 4.6,
                        "bin_end": 5,
                        "count": 1
                      }
                    ]
                  }
                },
                {
                  "name": "time[sec]",
                  "dtype": "float64",
                  "stats": {
                    "unique_count": 5,
                    "nan_count": 0,
                    "min": 0,
                    "max": 0.008,
                    "histogram": [
                      {
                        "bin_start": 0,
                        "bin_end": 0.0008,
                        "count": 1
                      },
                      {
                        "bin_start": 0.0008,
                        "bin_end": 0.0016,
                        "count": 0
                      },
                      {
                        "bin_start": 0.0016,
                        "bin_end": 0.0024000000000000002,
                        "count": 1
                      },
                      {
                        "bin_start": 0.0024000000000000002,
                        "bin_end": 0.0032,
                        "count": 0
                      },
                      {
                        "bin_start": 0.0032,
                        "bin_end": 0.004,
                        "count": 0
                      },
                      {
                        "bin_start": 0.004,
                        "bin_end": 0.0048000000000000004,
                        "count": 1
                      },
                      {
                        "bin_start": 0.0048000000000000004,
                        "bin_end": 0.0056,
                        "count": 0
                      },
                      {
                        "bin_start": 0.0056,
                        "bin_end": 0.0064,
                        "count": 1
                      },
                      {
                        "bin_start": 0.0064,
                        "bin_end": 0.007200000000000001,
                        "count": 0
                      },
                      {
                        "bin_start": 0.007200000000000001,
                        "bin_end": 0.008,
                        "count": 1
                      }
                    ]
                  }
                },
                {
                  "name": "Ax[mG]",
                  "dtype": "float64",
                  "stats": {
                    "unique_count": 5,
                    "nan_count": 0,
                    "min": 1001.948416,
                    "max": 1002.058327,
                    "histogram": [
                      {
                        "bin_start": 1001.948416,
                        "bin_end": 1001.9594070999999,
                        "count": 1
                      },
                      {
                        "bin_start": 1001.9594070999999,
                        "bin_end": 1001.9703982,
                        "count": 0
                      },
                      {
                        "bin_start": 1001.9703982,
                        "bin_end": 1001.9813892999999,
                        "count": 0
                      },
                      {
                        "bin_start": 1001.9813892999999,
                        "bin_end": 1001.9923804,
                        "count": 1
                      },
                      {
                        "bin_start": 1001.9923804,
                        "bin_end": 1002.0033715,
                        "count": 0
                      },
                      {
                        "bin_start": 1002.0033715,
                        "bin_end": 1002.0143625999999,
                        "count": 1
                      },
                      {
                        "bin_start": 1002.0143625999999,
                        "bin_end": 1002.0253537,
                        "count": 0
                      },
                      {
                        "bin_start": 1002.0253537,
                        "bin_end": 1002.0363447999999,
                        "count": 0
                      },
                      {
                        "bin_start": 1002.0363447999999,
                        "bin_end": 1002.0473359,
                        "count": 0
                      },
                      {
                        "bin_start": 1002.0473359,
                        "bin_end": 1002.058327,
                        "count": 2
                      }
                    ]
                  }
                },
                {
                  "name": "Ay[mG]",
                  "dtype": "float64",
                  "stats": {
                    "unique_count": 5,
                    "nan_count": 0,
                    "min": 34.129262,
                    "max": 34.339309,
                    "histogram": [
                      {
                        "bin_start": 34.129262,
                        "bin_end": 34.150266699999996,
                        "count": 2
                      },
                      {
                        "bin_start": 34.150266699999996,
                        "bin_end": 34.171271399999995,
                        "count": 0
                      },
                      {
                        "bin_start": 34.171271399999995,
                        "bin_end": 34.1922761,
                        "count": 0
                      },
                      {
                        "bin_start": 34.1922761,
                        "bin_end": 34.2132808,
                        "count": 0
                      },
                      {
                        "bin_start": 34.2132808,
                        "bin_end": 34.2342855,
                        "count": 1
                      },
                      {
                        "bin_start": 34.2342855,
                        "bin_end": 34.2552902,
                        "count": 1
                      },
                      {
                        "bin_start": 34.2552902,
                        "bin_end": 34.276294899999996,
                        "count": 0
                      },
                      {
                        "bin_start": 34.276294899999996,
                        "bin_end": 34.2972996,
                        "count": 0
                      },
                      {
                        "bin_start": 34.2972996,
                        "bin_end": 34.3183043,
                        "count": 0
                      },
                      {
                        "bin_start": 34.3183043,
                        "bin_end": 34.339309,
                        "count": 1
                      }
                    ]
                  }
                },
                {
                  "name": "Az[mG]",
                  "dtype": "float64",
                  "stats": {
                    "unique_count": 5,
                    "nan_count": 0,
                    "min": -7.501662,
                    "max": -7.378876,
                    "histogram": [
                      {
                        "bin_start": -7.501662,
                        "bin_end": -7.4893833999999995,
                        "count": 1
                      },
                      {
                        "bin_start": -7.4893833999999995,
                        "bin_end": -7.477104799999999,
                        "count": 0
                      },
                      {
                        "bin_start": -7.477104799999999,
                        "bin_end": -7.4648262,
                        "count": 0
                      },
                      {
                        "bin_start": -7.4648262,
                        "bin_end": -7.4525476,
                        "count": 1
                      },
                      {
                        "bin_start": -7.4525476,
                        "bin_end": -7.440269,
                        "count": 0
                      },
                      {
                        "bin_start": -7.440269,
                        "bin_end": -7.4279904,
                        "count": 0
                      },
                      {
                        "bin_start": -7.4279904,
                        "bin_end": -7.4157117999999995,
                        "count": 1
                      },
                      {
                        "bin_start": -7.4157117999999995,
                        "bin_end": -7.4034332,
                        "count": 0
                      },
                      {
                        "bin_start": -7.4034332,
                        "bin_end": -7.3911546,
                        "count": 0
                      },
                      {
                        "bin_start": -7.3911546,
                        "bin_end": -7.378876,
                        "count": 2
                      }
                    ]
                  }
                },
                {
                  "name": "ATotal[mG]",
                  "dtype": "float64",
                  "stats": {
                    "unique_count": 5,
                    "nan_count": 0,
                    "min": 1002.557542,
                    "max": 1002.670375,
                    "histogram": [
                      {
                        "bin_start": 1002.557542,
                        "bin_end": 1002.5688253000001,
                        "count": 1
                      },
                      {
                        "bin_start": 1002.5688253000001,
                        "bin_end": 1002.5801086,
                        "count": 0
                      },
                      {
                        "bin_start": 1002.5801086,
                        "bin_end": 1002.5913919,
                        "count": 0
                      },
                      {
                        "bin_start": 1002.5913919,
                        "bin_end": 1002.6026752,
                        "count": 1
                      },
                      {
                        "bin_start": 1002.6026752,
                        "bin_end": 1002.6139585000001,
                        "count": 0
                      },
                      {
                        "bin_start": 1002.6139585000001,
                        "bin_end": 1002.6252418,
                        "count": 1
                      },
                      {
                        "bin_start": 1002.6252418,
                        "bin_end": 1002.6365251,
                        "count": 0
                      },
                      {
                        "bin_start": 1002.6365251,
                        "bin_end": 1002.6478084,
                        "count": 0
                      },
                      {
                        "bin_start": 1002.6478084,
                        "bin_end": 1002.6590917000001,
                        "count": 0
                      },
                      {
                        "bin_start": 1002.6590917000001,
                        "bin_end": 1002.670375,
                        "count": 2
                      }
                    ]
                  }
                },
                {
                  "name": "Ts[deg.C]",
                  "dtype": "float64",
                  "stats": {
                    "unique_count": 1,
                    "nan_count": 0,
                    "min": 13.77832,
                    "max": 13.77832,
                    "histogram": [
                      {
                        "bin_start": 13.27832,
                        "bin_end": 13.37832,
                        "count": 0
                      },
                      {
                        "bin_start": 13.37832,
                        "bin_end": 13.47832,
                        "count": 0
                      },
                      {
                        "bin_start": 13.47832,
                        "bin_end": 13.578320000000001,
                        "count": 0
                      },
                      {
                        "bin_start": 13.578320000000001,
                        "bin_end": 13.678320000000001,
                        "count": 0
                      },
                      {
                        "bin_start": 13.678320000000001,
                        "bin_end": 13.77832,
                        "count": 0
                      },
                      {
                        "bin_start": 13.77832,
                        "bin_end": 13.87832,
                        "count": 5
                      },
                      {
                        "bin_start": 13.87832,
                        "bin_end": 13.97832,
                        "count": 0
                      },
                      {
                        "bin_start": 13.97832,
                        "bin_end": 14.078320000000001,
                        "count": 0
                      },
                      {
                        "bin_start": 14.078320000000001,
                        "bin_end": 14.178320000000001,
                        "count": 0
                      },
                      {
                        "bin_start": 14.178320000000001,
                        "bin_end": 14.27832,
                        "count": 0
                      }
                    ]
                  }
                },
                {
                  "name": "Global X",
                  "dtype": "float64",
                  "stats": {
                    "unique_count": 5,
                    "nan_count": 0,
                    "min": 34.129262,
                    "max": 34.339309,
                    "histogram": [
                      {
                        "bin_start": 34.129262,
                        "bin_end": 34.150266699999996,
                        "count": 2
                      },
                      {
                        "bin_start": 34.150266699999996,
                        "bin_end": 34.171271399999995,
                        "count": 0
                      },
                      {
                        "bin_start": 34.171271399999995,
                        "bin_end": 34.1922761,
                        "count": 0
                      },
                      {
                        "bin_start": 34.1922761,
                        "bin_end": 34.2132808,
                        "count": 0
                      },
                      {
                        "bin_start": 34.2132808,
                        "bin_end": 34.2342855,
                        "count": 1
                      },
                      {
                        "bin_start": 34.2342855,
                        "bin_end": 34.2552902,
                        "count": 1
                      },
                      {
                        "bin_start": 34.2552902,
                        "bin_end": 34.276294899999996,
                        "count": 0
                      },
                      {
                        "bin_start": 34.276294899999996,
                        "bin_end": 34.2972996,
                        "count": 0
                      },
                      {
                        "bin_start": 34.2972996,
                        "bin_end": 34.3183043,
                        "count": 0
                      },
                      {
                        "bin_start": 34.3183043,
                        "bin_end": 34.339309,
                        "count": 1
                      }
                    ]
                  }
                },
                {
                  "name": "Global Y",
                  "dtype": "float64",
                  "stats": {
                    "unique_count": 5,
                    "nan_count": 0,
                    "min": -7.501662,
                    "max": -7.378876,
                    "histogram": [
                      {
                        "bin_start": -7.501662,
                        "bin_end": -7.4893833999999995,
                        "count": 1
                      },
                      {
                        "bin_start": -7.4893833999999995,
                        "bin_end": -7.477104799999999,
                        "count": 0
                      },
                      {
                        "bin_start": -7.477104799999999,
                        "bin_end": -7.4648262,
                        "count": 0
                      },
                      {
                        "bin_start": -7.4648262,
                        "bin_end": -7.4525476,
                        "count": 1
                      },
                      {
                        "bin_start": -7.4525476,
                        "bin_end": -7.440269,
                        "count": 0
                      },
                      {
                        "bin_start": -7.440269,
                        "bin_end": -7.4279904,
                        "count": 0
                      },
                      {
                        "bin_start": -7.4279904,
                        "bin_end": -7.4157117999999995,
                        "count": 1
                      },
                      {
                        "bin_start": -7.4157117999999995,
                        "bin_end": -7.4034332,
                        "count": 0
                      },
                      {
                        "bin_start": -7.4034332,
                        "bin_end": -7.3911546,
                        "count": 0
                      },
                      {
                        "bin_start": -7.3911546,
                        "bin_end": -7.378876,
                        "count": 2
                      }
                    ]
                  }
                },
                {
                  "name": "Global Z",
                  "dtype": "float64",
                  "stats": {
                    "unique_count": 5,
                    "nan_count": 0,
                    "min": 1001.948416,
                    "max": 1002.058327,
                    "histogram": [
                      {
                        "bin_start": 1001.948416,
                        "bin_end": 1001.9594070999999,
                        "count": 1
                      },
                      {
                        "bin_start": 1001.9594070999999,
                        "bin_end": 1001.9703982,
                        "count": 0
                      },
                      {
                        "bin_start": 1001.9703982,
                        "bin_end": 1001.9813892999999,
                        "count": 0
                      },
                      {
                        "bin_start": 1001.9813892999999,
                        "bin_end": 1001.9923804,
                        "count": 1
                      },
                      {
                        "bin_start": 1001.9923804,
                        "bin_end": 1002.0033715,
                        "count": 0
                      },
                      {
                        "bin_start": 1002.0033715,
                        "bin_end": 1002.0143625999999,
                        "count": 1
                      },
                      {
                        "bin_start": 1002.0143625999999,
                        "bin_end": 1002.0253537,
                        "count": 0
                      },
                      {
                        "bin_start": 1002.0253537,
                        "bin_end": 1002.0363447999999,
                        "count": 0
                      },
                      {
                        "bin_start": 1002.0363447999999,
                        "bin_end": 1002.0473359,
                        "count": 0
                      },
                      {
                        "bin_start": 1002.0473359,
                        "bin_end": 1002.058327,
                        "count": 2
                      }
                    ]
                  }
                },
                {
                  "name": "_deepnote_index_column",
                  "dtype": "int64"
                }
              ],
              "rows_top": [
                {
                  "Sample No.": 1,
                  "time[sec]": 0,
                  "Ax[mG]": 1002.058327,
                  "Ay[mG]": 34.240961,
                  "Az[mG]": -7.385492,
                  "ATotal[mG]": 1002.670375,
                  "Ts[deg.C]": 13.77832,
                  "Global X": 34.240961,
                  "Global Y": -7.385492,
                  "Global Z": 1002.058327,
                  "_deepnote_index_column": 0
                },
                {
                  "Sample No.": 2,
                  "time[sec]": 0.002,
                  "Ax[mG]": 1001.989484,
                  "Ay[mG]": 34.129262,
                  "Az[mG]": -7.378876,
                  "ATotal[mG]": 1002.597716,
                  "Ts[deg.C]": 13.77832,
                  "Global X": 34.129262,
                  "Global Y": -7.378876,
                  "Global Z": 1001.989484,
                  "_deepnote_index_column": 1
                },
                {
                  "Sample No.": 3,
                  "time[sec]": 0.004,
                  "Ax[mG]": 1001.948416,
                  "Ay[mG]": 34.14464,
                  "Az[mG]": -7.425666,
                  "ATotal[mG]": 1002.557542,
                  "Ts[deg.C]": 13.77832,
                  "Global X": 34.14464,
                  "Global Y": -7.425666,
                  "Global Z": 1001.948416,
                  "_deepnote_index_column": 2
                },
                {
                  "Sample No.": 4,
                  "time[sec]": 0.006,
                  "Ax[mG]": 1002.006233,
                  "Ay[mG]": 34.231186,
                  "Az[mG]": -7.462025,
                  "ATotal[mG]": 1002.618545,
                  "Ts[deg.C]": 13.77832,
                  "Global X": 34.231186,
                  "Global Y": -7.462025,
                  "Global Z": 1002.006233,
                  "_deepnote_index_column": 3
                },
                {
                  "Sample No.": 5,
                  "time[sec]": 0.008,
                  "Ax[mG]": 1002.051771,
                  "Ay[mG]": 34.339309,
                  "Az[mG]": -7.501662,
                  "ATotal[mG]": 1002.668048,
                  "Ts[deg.C]": 13.77832,
                  "Global X": 34.339309,
                  "Global Y": -7.501662,
                  "Global Z": 1002.051771,
                  "_deepnote_index_column": 4
                }
              ],
              "rows_bottom": null
            },
            "text/plain": "   Sample No.  time[sec]       Ax[mG]     Ay[mG]    Az[mG]   ATotal[mG]  \\\n0           1      0.000  1002.058327  34.240961 -7.385492  1002.670375   \n1           2      0.002  1001.989484  34.129262 -7.378876  1002.597716   \n2           3      0.004  1001.948416  34.144640 -7.425666  1002.557542   \n3           4      0.006  1002.006233  34.231186 -7.462025  1002.618545   \n4           5      0.008  1002.051771  34.339309 -7.501662  1002.668048   \n\n   Ts[deg.C]   Global X  Global Y     Global Z  \n0   13.77832  34.240961 -7.385492  1002.058327  \n1   13.77832  34.129262 -7.378876  1001.989484  \n2   13.77832  34.144640 -7.425666  1001.948416  \n3   13.77832  34.231186 -7.462025  1002.006233  \n4   13.77832  34.339309 -7.501662  1002.051771  ",
            "text/html": "<div>\n<style scoped>\n    .dataframe tbody tr th:only-of-type {\n        vertical-align: middle;\n    }\n\n    .dataframe tbody tr th {\n        vertical-align: top;\n    }\n\n    .dataframe thead th {\n        text-align: right;\n    }\n</style>\n<table border=\"1\" class=\"dataframe\">\n  <thead>\n    <tr style=\"text-align: right;\">\n      <th></th>\n      <th>Sample No.</th>\n      <th>time[sec]</th>\n      <th>Ax[mG]</th>\n      <th>Ay[mG]</th>\n      <th>Az[mG]</th>\n      <th>ATotal[mG]</th>\n      <th>Ts[deg.C]</th>\n      <th>Global X</th>\n      <th>Global Y</th>\n      <th>Global Z</th>\n    </tr>\n  </thead>\n  <tbody>\n    <tr>\n      <th>0</th>\n      <td>1</td>\n      <td>0.000</td>\n      <td>1002.058327</td>\n      <td>34.240961</td>\n      <td>-7.385492</td>\n      <td>1002.670375</td>\n      <td>13.77832</td>\n      <td>34.240961</td>\n      <td>-7.385492</td>\n      <td>1002.058327</td>\n    </tr>\n    <tr>\n      <th>1</th>\n      <td>2</td>\n      <td>0.002</td>\n      <td>1001.989484</td>\n      <td>34.129262</td>\n      <td>-7.378876</td>\n      <td>1002.597716</td>\n      <td>13.77832</td>\n      <td>34.129262</td>\n      <td>-7.378876</td>\n      <td>1001.989484</td>\n    </tr>\n    <tr>\n      <th>2</th>\n      <td>3</td>\n      <td>0.004</td>\n      <td>1001.948416</td>\n      <td>34.144640</td>\n      <td>-7.425666</td>\n      <td>1002.557542</td>\n      <td>13.77832</td>\n      <td>34.144640</td>\n      <td>-7.425666</td>\n      <td>1001.948416</td>\n    </tr>\n    <tr>\n      <th>3</th>\n      <td>4</td>\n      <td>0.006</td>\n      <td>1002.006233</td>\n      <td>34.231186</td>\n      <td>-7.462025</td>\n      <td>1002.618545</td>\n      <td>13.77832</td>\n      <td>34.231186</td>\n      <td>-7.462025</td>\n      <td>1002.006233</td>\n    </tr>\n    <tr>\n      <th>4</th>\n      <td>5</td>\n      <td>0.008</td>\n      <td>1002.051771</td>\n      <td>34.339309</td>\n      <td>-7.501662</td>\n      <td>1002.668048</td>\n      <td>13.77832</td>\n      <td>34.339309</td>\n      <td>-7.501662</td>\n      <td>1002.051771</td>\n    </tr>\n  </tbody>\n</table>\n</div>"
          },
          "metadata": {}
        }
      ]
    },
    {
      "cell_type": "markdown",
      "source": "#### Resetting axes for NorthWest dataset",
      "metadata": {
        "tags": [],
        "cell_id": "00021-823f7a7b-a02d-4abf-bf1f-adda9e06c1ff",
        "deepnote_cell_type": "markdown"
      }
    },
    {
      "cell_type": "code",
      "metadata": {
        "tags": [],
        "cell_id": "00022-618c245d-6a34-4618-9b5b-1a36cd71f1cf",
        "deepnote_to_be_reexecuted": false,
        "source_hash": "6228c2df",
        "execution_millis": 1422,
        "execution_start": 1617128635508,
        "deepnote_cell_type": "code"
      },
      "source": "nw_df_axes_reset = pd.read_csv('sather-tower-files/NorthWest.csv')\nnw_df_axes_reset[\"Global X\"] = nw_df_axes_reset[\"Az[mG]\"]\nnw_df_axes_reset[\"Global Y\"] =  -1 * nw_df_axes_reset[\"Ay[mG]\"]\nnw_df_axes_reset[\"Global Z\"] = nw_df_axes_reset[\"Ax[mG]\"]\nnw_df_axes_reset = nw_df_axes_reset[['Sample No.', 'time[sec]', 'Global X', 'Global Y', 'Global Z', 'ATotal[mG]', 'Ts[deg.C]']]\nnw_df_axes_reset.head()",
      "execution_count": null,
      "outputs": [
        {
          "output_type": "execute_result",
          "execution_count": 7,
          "data": {
            "application/vnd.deepnote.dataframe.v2+json": {
              "row_count": 5,
              "column_count": 7,
              "columns": [
                {
                  "name": "Sample No.",
                  "dtype": "int64",
                  "stats": {
                    "unique_count": 5,
                    "nan_count": 0,
                    "min": 1,
                    "max": 5,
                    "histogram": [
                      {
                        "bin_start": 1,
                        "bin_end": 1.4,
                        "count": 1
                      },
                      {
                        "bin_start": 1.4,
                        "bin_end": 1.8,
                        "count": 0
                      },
                      {
                        "bin_start": 1.8,
                        "bin_end": 2.2,
                        "count": 1
                      },
                      {
                        "bin_start": 2.2,
                        "bin_end": 2.6,
                        "count": 0
                      },
                      {
                        "bin_start": 2.6,
                        "bin_end": 3,
                        "count": 0
                      },
                      {
                        "bin_start": 3,
                        "bin_end": 3.4000000000000004,
                        "count": 1
                      },
                      {
                        "bin_start": 3.4000000000000004,
                        "bin_end": 3.8000000000000003,
                        "count": 0
                      },
                      {
                        "bin_start": 3.8000000000000003,
                        "bin_end": 4.2,
                        "count": 1
                      },
                      {
                        "bin_start": 4.2,
                        "bin_end": 4.6,
                        "count": 0
                      },
                      {
                        "bin_start": 4.6,
                        "bin_end": 5,
                        "count": 1
                      }
                    ]
                  }
                },
                {
                  "name": "time[sec]",
                  "dtype": "float64",
                  "stats": {
                    "unique_count": 5,
                    "nan_count": 0,
                    "min": 0,
                    "max": 0.008,
                    "histogram": [
                      {
                        "bin_start": 0,
                        "bin_end": 0.0008,
                        "count": 1
                      },
                      {
                        "bin_start": 0.0008,
                        "bin_end": 0.0016,
                        "count": 0
                      },
                      {
                        "bin_start": 0.0016,
                        "bin_end": 0.0024000000000000002,
                        "count": 1
                      },
                      {
                        "bin_start": 0.0024000000000000002,
                        "bin_end": 0.0032,
                        "count": 0
                      },
                      {
                        "bin_start": 0.0032,
                        "bin_end": 0.004,
                        "count": 0
                      },
                      {
                        "bin_start": 0.004,
                        "bin_end": 0.0048000000000000004,
                        "count": 1
                      },
                      {
                        "bin_start": 0.0048000000000000004,
                        "bin_end": 0.0056,
                        "count": 0
                      },
                      {
                        "bin_start": 0.0056,
                        "bin_end": 0.0064,
                        "count": 1
                      },
                      {
                        "bin_start": 0.0064,
                        "bin_end": 0.007200000000000001,
                        "count": 0
                      },
                      {
                        "bin_start": 0.007200000000000001,
                        "bin_end": 0.008,
                        "count": 1
                      }
                    ]
                  }
                },
                {
                  "name": "Global X",
                  "dtype": "float64",
                  "stats": {
                    "unique_count": 5,
                    "nan_count": 0,
                    "min": -52.048147,
                    "max": -52.003801,
                    "histogram": [
                      {
                        "bin_start": -52.048147,
                        "bin_end": -52.043712400000004,
                        "count": 1
                      },
                      {
                        "bin_start": -52.043712400000004,
                        "bin_end": -52.0392778,
                        "count": 0
                      },
                      {
                        "bin_start": -52.0392778,
                        "bin_end": -52.0348432,
                        "count": 1
                      },
                      {
                        "bin_start": -52.0348432,
                        "bin_end": -52.0304086,
                        "count": 0
                      },
                      {
                        "bin_start": -52.0304086,
                        "bin_end": -52.025974000000005,
                        "count": 0
                      },
                      {
                        "bin_start": -52.025974000000005,
                        "bin_end": -52.0215394,
                        "count": 1
                      },
                      {
                        "bin_start": -52.0215394,
                        "bin_end": -52.0171048,
                        "count": 0
                      },
                      {
                        "bin_start": -52.0171048,
                        "bin_end": -52.0126702,
                        "count": 0
                      },
                      {
                        "bin_start": -52.0126702,
                        "bin_end": -52.008235600000006,
                        "count": 0
                      },
                      {
                        "bin_start": -52.008235600000006,
                        "bin_end": -52.003801,
                        "count": 2
                      }
                    ]
                  }
                },
                {
                  "name": "Global Y",
                  "dtype": "float64",
                  "stats": {
                    "unique_count": 5,
                    "nan_count": 0,
                    "min": 69.548428,
                    "max": 69.573402,
                    "histogram": [
                      {
                        "bin_start": 69.548428,
                        "bin_end": 69.5509254,
                        "count": 1
                      },
                      {
                        "bin_start": 69.5509254,
                        "bin_end": 69.5534228,
                        "count": 1
                      },
                      {
                        "bin_start": 69.5534228,
                        "bin_end": 69.5559202,
                        "count": 0
                      },
                      {
                        "bin_start": 69.5559202,
                        "bin_end": 69.5584176,
                        "count": 1
                      },
                      {
                        "bin_start": 69.5584176,
                        "bin_end": 69.560915,
                        "count": 0
                      },
                      {
                        "bin_start": 69.560915,
                        "bin_end": 69.5634124,
                        "count": 0
                      },
                      {
                        "bin_start": 69.5634124,
                        "bin_end": 69.5659098,
                        "count": 0
                      },
                      {
                        "bin_start": 69.5659098,
                        "bin_end": 69.5684072,
                        "count": 1
                      },
                      {
                        "bin_start": 69.5684072,
                        "bin_end": 69.5709046,
                        "count": 0
                      },
                      {
                        "bin_start": 69.5709046,
                        "bin_end": 69.573402,
                        "count": 1
                      }
                    ]
                  }
                },
                {
                  "name": "Global Z",
                  "dtype": "float64",
                  "stats": {
                    "unique_count": 4,
                    "nan_count": 0,
                    "min": 999.187887,
                    "max": 999.195397,
                    "histogram": [
                      {
                        "bin_start": 999.187887,
                        "bin_end": 999.1886380000001,
                        "count": 1
                      },
                      {
                        "bin_start": 999.1886380000001,
                        "bin_end": 999.189389,
                        "count": 0
                      },
                      {
                        "bin_start": 999.189389,
                        "bin_end": 999.19014,
                        "count": 0
                      },
                      {
                        "bin_start": 999.19014,
                        "bin_end": 999.190891,
                        "count": 0
                      },
                      {
                        "bin_start": 999.190891,
                        "bin_end": 999.191642,
                        "count": 0
                      },
                      {
                        "bin_start": 999.191642,
                        "bin_end": 999.192393,
                        "count": 1
                      },
                      {
                        "bin_start": 999.192393,
                        "bin_end": 999.193144,
                        "count": 0
                      },
                      {
                        "bin_start": 999.193144,
                        "bin_end": 999.193895,
                        "count": 0
                      },
                      {
                        "bin_start": 999.193895,
                        "bin_end": 999.1946459999999,
                        "count": 2
                      },
                      {
                        "bin_start": 999.1946459999999,
                        "bin_end": 999.195397,
                        "count": 1
                      }
                    ]
                  }
                },
                {
                  "name": "ATotal[mG]",
                  "dtype": "float64",
                  "stats": {
                    "unique_count": 5,
                    "nan_count": 0,
                    "min": 1002.955509,
                    "max": 1002.964642,
                    "histogram": [
                      {
                        "bin_start": 1002.955509,
                        "bin_end": 1002.9564223,
                        "count": 1
                      },
                      {
                        "bin_start": 1002.9564223,
                        "bin_end": 1002.9573356,
                        "count": 0
                      },
                      {
                        "bin_start": 1002.9573356,
                        "bin_end": 1002.9582489000001,
                        "count": 0
                      },
                      {
                        "bin_start": 1002.9582489000001,
                        "bin_end": 1002.9591622,
                        "count": 0
                      },
                      {
                        "bin_start": 1002.9591622,
                        "bin_end": 1002.9600755,
                        "count": 1
                      },
                      {
                        "bin_start": 1002.9600755,
                        "bin_end": 1002.9609888,
                        "count": 0
                      },
                      {
                        "bin_start": 1002.9609888,
                        "bin_end": 1002.9619021,
                        "count": 0
                      },
                      {
                        "bin_start": 1002.9619021,
                        "bin_end": 1002.9628154000001,
                        "count": 1
                      },
                      {
                        "bin_start": 1002.9628154000001,
                        "bin_end": 1002.9637287,
                        "count": 0
                      },
                      {
                        "bin_start": 1002.9637287,
                        "bin_end": 1002.964642,
                        "count": 2
                      }
                    ]
                  }
                },
                {
                  "name": "Ts[deg.C]",
                  "dtype": "float64",
                  "stats": {
                    "unique_count": 1,
                    "nan_count": 0,
                    "min": 15.4502,
                    "max": 15.4502,
                    "histogram": [
                      {
                        "bin_start": 14.9502,
                        "bin_end": 15.0502,
                        "count": 0
                      },
                      {
                        "bin_start": 15.0502,
                        "bin_end": 15.1502,
                        "count": 0
                      },
                      {
                        "bin_start": 15.1502,
                        "bin_end": 15.250200000000001,
                        "count": 0
                      },
                      {
                        "bin_start": 15.250200000000001,
                        "bin_end": 15.350200000000001,
                        "count": 0
                      },
                      {
                        "bin_start": 15.350200000000001,
                        "bin_end": 15.4502,
                        "count": 0
                      },
                      {
                        "bin_start": 15.4502,
                        "bin_end": 15.5502,
                        "count": 5
                      },
                      {
                        "bin_start": 15.5502,
                        "bin_end": 15.6502,
                        "count": 0
                      },
                      {
                        "bin_start": 15.6502,
                        "bin_end": 15.750200000000001,
                        "count": 0
                      },
                      {
                        "bin_start": 15.750200000000001,
                        "bin_end": 15.850200000000001,
                        "count": 0
                      },
                      {
                        "bin_start": 15.850200000000001,
                        "bin_end": 15.9502,
                        "count": 0
                      }
                    ]
                  }
                },
                {
                  "name": "_deepnote_index_column",
                  "dtype": "int64"
                }
              ],
              "rows_top": [
                {
                  "Sample No.": 1,
                  "time[sec]": 0,
                  "Global X": -52.048147,
                  "Global Y": 69.553018,
                  "Global Z": 999.195397,
                  "ATotal[mG]": 1002.964642,
                  "Ts[deg.C]": 15.4502,
                  "_deepnote_index_column": 0
                },
                {
                  "Sample No.": 2,
                  "time[sec]": 0.002,
                  "Global X": -52.037418,
                  "Global Y": 69.568098,
                  "Global Z": 999.194026,
                  "ATotal[mG]": 1002.963765,
                  "Ts[deg.C]": 15.4502,
                  "_deepnote_index_column": 1
                },
                {
                  "Sample No.": 3,
                  "time[sec]": 0.004,
                  "Global X": -52.007318,
                  "Global Y": 69.573402,
                  "Global Z": 999.194026,
                  "ATotal[mG]": 1002.962572,
                  "Ts[deg.C]": 15.4502,
                  "_deepnote_index_column": 2
                },
                {
                  "Sample No.": 4,
                  "time[sec]": 0.006,
                  "Global X": -52.003801,
                  "Global Y": 69.558144,
                  "Global Z": 999.19194,
                  "ATotal[mG]": 1002.959253,
                  "Ts[deg.C]": 15.4502,
                  "_deepnote_index_column": 3
                },
                {
                  "Sample No.": 5,
                  "time[sec]": 0.008,
                  "Global X": -52.022457,
                  "Global Y": 69.548428,
                  "Global Z": 999.187887,
                  "ATotal[mG]": 1002.955509,
                  "Ts[deg.C]": 15.4502,
                  "_deepnote_index_column": 4
                }
              ],
              "rows_bottom": null
            },
            "text/plain": "   Sample No.  time[sec]   Global X   Global Y    Global Z   ATotal[mG]  \\\n0           1      0.000 -52.048147  69.553018  999.195397  1002.964642   \n1           2      0.002 -52.037418  69.568098  999.194026  1002.963765   \n2           3      0.004 -52.007318  69.573402  999.194026  1002.962572   \n3           4      0.006 -52.003801  69.558144  999.191940  1002.959253   \n4           5      0.008 -52.022457  69.548428  999.187887  1002.955509   \n\n   Ts[deg.C]  \n0    15.4502  \n1    15.4502  \n2    15.4502  \n3    15.4502  \n4    15.4502  ",
            "text/html": "<div>\n<style scoped>\n    .dataframe tbody tr th:only-of-type {\n        vertical-align: middle;\n    }\n\n    .dataframe tbody tr th {\n        vertical-align: top;\n    }\n\n    .dataframe thead th {\n        text-align: right;\n    }\n</style>\n<table border=\"1\" class=\"dataframe\">\n  <thead>\n    <tr style=\"text-align: right;\">\n      <th></th>\n      <th>Sample No.</th>\n      <th>time[sec]</th>\n      <th>Global X</th>\n      <th>Global Y</th>\n      <th>Global Z</th>\n      <th>ATotal[mG]</th>\n      <th>Ts[deg.C]</th>\n    </tr>\n  </thead>\n  <tbody>\n    <tr>\n      <th>0</th>\n      <td>1</td>\n      <td>0.000</td>\n      <td>-52.048147</td>\n      <td>69.553018</td>\n      <td>999.195397</td>\n      <td>1002.964642</td>\n      <td>15.4502</td>\n    </tr>\n    <tr>\n      <th>1</th>\n      <td>2</td>\n      <td>0.002</td>\n      <td>-52.037418</td>\n      <td>69.568098</td>\n      <td>999.194026</td>\n      <td>1002.963765</td>\n      <td>15.4502</td>\n    </tr>\n    <tr>\n      <th>2</th>\n      <td>3</td>\n      <td>0.004</td>\n      <td>-52.007318</td>\n      <td>69.573402</td>\n      <td>999.194026</td>\n      <td>1002.962572</td>\n      <td>15.4502</td>\n    </tr>\n    <tr>\n      <th>3</th>\n      <td>4</td>\n      <td>0.006</td>\n      <td>-52.003801</td>\n      <td>69.558144</td>\n      <td>999.191940</td>\n      <td>1002.959253</td>\n      <td>15.4502</td>\n    </tr>\n    <tr>\n      <th>4</th>\n      <td>5</td>\n      <td>0.008</td>\n      <td>-52.022457</td>\n      <td>69.548428</td>\n      <td>999.187887</td>\n      <td>1002.955509</td>\n      <td>15.4502</td>\n    </tr>\n  </tbody>\n</table>\n</div>"
          },
          "metadata": {}
        }
      ]
    },
    {
      "cell_type": "markdown",
      "source": "",
      "metadata": {
        "tags": [],
        "cell_id": "00026-c8ebeb68-d629-4e4b-8b22-791214089052",
        "deepnote_cell_type": "markdown"
      }
    },
    {
      "cell_type": "markdown",
      "source": "**Congratulations! You've finished this notebook!** This concludes the second notebook in this series! In this notebook we went over:\n\n- Introduction to the Data\n- How to Import Data\n- Data Subsetting\n- Data Normalization \n\nIn the next notebook we will go over the basic steps of creating preliminary visualizations with our data set!",
      "metadata": {
        "tags": [],
        "cell_id": "00027-08a62da1-7990-433d-987f-3cb78d7282f3",
        "deepnote_cell_type": "markdown"
      }
    },
    {
      "cell_type": "markdown",
      "source": "",
      "metadata": {
        "tags": [],
        "cell_id": "00028-a377f0ec-efda-400d-b090-e6354f2f7098",
        "deepnote_cell_type": "markdown"
      }
    },
    {
      "cell_type": "markdown",
      "source": "<a style='text-decoration:none;line-height:16px;display:flex;color:#5B5B62;padding:10px;justify-content:end;' href='https://deepnote.com?utm_source=created-in-deepnote-cell&projectId=54ebd495-2227-475e-8d87-73e1af6a492b' target=\"_blank\">\n<img alt='Created in deepnote.com' style='display:inline;max-height:16px;margin:0px;margin-right:7.5px;' src='data:image/svg+xml;base64,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' > </img>\nCreated in <span style='font-weight:600;margin-left:4px;'>Deepnote</span></a>",
      "metadata": {
        "tags": [],
        "created_in_deepnote_cell": true,
        "deepnote_cell_type": "markdown"
      }
    }
  ],
  "nbformat": 4,
  "nbformat_minor": 2,
  "metadata": {
    "orig_nbformat": 2,
    "deepnote_notebook_id": "c717f373-8932-4ed8-8b2f-96e5a044be73",
    "deepnote": {},
    "deepnote_execution_queue": []
  }
}