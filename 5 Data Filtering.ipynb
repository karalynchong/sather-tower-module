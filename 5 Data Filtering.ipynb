{
  "cells": [
    {
      "cell_type": "markdown",
      "source": "# <center> Data Filtering",
      "metadata": {
        "tags": [],
        "cell_id": "00001-4bb1813f-5bad-4647-8200-776070d53331",
        "deepnote_cell_type": "markdown"
      }
    },
    {
      "cell_type": "markdown",
      "source": "### Definition",
      "metadata": {
        "tags": [],
        "cell_id": "00001-ec62f748-2bc3-4892-b35d-c2c687e55230",
        "deepnote_cell_type": "markdown"
      }
    },
    {
      "cell_type": "markdown",
      "source": "In this notebook, we will explain the process of data filtering. Data filtering is the process of removing unwanted data, or noise from the data set. For out particular data set, we will be filtering out frequencies due to the environment, such as frequencies from typical movememt of the Campanile, tremors casued by the elevators running, etc. This is an important step in the data interpretation process becuase it allows us to have a clear look at a specific aspect of the data without having to look at the other aspects of the data that we are not interested in. ",
      "metadata": {
        "tags": [],
        "cell_id": "00001-bde169b4-96d1-4436-a169-9cd941798534",
        "deepnote_cell_type": "markdown"
      }
    },
    {
      "cell_type": "markdown",
      "source": "### Terminologies",
      "metadata": {
        "tags": [],
        "cell_id": "00003-db86ce79-3385-4b92-b15d-1a8a5020b313",
        "deepnote_cell_type": "markdown"
      }
    },
    {
      "cell_type": "markdown",
      "source": "** The order of the filter** : The degree of the approximating polynomial (increasing order increases roll-off and brings the filter closer to the ideal response).",
      "metadata": {
        "tags": [],
        "cell_id": "00004-43909f7d-13b7-41ce-8579-adfcce3c082d",
        "deepnote_cell_type": "markdown"
      }
    },
    {
      "cell_type": "markdown",
      "source": "** Cutoff frequency**: The frequency beyond which the filter will not pass a signal.",
      "metadata": {
        "tags": [],
        "cell_id": "00005-a8646678-6dcd-48e8-bc02-c496c8f49626",
        "deepnote_cell_type": "markdown"
      }
    },
    {
      "cell_type": "markdown",
      "source": "### Types of Data Filters",
      "metadata": {
        "tags": [],
        "cell_id": "00002-eb5cd0c5-b2dd-4a66-ab80-0bf465d17feb",
        "deepnote_cell_type": "markdown"
      }
    },
    {
      "cell_type": "markdown",
      "source": "There are many different types of data filters. We list a few of them below: ",
      "metadata": {
        "tags": [],
        "cell_id": "00003-8b264b6c-1b78-41d9-9139-a1deeb80d865",
        "deepnote_cell_type": "markdown"
      }
    },
    {
      "cell_type": "markdown",
      "source": "- Explain the different types of filters and what they are used for (ie. what type of filtering ) --> Look at Data Filtering Doc\n    - low-pass, high-pass, band-pass and band-stop\n- Adding pictures or visualizations would be nice! But just remember to check copy rights and such! Getting sued would be bad :(",
      "metadata": {
        "tags": [],
        "cell_id": "00003-3ce15389-7d42-4446-878b-55527e6d9c20",
        "deepnote_cell_type": "markdown"
      }
    },
    {
      "cell_type": "markdown",
      "source": "##### Low-pass filter",
      "metadata": {
        "tags": [],
        "cell_id": "00006-ce52ef42-803e-4feb-ade6-d0547bfa950e",
        "deepnote_cell_type": "markdown"
      }
    },
    {
      "cell_type": "markdown",
      "source": "##### High-pass filter",
      "metadata": {
        "tags": [],
        "cell_id": "00007-8d92c516-4364-42b2-be72-865273096506",
        "deepnote_cell_type": "markdown"
      }
    },
    {
      "cell_type": "markdown",
      "source": "##### Band-pass filter",
      "metadata": {
        "tags": [],
        "cell_id": "00008-a0d7602b-e974-469e-8e98-f20833054d0b",
        "deepnote_cell_type": "markdown"
      }
    },
    {
      "cell_type": "markdown",
      "source": "",
      "metadata": {
        "tags": [],
        "cell_id": "00009-056d8d4f-a90b-4347-8d5a-fe9be03aa691",
        "deepnote_cell_type": "markdown"
      }
    },
    {
      "cell_type": "markdown",
      "source": "### Python Libraries",
      "metadata": {
        "tags": [],
        "cell_id": "00006-a7fcdf11-6917-49bc-87a3-f3a58ad81ebb",
        "deepnote_cell_type": "markdown"
      }
    },
    {
      "cell_type": "markdown",
      "source": "Layout two or three data filtering libraries",
      "metadata": {
        "tags": [],
        "cell_id": "00007-1dc4ec02-bc71-4049-8e5d-d105c1ea8167",
        "deepnote_cell_type": "markdown"
      }
    },
    {
      "cell_type": "markdown",
      "source": "### Implementing a Filter",
      "metadata": {
        "tags": [],
        "cell_id": "00004-9e9c4b00-8833-432a-afa3-1e13e1d94a10",
        "deepnote_cell_type": "markdown"
      }
    },
    {
      "cell_type": "markdown",
      "source": "- Implement a filter --> look at the Application section of Abdoul Aziz's Data Filtering Doc\nhttps://docs.google.com/document/d/1RrvwE-i_ubnPHogp0_EeSfUP_KT5h9WpMg1oqwxWa-4/edit\n   \n    - low pass?",
      "metadata": {
        "tags": [],
        "cell_id": "00005-ddf61b5e-8e95-4aa2-8ca3-f4b3811c79f6",
        "deepnote_cell_type": "markdown"
      }
    },
    {
      "cell_type": "markdown",
      "source": "",
      "metadata": {
        "tags": [],
        "cell_id": "00006-428771f7-2b46-4a6f-8bc9-410882ae531a",
        "deepnote_cell_type": "markdown"
      }
    },
    {
      "cell_type": "markdown",
      "source": "<a style='text-decoration:none;line-height:16px;display:flex;color:#5B5B62;padding:10px;justify-content:end;' href='https://deepnote.com?utm_source=created-in-deepnote-cell&projectId=54ebd495-2227-475e-8d87-73e1af6a492b' target=\"_blank\">\n<img alt='Created in deepnote.com' style='display:inline;max-height:16px;margin:0px;margin-right:7.5px;' src='data:image/svg+xml;base64,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' > </img>\nCreated in <span style='font-weight:600;margin-left:4px;'>Deepnote</span></a>",
      "metadata": {
        "tags": [],
        "created_in_deepnote_cell": true,
        "deepnote_cell_type": "markdown"
      }
    }
  ],
  "nbformat": 4,
  "nbformat_minor": 2,
  "metadata": {
    "orig_nbformat": 2,
    "deepnote_notebook_id": "6171abe5-bf85-4e82-a378-3a3e13dd1b2a",
    "deepnote": {},
    "deepnote_execution_queue": []
  }
}