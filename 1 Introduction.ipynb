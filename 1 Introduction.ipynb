{
  "cells": [
    {
      "cell_type": "markdown",
      "source": "# <center> Introduction",
      "metadata": {
        "tags": [],
        "cell_id": "00001-cb416d1b-ba02-4644-9d88-5b95474dbf3c",
        "deepnote_cell_type": "markdown"
      }
    },
    {
      "cell_type": "markdown",
      "source": "Welcome to the first notebook of this summer program! Throughout the course of this week you will be working through 5 notebooks that take you through the steps of the data interpretation process, which include:\n\n1. **Introduction to Juptyter**\n2. **Data Cleaning & Normalization**\n3. **Visualization Building**\n4. **Fast Fourier Transform & Data Filtering**\n5. **Numerical Differentiation & Differential Equation**\n\nIn this first notebook, we will go through the basics of Jupyter Notebooks, Python coding, Python packages and visualization building. All of this knowledge will be used in the later notebooks! As a breif disclaimer, this notebook will be slightly more texted based in order to set up a strong foundational understanding needed for the subsequent notebooks. ",
      "metadata": {
        "tags": [],
        "cell_id": "00002-cff12b04-3bfc-493d-8871-150531ea318b",
        "deepnote_cell_type": "markdown"
      }
    },
    {
      "cell_type": "markdown",
      "source": "<br>\n--\n##  Introduction to Jupyter Notebooks",
      "metadata": {
        "tags": [],
        "cell_id": "00002-624d424c-ba30-49e5-b3e4-2439f2f72909",
        "deepnote_cell_type": "markdown"
      }
    },
    {
      "cell_type": "markdown",
      "source": "This lab is set up in a Jupyter Notebook. Notebooks can contain anything from live code, to written text, equations or visualizations. Jupyter Notebooks are useful because is supports a wide array of medias, and results in a document that is highly interactive. The combination of written text, visualizations and code allows notebooks to be used in almost any discipline of study. \n\n> For the purpose of this program, notebooks will be used to take you through the data interpretation process, and eventually allow you interpret data collected from the Campanile on your own! \n\nBefore working with the data, let's go through some basics of Jupyter Notebooks.",
      "metadata": {
        "tags": [],
        "cell_id": "00003-9bfb32f5-f89c-42a9-a021-54e76ecc2af3",
        "deepnote_cell_type": "markdown"
      }
    },
    {
      "cell_type": "markdown",
      "source": "### Types of Cells\nThe content of notebooks are written into rectangular sections called cells.There are two types of cells in Jupyter, **code** cells and **markdown** cells. **Code cells**, as you can imagine, contain code in Python, the programming language that we will be using throughout this notebook.  **Markdown cells**, such as this one, contain written text. You can select any cell by clicking on it one.",
      "metadata": {
        "tags": [],
        "cell_id": "00002-939f9099-24cb-4723-ba62-59e3be2178d7",
        "deepnote_cell_type": "markdown"
      }
    },
    {
      "cell_type": "markdown",
      "source": "### Running Cells\n'Running' a cell is similar to pressing 'Enter' on a calculator once you've typed in an expression; it computes all of the expressions contained within the cell.\n\nTo run a cell, you can do one of the following:\n\n- press **Shift + Enter**\n- click the **Run** button on the top tool bar\n\nRunning a markdown cell will embed the text into the notebook and running a code cell will evaluate the code and display its output under the cell. \n\nLet's try it! **Run the code cell below.**",
      "metadata": {
        "tags": [],
        "cell_id": "00003-a495497d-1218-4a9f-8440-bdfc39afa2e6",
        "deepnote_cell_type": "markdown"
      }
    },
    {
      "cell_type": "code",
      "metadata": {
        "tags": [],
        "cell_id": "00005-06dd28d9-4465-487a-9791-68a06c24d5a2",
        "deepnote_to_be_reexecuted": false,
        "source_hash": "fc071345",
        "execution_millis": 64,
        "execution_start": 1617042024688,
        "deepnote_cell_type": "code"
      },
      "source": "print(\"Hello World!\")",
      "execution_count": null,
      "outputs": [
        {
          "name": "stdout",
          "text": "Hello World!\n",
          "output_type": "stream"
        }
      ]
    },
    {
      "cell_type": "markdown",
      "source": "### Editing and Saving\n\n- To **edit** a cell, simply double click on the desired cell and begin typing. The cell that you are currently working in will be highlighted by a green box.\n- To **save** the notebook, either click *Ctl + S* or navigate to the \"File\" dropdown and select \"Save and Checkpoint\"",
      "metadata": {
        "tags": [],
        "cell_id": "00005-4c02fe0a-e4f5-4e7a-832a-6680292c9788",
        "deepnote_cell_type": "markdown"
      }
    },
    {
      "cell_type": "markdown",
      "source": "<br>\n--\n## Python Basics",
      "metadata": {
        "tags": [],
        "cell_id": "00006-eba494c5-e13d-4185-bcd9-332d1923ad2f",
        "deepnote_cell_type": "markdown"
      }
    },
    {
      "cell_type": "markdown",
      "source": "In this section we will briefly review the main functions that you will be using throughout the course of this program.\n\n- *We can figure out the specifics of this later on*",
      "metadata": {
        "tags": [],
        "cell_id": "00007-ddf24ba6-8bf3-477a-ac33-33567adb6240",
        "deepnote_cell_type": "markdown"
      }
    },
    {
      "cell_type": "markdown",
      "source": "<br>\n--\n## Python Libraries & Packages",
      "metadata": {
        "tags": [],
        "cell_id": "00006-0847bde7-4608-4788-98cc-128684655ffa",
        "deepnote_cell_type": "markdown"
      }
    },
    {
      "cell_type": "markdown",
      "source": "As we conduct data science, we may need tools that we have not yet written. Luckily, in Python, many people have written code that is made available to use for free. Aggregates of functions, definitions and statements are groups together into packages. Many packages are collected into libraries. Python has over 137,000 libraries which we can reference and use to help us with data science.\n\nHere is a list of the [20 most commonly used libraries in Python](https://data-flair.training/blogs/python-libraries/)\n",
      "metadata": {
        "tags": [],
        "cell_id": "00011-31f72e2e-4075-44f1-9492-dee130ef766c",
        "deepnote_cell_type": "markdown"
      }
    },
    {
      "cell_type": "markdown",
      "source": "In order to use a library, we will first import the library into our workspace.\n<p/>\nIf we want to use a library named numpy, we type: \"import LibraryName\"\n<p/>",
      "metadata": {
        "tags": [],
        "cell_id": "00012-5d2f404a-f12e-4129-9407-01dacff048c2",
        "deepnote_cell_type": "markdown"
      }
    },
    {
      "cell_type": "markdown",
      "source": "### Let's do some practice!",
      "metadata": {
        "tags": [],
        "cell_id": "00013-b0e14445-166e-4cd3-8bcd-fb7c6fb123f2",
        "deepnote_cell_type": "markdown"
      }
    },
    {
      "cell_type": "markdown",
      "source": "Numerical Python or Numpy is a Python library used for performing numerical computations.\nThe following line of code will import the Numpy library into our workspace. \n\n**Let's run the following line of code.**",
      "metadata": {
        "tags": [],
        "cell_id": "00013-3fbe9289-4a94-4c6c-9ad1-0751d3daf51e",
        "deepnote_cell_type": "markdown"
      }
    },
    {
      "cell_type": "code",
      "metadata": {
        "tags": [],
        "cell_id": "00013-b0b1bbae-6e63-402c-a094-a5123bf436d2",
        "deepnote_to_be_reexecuted": false,
        "source_hash": "4e8264ae",
        "execution_millis": 0,
        "execution_start": 1617042024689,
        "deepnote_cell_type": "code"
      },
      "source": "import numpy",
      "execution_count": null,
      "outputs": []
    },
    {
      "cell_type": "markdown",
      "source": "Numpy is a bit long to type out all the time. Often programmers shorten the name so it is quicker to reference.\nTo do this, we will rename numpy to \"np\" by running the following line of code.",
      "metadata": {
        "tags": [],
        "cell_id": "00015-a2e6836e-77d1-4841-86a8-f56f884dbae3",
        "deepnote_cell_type": "markdown"
      }
    },
    {
      "cell_type": "code",
      "metadata": {
        "tags": [],
        "cell_id": "00016-f0bcf9a5-51a4-4374-b382-3e09bb781b89",
        "deepnote_to_be_reexecuted": false,
        "source_hash": "c2602aa8",
        "execution_millis": 71,
        "execution_start": 1617042024690,
        "deepnote_cell_type": "code"
      },
      "source": "import numpy as np",
      "execution_count": null,
      "outputs": []
    },
    {
      "cell_type": "markdown",
      "source": "After importing the library, we can use functions within the library. We cannot take the cosine of a number in Python without an external library. Fortunately, Numpy has a cosine function we can use.\n<p/>\nTo take the cosine of 5, we will reference the Numpy library and its function by writing:\"np.cos(5)\" \n<p/>\nTry using Numpy's cosine function to find the cosine of 20.\n<p/>\n*Hint: Answer should be: 0.40808206181339196\n",
      "metadata": {
        "tags": [],
        "cell_id": "00015-54209130-c9f4-40f3-be63-ef388eaa2c9c",
        "deepnote_cell_type": "markdown"
      }
    },
    {
      "cell_type": "code",
      "metadata": {
        "tags": [],
        "cell_id": "00015-9557f23a-c7e9-4cde-919b-969abbdac8b1",
        "deepnote_to_be_reexecuted": false,
        "source_hash": "40120c0f",
        "execution_millis": 1,
        "execution_start": 1617042024761,
        "deepnote_cell_type": "code"
      },
      "source": "#Type in your code here. Compute the cosine of 20 using the numpy library.",
      "execution_count": null,
      "outputs": []
    },
    {
      "cell_type": "markdown",
      "source": "There is a library in Python named, \"seaborn\".  Import this library in the next line of code.",
      "metadata": {
        "tags": [],
        "cell_id": "00017-a814691a-c743-4528-8e2f-aa24ef32dc53",
        "deepnote_cell_type": "markdown"
      }
    },
    {
      "cell_type": "code",
      "metadata": {
        "tags": [],
        "cell_id": "00018-1d648f8a-e458-4c73-8795-c1e68be9a299",
        "deepnote_to_be_reexecuted": false,
        "source_hash": "cf5c9d25",
        "execution_millis": 0,
        "execution_start": 1617042024762,
        "deepnote_cell_type": "code"
      },
      "source": "#Type in your code here. Import the seaborn library.",
      "execution_count": null,
      "outputs": []
    },
    {
      "cell_type": "markdown",
      "source": "**Run the following line of code.**\n\nIf you have imported the seaborn library correctly, you will see a scatterplot.You do not need to know what the following block of code does.",
      "metadata": {
        "tags": [],
        "cell_id": "00019-53d13757-7cee-44a0-92d3-54561901021a",
        "deepnote_cell_type": "markdown"
      }
    },
    {
      "cell_type": "code",
      "metadata": {
        "tags": [],
        "cell_id": "00018-ba756bff-2e0a-4717-b85d-63449e34a81c",
        "deepnote_to_be_reexecuted": false,
        "source_hash": "344f94ef",
        "execution_millis": 1504,
        "execution_start": 1617042024763,
        "deepnote_cell_type": "code"
      },
      "source": "#Run this cell. You do not need to know what this block of code is doing.\nimport pandas as pd\nimport seaborn\ndf = pd.read_csv(\"election_data.csv\")\nTrump16_margin = df['Trump16 margin']\nObama12_margin = df['Obama12 margin']\nax = seaborn.scatterplot(Trump16_margin, Obama12_margin)\nax.set_title('Trump 2016 Election Margins vs Obama 2012 Election Margins');",
      "execution_count": null,
      "outputs": [
        {
          "name": "stderr",
          "text": "/shared-libs/python3.7/py/lib/python3.7/site-packages/seaborn/_decorators.py:43: FutureWarning: Pass the following variables as keyword args: x, y. From version 0.12, the only valid positional argument will be `data`, and passing other arguments without an explicit keyword will result in an error or misinterpretation.\n  FutureWarning\n",
          "output_type": "stream"
        },
        {
          "data": {
            "text/plain": "<Figure size 432x288 with 1 Axes>",
            "image/png": "[encoded data removed]"
          },
          "metadata": {
            "needs_background": "light"
          },
          "output_type": "display_data"
        }
      ]
    },
    {
      "cell_type": "markdown",
      "source": "<br>\n--\n## Datascience vs Pandas?\n",
      "metadata": {
        "tags": [],
        "cell_id": "00015-dbe42f99-9d9a-4fa5-8f17-e10dcfff04e1",
        "deepnote_cell_type": "markdown"
      }
    },
    {
      "cell_type": "markdown",
      "source": "For those of you that have taken Data 8, you will most likely be familiar with the datascience library. The **datascience** library was created specifically for Data 8, and contains all the functions needed for the purpose of the Berkeley course. While this package is useful in the context of the course, it is not a package that is used in the data science world. \n\nA package that is most widely used in the data science industry is the **pandas** package. Conceptually, the datascience package is constructed in a similar way to pandas, with small functional changes. Through these 5 notebooks, we will be using pandas as oppsed to the datascience library. ",
      "metadata": {
        "tags": [],
        "cell_id": "00024-1661b8d2-bae4-4e09-b010-27267ecb5e23",
        "deepnote_cell_type": "markdown"
      }
    },
    {
      "cell_type": "markdown",
      "source": "### What's the Difference Anyway?\n\nThe datascience library is limited to functions that are needed for Data 8, so not everything you could want to do is  possible. Luckily for us, pandas exists. With all the extra power pandas gives us, it is important to understand the differences between datascience and pandas, and where to find any extra information. Working with the datascience library is itself a great resource, and it makes learning and understanding pandas easier.\n\n**Run the cell below** to import the datasciene and pandas packages.",
      "metadata": {
        "tags": [],
        "cell_id": "00024-297c3161-7988-44ff-ab45-bbf390bd1670",
        "deepnote_cell_type": "markdown"
      }
    },
    {
      "cell_type": "code",
      "metadata": {
        "tags": [],
        "cell_id": "00016-ac966808-4124-4c86-99b5-ab0fff876a38",
        "deepnote_to_be_reexecuted": false,
        "source_hash": "f6613662",
        "execution_millis": 940,
        "execution_start": 1617042026263,
        "deepnote_cell_type": "code"
      },
      "source": "import pandas as pd\nfrom datascience import *\nimport numpy as np",
      "execution_count": null,
      "outputs": []
    },
    {
      "cell_type": "markdown",
      "source": "Before we get to using the packages, let's talk a little bit about finding more detailed information. Linked below are a few resources that can help you become more familiar with each package. \n\n**Data 8 Reference sheet:** http://data8.org/sp21/python-reference.html\n<br> **Datascience Documentation:** http://data8.org/datascience/\n<br> **Pandas Documentation:** https://pandas.pydata.org/docs/user_guide/index.html#user-guide",
      "metadata": {
        "tags": [],
        "cell_id": "00017-855cfe8c-3b4d-4269-80b9-c36c5760a356",
        "deepnote_cell_type": "markdown"
      }
    },
    {
      "cell_type": "markdown",
      "source": "### Netflix Dataset\n\nNow we will use this dataset to take a closer look at the differences between the Datascience and Pandas packages. Let's start by reading in the data though datascience and pandas.",
      "metadata": {
        "tags": [],
        "cell_id": "00028-3652db70-ba2e-4733-87de-57f0be3e0196",
        "deepnote_cell_type": "markdown"
      }
    },
    {
      "cell_type": "code",
      "metadata": {
        "tags": [],
        "cell_id": "00018-eacbfa68-7709-4317-b579-907f71e98fd2",
        "deepnote_to_be_reexecuted": false,
        "source_hash": "831906a5",
        "execution_millis": 216,
        "execution_start": 1617042027206,
        "deepnote_cell_type": "code"
      },
      "source": "# datascience library\n# netflix dataset from https://www.kaggle.com/shivamb/netflix-shows\nnetflix_table = Table().read_table(\"Introduction_Demos/netflix_titles.csv\") # reads the table \nnetflix_table.show(3) # shows the first three rows of the netflix_data table",
      "execution_count": null,
      "outputs": [
        {
          "data": {
            "text/plain": "<IPython.core.display.HTML object>",
            "text/html": "<table border=\"1\" class=\"dataframe\">\n    <thead>\n        <tr>\n            <th>show_id</th> <th>type</th> <th>title</th> <th>director</th> <th>cast</th> <th>country</th> <th>date_added</th> <th>release_year</th> <th>rating</th> <th>duration</th> <th>listed_in</th> <th>description</th>\n        </tr>\n    </thead>\n    <tbody>\n        <tr>\n            <td>s1     </td> <td>TV Show</td> <td>3%   </td> <td>nan              </td> <td>João Miguel, Bianca Comparato, Michel Gomes, Rodolfo Val ...</td> <td>Brazil   </td> <td>August 14, 2020  </td> <td>2020        </td> <td>TV-MA </td> <td>4 Seasons</td> <td>International TV Shows, TV Dramas, TV Sci-Fi & Fantasy</td> <td>In a future where the elite inhabit an island paradise f ...</td>\n        </tr>\n        <tr>\n            <td>s2     </td> <td>Movie  </td> <td>7:19 </td> <td>Jorge Michel Grau</td> <td>Demián Bichir, Héctor Bonilla, Oscar Serrano, Azalia Ort ...</td> <td>Mexico   </td> <td>December 23, 2016</td> <td>2016        </td> <td>TV-MA </td> <td>93 min   </td> <td>Dramas, International Movies                          </td> <td>After a devastating earthquake hits Mexico City, trapped ...</td>\n        </tr>\n        <tr>\n            <td>s3     </td> <td>Movie  </td> <td>23:59</td> <td>Gilbert Chan     </td> <td>Tedd Chan, Stella Chung, Henley Hii, Lawrence Koh, Tommy ...</td> <td>Singapore</td> <td>December 20, 2018</td> <td>2011        </td> <td>R     </td> <td>78 min   </td> <td>Horror Movies, International Movies                   </td> <td>When an army recruit is found dead, his fellow soldiers  ...</td>\n        </tr>\n    </tbody>\n</table>\n<p>... (7784 rows omitted)</p>"
          },
          "metadata": {},
          "output_type": "display_data"
        }
      ]
    },
    {
      "cell_type": "code",
      "metadata": {
        "tags": [],
        "cell_id": "00019-8b95de46-d93d-49dd-bc39-314d76222427",
        "deepnote_to_be_reexecuted": false,
        "source_hash": "1e5f2349",
        "execution_millis": 113,
        "execution_start": 1617042027309,
        "deepnote_cell_type": "code"
      },
      "source": "# pandas library\nnetflix_dataframe = pd.read_csv(\"Introduction_Demos/netflix_titles.csv\")\nnetflix_dataframe.head(3) # shows the three five rows of the netflix_data dataframe",
      "execution_count": null,
      "outputs": [
        {
          "output_type": "execute_result",
          "execution_count": 9,
          "data": {
            "application/vnd.deepnote.dataframe.v2+json": {
              "row_count": 3,
              "column_count": 12,
              "columns": [
                {
                  "name": "show_id",
                  "dtype": "object",
                  "stats": {
                    "unique_count": 3,
                    "nan_count": 0,
                    "categories": [
                      {
                        "name": "s1",
                        "count": 1
                      },
                      {
                        "name": "s2",
                        "count": 1
                      },
                      {
                        "name": "s3",
                        "count": 1
                      }
                    ]
                  }
                },
                {
                  "name": "type",
                  "dtype": "object",
                  "stats": {
                    "unique_count": 2,
                    "nan_count": 0,
                    "categories": [
                      {
                        "name": "Movie",
                        "count": 2
                      },
                      {
                        "name": "TV Show",
                        "count": 1
                      }
                    ]
                  }
                },
                {
                  "name": "title",
                  "dtype": "object",
                  "stats": {
                    "unique_count": 3,
                    "nan_count": 0,
                    "categories": [
                      {
                        "name": "3%",
                        "count": 1
                      },
                      {
                        "name": "7:19",
                        "count": 1
                      },
                      {
                        "name": "23:59",
                        "count": 1
                      }
                    ]
                  }
                },
                {
                  "name": "director",
                  "dtype": "object",
                  "stats": {
                    "unique_count": 2,
                    "nan_count": 1,
                    "categories": [
                      {
                        "name": "Jorge Michel Grau",
                        "count": 1
                      },
                      {
                        "name": "Gilbert Chan",
                        "count": 1
                      },
                      {
                        "name": "Missing",
                        "count": 1
                      }
                    ]
                  }
                },
                {
                  "name": "cast",
                  "dtype": "object",
                  "stats": {
                    "unique_count": 3,
                    "nan_count": 0,
                    "categories": [
                      {
                        "name": "João Miguel, Bianca Comparato, Michel Gomes, Rodolfo Valente, Vaneza Oliveira, Rafael Lozano, Viviane Porto, Mel Fronckowiak, Sergio Mamberti, Zezé Motta, Celso Frateschi",
                        "count": 1
                      },
                      {
                        "name": "Demián Bichir, Héctor Bonilla, Oscar Serrano, Azalia Ortiz, Octavio Michel, Carmen Beato",
                        "count": 1
                      },
                      {
                        "name": "Tedd Chan, Stella Chung, Henley Hii, Lawrence Koh, Tommy Kuan, Josh Lai, Mark Lee, Susan Leong, Benjamin Lim",
                        "count": 1
                      }
                    ]
                  }
                },
                {
                  "name": "country",
                  "dtype": "object",
                  "stats": {
                    "unique_count": 3,
                    "nan_count": 0,
                    "categories": [
                      {
                        "name": "Brazil",
                        "count": 1
                      },
                      {
                        "name": "Mexico",
                        "count": 1
                      },
                      {
                        "name": "Singapore",
                        "count": 1
                      }
                    ]
                  }
                },
                {
                  "name": "date_added",
                  "dtype": "object",
                  "stats": {
                    "unique_count": 3,
                    "nan_count": 0,
                    "categories": [
                      {
                        "name": "August 14, 2020",
                        "count": 1
                      },
                      {
                        "name": "December 23, 2016",
                        "count": 1
                      },
                      {
                        "name": "December 20, 2018",
                        "count": 1
                      }
                    ]
                  }
                },
                {
                  "name": "release_year",
                  "dtype": "int64",
                  "stats": {
                    "unique_count": 3,
                    "nan_count": 0,
                    "min": 2011,
                    "max": 2020,
                    "histogram": [
                      {
                        "bin_start": 2011,
                        "bin_end": 2011.9,
                        "count": 1
                      },
                      {
                        "bin_start": 2011.9,
                        "bin_end": 2012.8,
                        "count": 0
                      },
                      {
                        "bin_start": 2012.8,
                        "bin_end": 2013.7,
                        "count": 0
                      },
                      {
                        "bin_start": 2013.7,
                        "bin_end": 2014.6,
                        "count": 0
                      },
                      {
                        "bin_start": 2014.6,
                        "bin_end": 2015.5,
                        "count": 0
                      },
                      {
                        "bin_start": 2015.5,
                        "bin_end": 2016.4,
                        "count": 1
                      },
                      {
                        "bin_start": 2016.4,
                        "bin_end": 2017.3,
                        "count": 0
                      },
                      {
                        "bin_start": 2017.3,
                        "bin_end": 2018.2,
                        "count": 0
                      },
                      {
                        "bin_start": 2018.2,
                        "bin_end": 2019.1,
                        "count": 0
                      },
                      {
                        "bin_start": 2019.1,
                        "bin_end": 2020,
                        "count": 1
                      }
                    ]
                  }
                },
                {
                  "name": "rating",
                  "dtype": "object",
                  "stats": {
                    "unique_count": 2,
                    "nan_count": 0,
                    "categories": [
                      {
                        "name": "TV-MA",
                        "count": 2
                      },
                      {
                        "name": "R",
                        "count": 1
                      }
                    ]
                  }
                },
                {
                  "name": "duration",
                  "dtype": "object",
                  "stats": {
                    "unique_count": 3,
                    "nan_count": 0,
                    "categories": [
                      {
                        "name": "4 Seasons",
                        "count": 1
                      },
                      {
                        "name": "93 min",
                        "count": 1
                      },
                      {
                        "name": "78 min",
                        "count": 1
                      }
                    ]
                  }
                },
                {
                  "name": "listed_in",
                  "dtype": "object",
                  "stats": {
                    "unique_count": 3,
                    "nan_count": 0,
                    "categories": [
                      {
                        "name": "International TV Shows, TV Dramas, TV Sci-Fi & Fantasy",
                        "count": 1
                      },
                      {
                        "name": "Dramas, International Movies",
                        "count": 1
                      },
                      {
                        "name": "Horror Movies, International Movies",
                        "count": 1
                      }
                    ]
                  }
                },
                {
                  "name": "description",
                  "dtype": "object",
                  "stats": {
                    "unique_count": 3,
                    "nan_count": 0,
                    "categories": [
                      {
                        "name": "In a future where the elite inhabit an island paradise far from the crowded slums, you get one chance to join the 3% saved from squalor.",
                        "count": 1
                      },
                      {
                        "name": "After a devastating earthquake hits Mexico City, trapped survivors from all walks of life wait to be rescued while trying desperately to stay alive.",
                        "count": 1
                      },
                      {
                        "name": "When an army recruit is found dead, his fellow soldiers are forced to confront a terrifying secret that's haunting their jungle island training camp.",
                        "count": 1
                      }
                    ]
                  }
                },
                {
                  "name": "_deepnote_index_column",
                  "dtype": "int64"
                }
              ],
              "rows_top": [
                {
                  "show_id": "s1",
                  "type": "TV Show",
                  "title": "3%",
                  "director": "nan",
                  "cast": "João Miguel, Bianca Comparato, Michel Gomes, Rodolfo Valente, Vaneza Oliveira, Rafael Lozano, Viviane Porto, Mel Fronckowiak, Sergio Mamberti, Zezé Motta, Celso Frateschi",
                  "country": "Brazil",
                  "date_added": "August 14, 2020",
                  "release_year": 2020,
                  "rating": "TV-MA",
                  "duration": "4 Seasons",
                  "listed_in": "International TV Shows, TV Dramas, TV Sci-Fi & Fantasy",
                  "description": "In a future where the elite inhabit an island paradise far from the crowded slums, you get one chance to join the 3% saved from squalor.",
                  "_deepnote_index_column": 0
                },
                {
                  "show_id": "s2",
                  "type": "Movie",
                  "title": "7:19",
                  "director": "Jorge Michel Grau",
                  "cast": "Demián Bichir, Héctor Bonilla, Oscar Serrano, Azalia Ortiz, Octavio Michel, Carmen Beato",
                  "country": "Mexico",
                  "date_added": "December 23, 2016",
                  "release_year": 2016,
                  "rating": "TV-MA",
                  "duration": "93 min",
                  "listed_in": "Dramas, International Movies",
                  "description": "After a devastating earthquake hits Mexico City, trapped survivors from all walks of life wait to be rescued while trying desperately to stay alive.",
                  "_deepnote_index_column": 1
                },
                {
                  "show_id": "s3",
                  "type": "Movie",
                  "title": "23:59",
                  "director": "Gilbert Chan",
                  "cast": "Tedd Chan, Stella Chung, Henley Hii, Lawrence Koh, Tommy Kuan, Josh Lai, Mark Lee, Susan Leong, Benjamin Lim",
                  "country": "Singapore",
                  "date_added": "December 20, 2018",
                  "release_year": 2011,
                  "rating": "R",
                  "duration": "78 min",
                  "listed_in": "Horror Movies, International Movies",
                  "description": "When an army recruit is found dead, his fellow soldiers are forced to confront a terrifying secret that's haunting their jungle island training camp.",
                  "_deepnote_index_column": 2
                }
              ],
              "rows_bottom": null
            },
            "text/plain": "  show_id     type  title           director  \\\n0      s1  TV Show     3%                NaN   \n1      s2    Movie   7:19  Jorge Michel Grau   \n2      s3    Movie  23:59       Gilbert Chan   \n\n                                                cast    country  \\\n0  João Miguel, Bianca Comparato, Michel Gomes, R...     Brazil   \n1  Demián Bichir, Héctor Bonilla, Oscar Serrano, ...     Mexico   \n2  Tedd Chan, Stella Chung, Henley Hii, Lawrence ...  Singapore   \n\n          date_added  release_year rating   duration  \\\n0    August 14, 2020          2020  TV-MA  4 Seasons   \n1  December 23, 2016          2016  TV-MA     93 min   \n2  December 20, 2018          2011      R     78 min   \n\n                                           listed_in  \\\n0  International TV Shows, TV Dramas, TV Sci-Fi &...   \n1                       Dramas, International Movies   \n2                Horror Movies, International Movies   \n\n                                         description  \n0  In a future where the elite inhabit an island ...  \n1  After a devastating earthquake hits Mexico Cit...  \n2  When an army recruit is found dead, his fellow...  ",
            "text/html": "<div>\n<style scoped>\n    .dataframe tbody tr th:only-of-type {\n        vertical-align: middle;\n    }\n\n    .dataframe tbody tr th {\n        vertical-align: top;\n    }\n\n    .dataframe thead th {\n        text-align: right;\n    }\n</style>\n<table border=\"1\" class=\"dataframe\">\n  <thead>\n    <tr style=\"text-align: right;\">\n      <th></th>\n      <th>show_id</th>\n      <th>type</th>\n      <th>title</th>\n      <th>director</th>\n      <th>cast</th>\n      <th>country</th>\n      <th>date_added</th>\n      <th>release_year</th>\n      <th>rating</th>\n      <th>duration</th>\n      <th>listed_in</th>\n      <th>description</th>\n    </tr>\n  </thead>\n  <tbody>\n    <tr>\n      <th>0</th>\n      <td>s1</td>\n      <td>TV Show</td>\n      <td>3%</td>\n      <td>NaN</td>\n      <td>João Miguel, Bianca Comparato, Michel Gomes, R...</td>\n      <td>Brazil</td>\n      <td>August 14, 2020</td>\n      <td>2020</td>\n      <td>TV-MA</td>\n      <td>4 Seasons</td>\n      <td>International TV Shows, TV Dramas, TV Sci-Fi &amp;...</td>\n      <td>In a future where the elite inhabit an island ...</td>\n    </tr>\n    <tr>\n      <th>1</th>\n      <td>s2</td>\n      <td>Movie</td>\n      <td>7:19</td>\n      <td>Jorge Michel Grau</td>\n      <td>Demián Bichir, Héctor Bonilla, Oscar Serrano, ...</td>\n      <td>Mexico</td>\n      <td>December 23, 2016</td>\n      <td>2016</td>\n      <td>TV-MA</td>\n      <td>93 min</td>\n      <td>Dramas, International Movies</td>\n      <td>After a devastating earthquake hits Mexico Cit...</td>\n    </tr>\n    <tr>\n      <th>2</th>\n      <td>s3</td>\n      <td>Movie</td>\n      <td>23:59</td>\n      <td>Gilbert Chan</td>\n      <td>Tedd Chan, Stella Chung, Henley Hii, Lawrence ...</td>\n      <td>Singapore</td>\n      <td>December 20, 2018</td>\n      <td>2011</td>\n      <td>R</td>\n      <td>78 min</td>\n      <td>Horror Movies, International Movies</td>\n      <td>When an army recruit is found dead, his fellow...</td>\n    </tr>\n  </tbody>\n</table>\n</div>"
          },
          "metadata": {}
        }
      ]
    },
    {
      "cell_type": "markdown",
      "source": "You can see that while the contents above are the same in both cases, there are **minor differences!** \n\nFirst, you may have noticed I named the second table _netflix_dataframe_. This is beacuse in pandas, this type of object is called a DataFrame (df), which is something you can find in the pandas documentation. Notably, there are some extra numbers on the far left, which simply indicate the indices of the dataframe.\n\nSecond, there was a different method being called to see the first three rows of the netflix data. In the datascience library, you can use **tbl.show(n)**. In pandas, you would use **df.head(n)** to see the first n rows. A very small difference! Now, let's look at a case where the syntax of the code changes a little bit more. ",
      "metadata": {
        "tags": [],
        "cell_id": "00019-096dea4f-8aeb-42cf-a797-7c1c39cc713b",
        "deepnote_cell_type": "markdown"
      }
    },
    {
      "cell_type": "markdown",
      "source": "### Number of Rows?\n\nLooking at the bottom of the netflix table, the Data 8 team was nice enough to show the number of rows omitted, which allows us to easily calculate the number of rows ourselves. Looking at the Data 8 Python Reference, we can also use **tbl.num_rows** to return the total number of rows. ",
      "metadata": {
        "tags": [],
        "cell_id": "00021-dcf57249-35cd-4212-b618-d047763a9ac6",
        "deepnote_cell_type": "markdown"
      }
    },
    {
      "cell_type": "code",
      "metadata": {
        "tags": [],
        "cell_id": "00022-b6b21173-1e23-4469-90cf-38f8e896b62f",
        "deepnote_to_be_reexecuted": false,
        "source_hash": "420ae982",
        "execution_millis": 14,
        "execution_start": 1617042027408,
        "deepnote_cell_type": "code"
      },
      "source": "netflix_table.num_rows",
      "execution_count": null,
      "outputs": [
        {
          "output_type": "execute_result",
          "execution_count": 10,
          "data": {
            "text/plain": "7787"
          },
          "metadata": {}
        }
      ]
    },
    {
      "cell_type": "markdown",
      "source": "But how do we do this in pandas? It is not as easy to find, so let's turn to one of our most trusted friends: _Google!_\n\nInevitably, there will be things you need to do that will not be covered by these brief introductions, and there will be times when you need a little more clarification. It is totally fine to use Google when doing this kind of work, so let's do just that!\n\n**Hint**: Look up \"pandas count number of rows\"\n\nChances are 1 of 2 things appeared at the top, a stack overflow post or the pandas documentation. Read over the stack overflow post, and for an extra challenge look up the pandas documentation for all 3 methods from the top comment! <br>If you do this, you might notice something called a **Series**. This is simply a _single_ column of a dataframe, and is useful to remember when reading official documentation.",
      "metadata": {
        "tags": [],
        "cell_id": "00023-a5fb6b8f-073d-47da-b1a8-f263bf28a827",
        "deepnote_cell_type": "markdown"
      }
    },
    {
      "cell_type": "code",
      "metadata": {
        "tags": [],
        "cell_id": "00024-9808af61-bdaf-4748-ae6c-76a73a32f483",
        "deepnote_to_be_reexecuted": false,
        "source_hash": "80963058",
        "execution_millis": 11,
        "execution_start": 1617042027433,
        "deepnote_cell_type": "code"
      },
      "source": "len1 = len(netflix_dataframe.index)\nlen2 = netflix_dataframe[netflix_dataframe.columns[0]].count() # counts the number of entries into 1 column\nlen3 = len(netflix_dataframe) # number of rows using the length function\nlen4 = netflix_dataframe.shape[0] # .shape returns an array [x, y]: x is num of rows, y num of cols\nprint(len1, len2, len3, len4)",
      "execution_count": null,
      "outputs": [
        {
          "name": "stdout",
          "text": "7787 7787 7787 7787\n",
          "output_type": "stream"
        }
      ]
    },
    {
      "cell_type": "markdown",
      "source": "### General Overview\nAs you can see, there are _at least_ 4 ways to calculate the number of rows of a dataframe, although there are more! Although there should not be any incredibly complex work in this notebook that requires you to land on Page 5 of a Google search, knowing when and how to use Google as a _**resource**_ is very important. \n\nHowever, much of what will be consistently used is in included in the datascience library, so below is a very general overview of the differences between the datascience library and pandas:\n\n**Remember:** _tables_ in datascience are called _dataframes_ in pandas. <br>\n**Generally,** each line is ordered _datascience_ --> _pandas_ for clarity.\n\n**Creating Tables/DataFrames**\n    \n    datascience --> Table().with_columns(column1, values1, column2, values2, ...) \n    pandas --> pd.DataFrame(data = {column1: values1, column2: values2, ...}) \n    # Columns are \"strings\", Values are [arrays].\n\n**Accessing Particular Values**\n\n    tbl[Column] --> df[Column].to_numpy() OR df[Column].to_list() # numpy array vs python list\n    tbl.select(Column, ...) --> df[[Column, ...]] # If you want a series, uses df[Column]\n\n**Accessing Particular Rows**\n\n    tbl.take(row_indeces) --> df[start_index:last_index] # does not include last_index\n\n**loc and iloc - Acessing Rows and Columns**\n\n    loc: accesses a group of rows or columns based on their label(s)    \n        netflix_dataframe.loc[:, [\"director\", \"cast\"]] # all rows, select only director & cast columns\n        netflix_dataframe.loc[[0, 1], [\"director\", \"cast\"]] # rows 0 & 1, director & cast columns\n        \n    iloc: accesses a group of rows or columns by their index\n        netflix_dataframe.iloc[:, 2:4] # all rows, columns 2-4 (not including 4)\n        netflix_dataframe.iloc[0:3, 2:4] # rows 0-3 (not including 3), columns 2-4 (not including 4)\n    \n    How would we select only the first 2 rows using iloc?\n        Answer: netflix_dataframe.iloc[0:2]\n\n**Renaming Columns**\n\n    tbl.relabel(old_label, new_label) --> df.rename(columns= {old_label : new_label, ...})\n\n**Conditional Selection**\n\n    tbl.where(Column, are(...)) --> df[df[column] (condition)] \n        netflix_tbl.where(\"release_year\", are.equal_to(2021)) # datascience\n        netflix_df[netflix_df[\"release_year\"] == 2021] # pandas\n    \n    # let's call (netflix_df[\"release_year\"] == 2021) a conditional\n    df[(conditional) & (conditional)] # if you have more than one conditional statement\n\n**Sorting Values in a Column**\n\n    tbl.sort(Column) --> df.sort_values(Column) # descending = False --> ascending = True\n   \n**Grouping**\n\n    tbl.group(Column(s), function) --> df.group\n    netflix_table.select([\"director\", \"release_year\"]).group(\"director\", collect=sum) # datascience\n    netflix_dataframe[[\"director\", \"release_year\"]].groupby(\"director\").sum() # pandas\n\n**Pivoting**\n\n    tbl.pivot(Column1, Column2, values, function) # datascience\n    df.pivot_table(values, Column2, Column1, function) # Column2 is index, Column1 is column_names",
      "metadata": {
        "tags": [],
        "cell_id": "00025-ed582e5d-06c1-417a-9855-80d21b7c3216",
        "deepnote_cell_type": "markdown"
      }
    },
    {
      "cell_type": "code",
      "metadata": {
        "tags": [],
        "cell_id": "00026-df58f272-a704-4762-9d04-d900ab0dcbfc",
        "deepnote_to_be_reexecuted": false,
        "source_hash": "4bd9e0e6",
        "execution_millis": 0,
        "execution_start": 1617042027434,
        "deepnote_cell_type": "code"
      },
      "source": "# Try out any of the pandas methods you just learned on the netflix_dataframe below!\n",
      "execution_count": null,
      "outputs": []
    },
    {
      "cell_type": "markdown",
      "source": "**Congratulations! You've finished this notebook!** This concludes the first notebook in this series! In this notebook we went over:\n\n- Introduction to Jupyter Notebooks\n- Python Basics\n- How to Use Python Packages & Libraries \n- The Difference Between Datascience & Pandas Packages \n\nIn the next notebook we will go over the basic steps in data preparation!",
      "metadata": {
        "tags": [],
        "cell_id": "00048-dff8571f-aae6-4a7f-ad50-a907f62775c6",
        "deepnote_cell_type": "markdown"
      }
    },
    {
      "cell_type": "markdown",
      "source": "",
      "metadata": {
        "tags": [],
        "cell_id": "00074-f88905bf-e303-4631-9032-7d7a3b7cd5e4",
        "deepnote_cell_type": "markdown"
      }
    },
    {
      "cell_type": "markdown",
      "source": "<a style='text-decoration:none;line-height:16px;display:flex;color:#5B5B62;padding:10px;justify-content:end;' href='https://deepnote.com?utm_source=created-in-deepnote-cell&projectId=54ebd495-2227-475e-8d87-73e1af6a492b' target=\"_blank\">\n<img alt='Created in deepnote.com' style='display:inline;max-height:16px;margin:0px;margin-right:7.5px;' src='data:image/svg+xml;base64,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' > </img>\nCreated in <span style='font-weight:600;margin-left:4px;'>Deepnote</span></a>",
      "metadata": {
        "tags": [],
        "created_in_deepnote_cell": true,
        "deepnote_cell_type": "markdown"
      }
    }
  ],
  "nbformat": 4,
  "nbformat_minor": 2,
  "metadata": {
    "orig_nbformat": 2,
    "deepnote_notebook_id": "ddaa6df8-0b43-4957-a6e7-2959f1b7a9d9",
    "deepnote": {},
    "deepnote_execution_queue": []
  }
}